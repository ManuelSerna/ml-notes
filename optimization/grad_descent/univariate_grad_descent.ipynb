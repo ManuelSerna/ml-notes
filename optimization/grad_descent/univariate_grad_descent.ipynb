{
 "cells": [
  {
   "cell_type": "markdown",
   "id": "8bea4a84",
   "metadata": {},
   "source": [
    "# Univariate (single-variable) Gradient Descent\n",
    "\n",
    "This is a simple demo showing how to minimize `f(x)=x^2` using gradient descent.\n",
    "\n",
    "We define the function below\n",
    "\n",
    "`f(x)=x^2`\n",
    "\n",
    "and we want to minimize `f` on `x`.\n",
    "\n",
    "We will use the below formula to find some `x*` such that `f(x)` is minimized,\n",
    "\n",
    "`x(i+1) = x(i) - lr*(d/df)`\n",
    "\n",
    "where `x(i)` is the current input, `x(i+1)` is the next approximation of `x*`, `lr` is the learning rate or step, and `(d/df)` is the derivative of `f` with respect to `x` (the slope of the tangent line)."
   ]
  },
  {
   "cell_type": "code",
   "execution_count": 1,
   "id": "46779acb",
   "metadata": {},
   "outputs": [],
   "source": [
    "def f(x: float):\n",
    "    return x*x"
   ]
  },
  {
   "cell_type": "code",
   "execution_count": 2,
   "id": "8fe5c2f9",
   "metadata": {},
   "outputs": [],
   "source": [
    "def df(x: float):\n",
    "    return 2.0*x"
   ]
  },
  {
   "cell_type": "code",
   "execution_count": 3,
   "id": "9b7d7521",
   "metadata": {},
   "outputs": [],
   "source": [
    "def update(xi: float, lr=float):\n",
    "    return xi - lr*df(xi)"
   ]
  },
  {
   "cell_type": "code",
   "execution_count": 4,
   "id": "265bf087",
   "metadata": {},
   "outputs": [],
   "source": [
    "def find_min(iterations: int, lr: int, start_x: float):\n",
    "    history = {\n",
    "        'x': [start_x],\n",
    "        'f(x)': [f(start_x)]\n",
    "    }\n",
    "    x = start_x\n",
    "    \n",
    "    for i in range(iterations):\n",
    "        x = update(x, lr)\n",
    "        history['x'].append(x)\n",
    "        history['f(x)'].append(f(x))\n",
    "    \n",
    "    return history"
   ]
  },
  {
   "cell_type": "code",
   "execution_count": 5,
   "id": "b553f25f",
   "metadata": {},
   "outputs": [],
   "source": [
    "n = 10\n",
    "lr = 0.25\n",
    "start_x = -6.0"
   ]
  },
  {
   "cell_type": "code",
   "execution_count": 6,
   "id": "7f687717",
   "metadata": {},
   "outputs": [],
   "source": [
    "history = find_min(n, lr, start_x)"
   ]
  },
  {
   "cell_type": "code",
   "execution_count": 7,
   "id": "825bdde6",
   "metadata": {},
   "outputs": [
    {
     "data": {
      "text/plain": [
       "{'x': [-6.0,\n",
       "  -3.0,\n",
       "  -1.5,\n",
       "  -0.75,\n",
       "  -0.375,\n",
       "  -0.1875,\n",
       "  -0.09375,\n",
       "  -0.046875,\n",
       "  -0.0234375,\n",
       "  -0.01171875,\n",
       "  -0.005859375],\n",
       " 'f(x)': [36.0,\n",
       "  9.0,\n",
       "  2.25,\n",
       "  0.5625,\n",
       "  0.140625,\n",
       "  0.03515625,\n",
       "  0.0087890625,\n",
       "  0.002197265625,\n",
       "  0.00054931640625,\n",
       "  0.0001373291015625,\n",
       "  3.4332275390625e-05]}"
      ]
     },
     "execution_count": 7,
     "metadata": {},
     "output_type": "execute_result"
    }
   ],
   "source": [
    "history"
   ]
  },
  {
   "cell_type": "code",
   "execution_count": 8,
   "id": "8af5ef79",
   "metadata": {},
   "outputs": [
    {
     "data": {
      "text/plain": [
       "[<matplotlib.lines.Line2D at 0x7f3e88618040>]"
      ]
     },
     "execution_count": 8,
     "metadata": {},
     "output_type": "execute_result"
    },
    {
     "data": {
      "image/png": "[encoded data removed]",
      "text/plain": [
       "<Figure size 432x288 with 1 Axes>"
      ]
     },
     "metadata": {
      "needs_background": "light"
     },
     "output_type": "display_data"
    }
   ],
   "source": [
    "import matplotlib.pyplot as plt\n",
    "import numpy as np\n",
    "\n",
    "x = np.linspace(-6, 6)\n",
    "\n",
    "plt.plot(x, f(x), 'k')"
   ]
  },
  {
   "cell_type": "code",
   "execution_count": 9,
   "id": "c8dd01dc",
   "metadata": {},
   "outputs": [
    {
     "data": {
      "text/plain": [
       "[<matplotlib.lines.Line2D at 0x7f3e87d84670>]"
      ]
     },
     "execution_count": 9,
     "metadata": {},
     "output_type": "execute_result"
    },
    {
     "data": {
      "image/png": "[encoded data removed]",
      "text/plain": [
       "<Figure size 432x288 with 1 Axes>"
      ]
     },
     "metadata": {
      "needs_background": "light"
     },
     "output_type": "display_data"
    }
   ],
   "source": [
    "plt.plot(x, f(x), 'k')\n",
    "plt.plot(history['x'], history['f(x)'], 'ro-')"
   ]
  }
 ],
 "metadata": {
  "kernelspec": {
   "display_name": "Python 3",
   "language": "python",
   "name": "python3"
  },
  "language_info": {
   "codemirror_mode": {
    "name": "ipython",
    "version": 3
   },
   "file_extension": ".py",
   "mimetype": "text/x-python",
   "name": "python",
   "nbconvert_exporter": "python",
   "pygments_lexer": "ipython3",
   "version": "3.9.7"
  }
 },
 "nbformat": 4,
 "nbformat_minor": 5
}
