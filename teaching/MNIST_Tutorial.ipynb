{
  "nbformat": 4,
  "nbformat_minor": 0,
  "metadata": {
    "colab": {
      "provenance": []
    },
    "kernelspec": {
      "name": "python3",
      "display_name": "Python 3"
    },
    "language_info": {
      "name": "python"
    }
  },
  "cells": [
    {
      "cell_type": "markdown",
      "source": [
        "# Deep Learning on the MNIST Digit Recognition Problem.\n",
        "\n",
        "The digit recognition problem is a classic problem in deep learning/neural networks that has been around for several decades. We use the [MNIST dataset](https://en.wikipedia.org/wiki/MNIST_database) in this tutorial and then use a simple neural network to perform classification on the images.\n",
        "\n",
        "**Problem Statement**: Given a picture of a handwritten digit, classify the number within the image.\n",
        "\n",
        "This notebook file will walk you through the code, with more text boxes explaining what is going on. To run the code, there are several ways. First, you can select each block of code and press ``Ctrl + Enter``. You can also click on Runtime in the top menu for more options; you can also reset everything and rerun."
      ],
      "metadata": {
        "id": "FBegML1PIOfB"
      }
    },
    {
      "cell_type": "markdown",
      "source": [
        "## Pytorch\n",
        "Pytorch is a very essential library to learn if you want to get into AI development. It allows you to perform operations on data; you will need a background on linear algebra and signal processing to fully understand everything, but don't worry. Pytorch also lets you create your own models by defining it in a [class](https://www.geeksforgeeks.org/python-classes-and-objects/), which you can then train under many settings, some of which you will see.\n",
        "\n",
        "I recommend you read through the linked article on classes in a coding context and go over more if you are still unsure. You may want to look up \"object oriented programming.\""
      ],
      "metadata": {
        "id": "_kIOcH6RNK5o"
      }
    },
    {
      "cell_type": "code",
      "execution_count": 1,
      "metadata": {
        "id": "sv_zDFRrE-Fk"
      },
      "outputs": [],
      "source": [
        "import torch\n",
        "import torch.nn as nn\n",
        "import torch.nn.functional as F\n",
        "\n",
        "from torch.utils.data.dataloader import DataLoader\n",
        "from torch.utils.data import random_split\n",
        "from torchvision.datasets import MNIST\n",
        "import torchvision.transforms as transforms\n",
        "from torchvision.utils import make_grid"
      ]
    },
    {
      "cell_type": "code",
      "source": [
        "import matplotlib.pyplot as plt # this is a plotting library; very popular\n",
        "import time # use for timing how long it takes to train"
      ],
      "metadata": {
        "id": "qJ_IjSWuQygJ"
      },
      "execution_count": 2,
      "outputs": []
    },
    {
      "cell_type": "markdown",
      "source": [
        "## Load the Data\n",
        "In this step, we load the dataset. Data can take on many forms: .csv files (tabular data), images, audio, video, etc. In the case of MNIST, these are images, which is a collection of tens of thousands of images. Each image is 28 pixels by 28 pixels.\n",
        "\n",
        "The code block below just loads the images and specifies the number of images for training the model and for testing the model. When we test the model, we test it using images that the model has never seen before. This process of testing or evaluation gives us an idea as to how the model performs."
      ],
      "metadata": {
        "id": "dK5xIua3LeE6"
      }
    },
    {
      "cell_type": "code",
      "source": [
        "# Get dataset from directory\n",
        "dataset = MNIST(root='data', download=True, train=True, transform=transforms.ToTensor())\n",
        "test_size = 5000\n",
        "train_size = len(dataset) - test_size"
      ],
      "metadata": {
        "id": "oZQFgPnrHdap"
      },
      "execution_count": 3,
      "outputs": []
    },
    {
      "cell_type": "code",
      "source": [
        "# Create subset datasets for training and testing\n",
        "train_subds, test_subds = random_split(\n",
        "    dataset=dataset,\n",
        "    lengths=[train_size, test_size],\n",
        "    generator=torch.Generator().manual_seed(42)\n",
        ")"
      ],
      "metadata": {
        "id": "FAyB25idHddE"
      },
      "execution_count": 4,
      "outputs": []
    },
    {
      "cell_type": "markdown",
      "source": [
        "## Data Loader\n",
        "A data loader is an object that basically lets us easily access data samples (which is the main important thing to remember for now). It is an instance of the DataLoader class.\n",
        "\n",
        "In many cases, we have to code our own dataset processing since each dataset is different."
      ],
      "metadata": {
        "id": "6BSgdWRhOrjr"
      }
    },
    {
      "cell_type": "code",
      "source": [
        "# Get DataLoader objects (without worrying about device yet)\n",
        "batch_size = 128\n",
        "n_epochs = 10\n",
        "\n",
        "train_loader = DataLoader(\n",
        "    dataset=train_subds,\n",
        "    batch_size=batch_size,\n",
        "    shuffle=True,\n",
        "    num_workers=2,\n",
        "    pin_memory=True\n",
        ")\n",
        "test_loader = DataLoader(\n",
        "    dataset=test_subds,\n",
        "    batch_size=batch_size,\n",
        "    shuffle=True,\n",
        "    num_workers=2,\n",
        "    pin_memory=True\n",
        ")"
      ],
      "metadata": {
        "id": "139QHWBKHdfb"
      },
      "execution_count": 5,
      "outputs": []
    },
    {
      "cell_type": "markdown",
      "source": [
        "## Visualize the Data\n",
        "We've been talking about the data, but now let's visualize several samples below."
      ],
      "metadata": {
        "id": "hRoopL8iQopC"
      }
    },
    {
      "cell_type": "code",
      "source": [
        "def show_all_batch_imgs8x8(dl=None):\n",
        "    ''' Show 8x8 grid of images from DataLoader object\n",
        "\n",
        "    :param dl: DataLoader object\n",
        "    :return: NA\n",
        "    '''\n",
        "    for images, labels in dl:\n",
        "        fig, ax = plt.subplots(figsize=(10, 10))\n",
        "        ax.set_xticks([])\n",
        "        ax.set_yticks([])\n",
        "        ax.imshow(make_grid(images[:64], nrow=8).permute(1, 2, 0).clamp(0, 1))\n",
        "        break\n",
        "\n",
        "    plt.show()"
      ],
      "metadata": {
        "id": "PN0qGwybQn-S"
      },
      "execution_count": 6,
      "outputs": []
    },
    {
      "cell_type": "code",
      "source": [
        "show_all_batch_imgs8x8(dl=train_loader)"
      ],
      "metadata": {
        "colab": {
          "base_uri": "https://localhost:8080/",
          "height": 807
        },
        "id": "L6LaSS5yQmvP",
        "outputId": "5a86901c-30cd-49a2-90ab-426a8a111e40"
      },
      "execution_count": 7,
      "outputs": [
        {
          "output_type": "display_data",
          "data": {
            "text/plain": [
              "<Figure size 1000x1000 with 1 Axes>"
            ],
            "image/png": "[encoded data removed]"
          },
          "metadata": {}
        }
      ]
    },
    {
      "cell_type": "markdown",
      "source": [
        "## The Deep Learning Model\n",
        "It is important to remember that we must explore the data--to understand it as best we can before we apply a solution to it! Once we do this, we can then create a solution to this image classification problem.\n",
        "\n",
        "With the above comments in mind, some guys a long time ago decided to apply neural networks to i) learn distinctive features of the numbers, and then ii) decode those features to classify what is in the image. You will find below the definition of the Multilayer Perceptron (MLP) model. This is a really simple model by modern standards. The MLP model is just a series of matrix multiplications between the input and weights. The weights are adjusted and this is the part that learns to classify numbers, put simply, through a process called backpropagation (this involves quite a bit of calculus knowledge, mainly partial derivatives and the chain rule). These weight matrices you can think of as contained within the ``nn.Linear`` layer, which are treated as functions (see the ``forward`` function).\n",
        "\n",
        "The inputs ``n_features`` and ``n_outputs`` just mean how many values to process, hence 28*28=784 and outputs being set to 10. Being familiar with linear algebra makes this easier to get an intuition of.\n",
        "\n",
        "### What is a device?\n",
        "After initializing the ``mnist_model`` variable, we need to set the device. The device in this context is just the graphics processing unit or GPU. A GPU allows us to perform computations in _parallel_, and this massively speeds up the training process. Initially, everything is loaded onto host (or CPU) memory, but we need to load it on GPU memory. Pytorch allows us to do this easily. I have some functions to handle this.\n",
        "\n",
        "Be warned that on Google Colab, however, GPU access may not be guaranteed."
      ],
      "metadata": {
        "id": "pb3zNuj3PCmk"
      }
    },
    {
      "cell_type": "code",
      "source": [
        "class MLP(nn.Module):\n",
        "    ''' Simple Multilayer Perceptron/Neural Network'''\n",
        "    def __init__(self, n_features=None, n_outputs=None):\n",
        "        ''' Constructor\n",
        "\n",
        "        :param n_features: (int) number of input features for first layer\n",
        "        :param n_outputs: (int) number of outputs for last layer\n",
        "        '''\n",
        "        super().__init__()\n",
        "\n",
        "        self.linear1 = nn.Linear(in_features=n_features, out_features=16)\n",
        "        self.linear2 = nn.Linear(in_features=16, out_features=16)\n",
        "        self.out1 = nn.Linear(in_features=16, out_features=n_outputs)\n",
        "\n",
        "    def forward(self, x=None):\n",
        "        ''' Forward propagation to get prediction\n",
        "\n",
        "        :param x: tensor for data\n",
        "        :return: model prediction\n",
        "        '''\n",
        "        out = x.view(x.size(0), -1)\n",
        "        out = self.linear1(out)\n",
        "        out = self.linear2(out)\n",
        "        out = self.out1(out)\n",
        "\n",
        "        return out"
      ],
      "metadata": {
        "id": "P7FpEGbGSB7z"
      },
      "execution_count": 8,
      "outputs": []
    },
    {
      "cell_type": "code",
      "source": [
        "# Get MLP model\n",
        "mnist_model = MLP(n_features=28*28, n_outputs=10)"
      ],
      "metadata": {
        "id": "90lD3TEKHdhf"
      },
      "execution_count": 9,
      "outputs": []
    },
    {
      "cell_type": "code",
      "source": [
        "def get_default_device():\n",
        "    ''' Check if GPU is available\n",
        "\n",
        "    :return: NA\n",
        "    '''\n",
        "    if torch.cuda.is_available():\n",
        "        print('GPU available.')\n",
        "        return torch.device('cuda')\n",
        "    else:\n",
        "        print('Using CPU.')\n",
        "        return torch.device('cpu')\n",
        "\n",
        "\n",
        "def move_to_device(data=None, device=None):\n",
        "    ''' Move individual tensor to chosen device\n",
        "    (since we cannot do this for the DataLoader object itself,\n",
        "    we must move the input data itself to the device)\n",
        "\n",
        "    :param data: dataset as Tensor\n",
        "    :param device: device (i.e., whether CUDA is available)\n",
        "    :return: Data migrated to device\n",
        "    '''\n",
        "    if isinstance(data, (list, tuple)):\n",
        "        return [move_to_device(x, device) for x in data]\n",
        "    return data.to(device, non_blocking=True)\n",
        "\n",
        "\n",
        "class DeviceDataLoader():\n",
        "    def __init__(self, dl, device):\n",
        "        ''' Wrap DataLoader object to move data to designated device'''\n",
        "        self.dl = dl\n",
        "        self.device = device\n",
        "\n",
        "    def __iter__(self):\n",
        "        ''' Yield batch of data after moving it to device'''\n",
        "        for b in self.dl:  # iterate over samples in batch\n",
        "            yield move_to_device(b, self.device)  # return next item, which is in appropriate device\n",
        "\n",
        "    def __len__(self):\n",
        "        ''' Number of batches'''\n",
        "        return len(self.dl)"
      ],
      "metadata": {
        "id": "ogvWzjytU5lY"
      },
      "execution_count": 10,
      "outputs": []
    },
    {
      "cell_type": "code",
      "source": [
        "# Switch to device, and move model and data to device\n",
        "# You should see \"GPU available\" but using a CPU in this case is ok since the model is tiny.\n",
        "\n",
        "device = get_default_device()\n",
        "train_loader = DeviceDataLoader(train_loader, device)\n",
        "test_loader = DeviceDataLoader(test_loader, device)\n",
        "mnist_model = move_to_device(mnist_model, device)"
      ],
      "metadata": {
        "colab": {
          "base_uri": "https://localhost:8080/"
        },
        "id": "UmjLBYmaHdj1",
        "outputId": "d5b11d5e-ff5b-4e90-8f7f-d2b29c85ea0c"
      },
      "execution_count": 11,
      "outputs": [
        {
          "output_type": "stream",
          "name": "stdout",
          "text": [
            "Using CPU.\n"
          ]
        }
      ]
    },
    {
      "cell_type": "markdown",
      "source": [
        "## Train\n",
        "Now we train the model. This process involves, as we've discussed before, a good amount several courses' worth of calculus, linear algebra, and probability. Essentially, the steps to train are below.\n",
        "\n",
        "**Training Steps:**\n",
        "1. Load sample\n",
        "2. Get output of model on the sample\n",
        "3. Compute the loss between the prediction and groud truth (real answer)\n",
        "4. Perform backpropagation\n",
        "5. Repeat for all samples in the training set\n",
        "\n",
        "**Evaluation/Testing Steps:**\n",
        "1. Load sample\n",
        "2. Get output of model on the sample\n",
        "3. Compute the loss between the prediction and groud truth (real answer)\n",
        "4. Compute metric (e.g., accuracy for classification)\n",
        "5. Repeat for all samples in the test set\n",
        "\n",
        "What is neat about Pytorch is that it keeps track of computations \"under the hood\" and then performs the backpropagation, without you having to code it, which is very tedious."
      ],
      "metadata": {
        "id": "JjFh8qRbVrpO"
      }
    },
    {
      "cell_type": "code",
      "source": [
        "def avg_list_tensors(tensor_list: list):\n",
        "    ''' Compute mean of list of (single-value) tensors\n",
        "\n",
        "    :param tensor_list: list of tensors\n",
        "    :return: mean of values of each tensor\n",
        "    '''\n",
        "    return torch.stack(tensor_list).mean().item()"
      ],
      "metadata": {
        "id": "vWNbdW6tXLzg"
      },
      "execution_count": 12,
      "outputs": []
    },
    {
      "cell_type": "code",
      "source": [
        "def compute_batch_loss(model=None, batch=None):\n",
        "    ''' Compute loss on batch of data\n",
        "\n",
        "    :param model: torch.nn.Module model\n",
        "    :param batch: batch of tensors\n",
        "    :return: loss\n",
        "    '''\n",
        "    inputs, labels = batch\n",
        "    out = model(inputs)  # get predictions\n",
        "    loss = F.cross_entropy(input=out, target=labels)  # compute loss\n",
        "    return loss"
      ],
      "metadata": {
        "id": "U97m_E9UXcop"
      },
      "execution_count": 13,
      "outputs": []
    },
    {
      "cell_type": "code",
      "source": [
        "def get_accuracy(out=None, actual=None):\n",
        "    ''' Get accuracy\n",
        "\n",
        "    :param out: model predictions of shape (batch_size,)\n",
        "    :param actual: labels in a tensor of shape (batch size,)\n",
        "    :return:\n",
        "    '''\n",
        "    _, preds = torch.max(out, dim=1)\n",
        "    acc = torch.tensor(torch.sum(preds==actual).item() / len(preds))\n",
        "    return acc"
      ],
      "metadata": {
        "id": "8_nfffMGXff9"
      },
      "execution_count": 14,
      "outputs": []
    },
    {
      "cell_type": "code",
      "source": [
        "@torch.no_grad()\n",
        "def evaluate(model=None, val_loader=None):\n",
        "    ''' Without modifying gradients, evaluate validation set of images to get average loss and accuracy (over all batches in DataLoader)\n",
        "\n",
        "    :param model: torch.nn.Module model\n",
        "    :param val_loader: validation data loader (type DataLoader)\n",
        "    :return: averaged validation accuracies and averaged validation losses in a dictionary in the form\n",
        "        {\n",
        "            'val_acc': number\n",
        "            'val_loss': number\n",
        "        }\n",
        "    '''\n",
        "    model.eval() # set to evaluate mode, i.e., layers like batch norm and dropout will work\n",
        "    val_losses = []\n",
        "    val_accs = []\n",
        "    val_scores = {}\n",
        "\n",
        "    for batch in val_loader:\n",
        "        val_loss = compute_batch_loss(model=model, batch=batch)\n",
        "        inputs, labels = batch\n",
        "        out = model(inputs)\n",
        "        val_accuracy = get_accuracy(out, labels)  # compute accuracy\n",
        "\n",
        "        val_losses.append(val_loss)\n",
        "        val_accs.append(val_accuracy)\n",
        "\n",
        "    val_scores['val_loss'] = avg_list_tensors(val_losses)\n",
        "    val_scores['val_acc'] = avg_list_tensors(val_accs)\n",
        "\n",
        "    return val_scores"
      ],
      "metadata": {
        "id": "mbOfsAMuXcvq"
      },
      "execution_count": 15,
      "outputs": []
    },
    {
      "cell_type": "code",
      "source": [
        "def train_model(model=None, epochs=10, lr=0.01, train_loader=None, val_loader=None, opt_func=torch.optim.SGD):\n",
        "    ''' Train basic model\n",
        "\n",
        "    :param model: model object that inherits from torch.nn.Module\n",
        "    :param epochs: number of epochs to train for\n",
        "    :param lr: learning rate\n",
        "    :param train_loader: training DataLoader object\n",
        "    :param val_loader: validation DataLoader object\n",
        "    :param opt_func: optimization function (from torch.optim)\n",
        "    :return: list of dictionaries, each element having the form for index/epoch i\n",
        "        {\n",
        "            'train_loss': number\n",
        "            'val_acc': number\n",
        "            'val_loss': number\n",
        "        }\n",
        "    '''\n",
        "    history = []\n",
        "    optimizer = opt_func(model.parameters(), lr=lr)\n",
        "    start = time.time()\n",
        "\n",
        "    for epoch in range(epochs):\n",
        "        # Train\n",
        "        model.train() # set to train mode\n",
        "        train_losses = []\n",
        "\n",
        "        for batch in train_loader:\n",
        "            loss = compute_batch_loss(model=model, batch=batch)\n",
        "            train_losses.append(loss) # add loss of current batch\n",
        "            loss.backward() # backpropagate on loss\n",
        "            optimizer.step() # perform single optimization step\n",
        "            optimizer.zero_grad() # reset gradients to zero for future backpropagation (useful for RNNs, but not here)\n",
        "\n",
        "        # Evaluate model after training for one additional epoch\n",
        "        avg_train_loss = avg_list_tensors(train_losses)\n",
        "        val_scores = evaluate(model=model, val_loader=val_loader) # get validation accuracy and loss\n",
        "\n",
        "        # Finally, add losses and validation accuracy of current epoch to history list\n",
        "        epoch_scores = {\n",
        "            'train_loss': avg_train_loss,\n",
        "            'val_acc': val_scores['val_acc'],\n",
        "            'val_loss': val_scores['val_loss']\n",
        "        }\n",
        "\n",
        "        history.append(epoch_scores)\n",
        "        print('Epoch {}/{}: Train loss={:.4f}, Val loss = {:.4f}, Val accuracy = {:.4f}'.format(\n",
        "            epoch+1,\n",
        "            epochs,\n",
        "            avg_train_loss,\n",
        "            val_scores['val_loss'],\n",
        "            val_scores['val_acc']\n",
        "        ))\n",
        "\n",
        "    end = time.time() - start\n",
        "    print('Total time: {:.3f} min'.format(end/60))\n",
        "\n",
        "    return history"
      ],
      "metadata": {
        "id": "Wl6egAJ1XKS4"
      },
      "execution_count": 16,
      "outputs": []
    },
    {
      "cell_type": "markdown",
      "source": [
        "As the model trains, you expect \"Val accuracy\" to go up from a low number to close to ``1.00``. There are many settings to the model you can change. This includes what we call \"hyperparameters,\" model architecture, etc. The loss you can think of as the error, and as the model properly learns, you expect this quantity to go down."
      ],
      "metadata": {
        "id": "A9v_9VC9YFKG"
      }
    },
    {
      "cell_type": "code",
      "source": [
        "# Train MLP model\n",
        "history = train_model(\n",
        "    model=mnist_model,\n",
        "    epochs=n_epochs,\n",
        "    lr=0.01,\n",
        "    train_loader=train_loader,\n",
        "    val_loader=test_loader,\n",
        "    opt_func=torch.optim.SGD\n",
        ")"
      ],
      "metadata": {
        "colab": {
          "base_uri": "https://localhost:8080/"
        },
        "id": "0h9csIVHHdmL",
        "outputId": "118281f0-38f8-4ff1-a743-ecf064317ac4"
      },
      "execution_count": 17,
      "outputs": [
        {
          "output_type": "stream",
          "name": "stdout",
          "text": [
            "Epoch 1/10: Train loss=1.9708, Val loss = 1.4187, Val accuracy = 0.6658\n",
            "Epoch 2/10: Train loss=0.9809, Val loss = 0.7394, Val accuracy = 0.7867\n",
            "Epoch 3/10: Train loss=0.6215, Val loss = 0.5660, Val accuracy = 0.8359\n",
            "Epoch 4/10: Train loss=0.4973, Val loss = 0.4670, Val accuracy = 0.8693\n",
            "Epoch 5/10: Train loss=0.4343, Val loss = 0.4255, Val accuracy = 0.8766\n",
            "Epoch 6/10: Train loss=0.4002, Val loss = 0.4096, Val accuracy = 0.8832\n",
            "Epoch 7/10: Train loss=0.3793, Val loss = 0.3893, Val accuracy = 0.8854\n",
            "Epoch 8/10: Train loss=0.3648, Val loss = 0.3732, Val accuracy = 0.8906\n",
            "Epoch 9/10: Train loss=0.3536, Val loss = 0.3702, Val accuracy = 0.8900\n",
            "Epoch 10/10: Train loss=0.3446, Val loss = 0.3555, Val accuracy = 0.8988\n",
            "Total time: 1.434 min\n"
          ]
        }
      ]
    },
    {
      "cell_type": "markdown",
      "source": [
        "## Visualize the training history\n",
        "Now we can"
      ],
      "metadata": {
        "id": "fdE0Xj5uYlnM"
      }
    },
    {
      "cell_type": "code",
      "source": [
        "def plot_accuracy(history=None):\n",
        "    ''' Plot epochs vs accuracy\n",
        "\n",
        "    :param history: list of dictionaries for losses and validation accuracy per epoch,\n",
        "        each element having the form for index/epoch i\n",
        "        {\n",
        "            'train_loss': number\n",
        "            'val_acc': number\n",
        "            'val_loss': number\n",
        "        }\n",
        "    :return: NA\n",
        "    '''\n",
        "    val_accuracies = [x['val_acc'] for x in history]\n",
        "    plt.plot(val_accuracies, '-rs', label='validation\\naccuracy')\n",
        "    plt.title('Accuracy vs Epochs')\n",
        "    plt.xlabel('Epoch')\n",
        "    plt.ylabel('Accuracy [0.0, 1.0]')\n",
        "    plt.ylim(0.000, 1.000)\n",
        "    plt.legend(loc='best')\n",
        "    plt.show()"
      ],
      "metadata": {
        "id": "fyWrZUd9YdIt"
      },
      "execution_count": 18,
      "outputs": []
    },
    {
      "cell_type": "code",
      "source": [
        "def plot_losses(history=None):\n",
        "    ''' Plot epochs vs training loss and validation loss\n",
        "\n",
        "    :param history: list of dictionaries for losses and validation accuracy per epoch,\n",
        "        each element having the form for index/epoch i\n",
        "        {\n",
        "            'train_loss': number\n",
        "            'val_acc': number\n",
        "            'val_loss': number\n",
        "        }\n",
        "    :return: NA\n",
        "    '''\n",
        "    train_losses  = [x['train_loss'] for x in history]\n",
        "    val_losses = [x['val_loss'] for x in history]\n",
        "    plt.plot(train_losses, '-bs', label='training\\nloss')\n",
        "    plt.plot(val_losses, '-rs', label='validation\\nloss')\n",
        "    plt.title('Training and Validation Losses vs Epochs')\n",
        "    plt.xlabel('Epoch')\n",
        "    plt.ylabel('Loss')\n",
        "    plt.ylim(0.0)\n",
        "    plt.legend(loc='best')\n",
        "    plt.show()"
      ],
      "metadata": {
        "id": "RUpavHZ3YkMT"
      },
      "execution_count": 19,
      "outputs": []
    },
    {
      "cell_type": "code",
      "source": [
        "# Visualize loss and accuracy history\n",
        "plot_accuracy(history)\n",
        "plot_losses(history)"
      ],
      "metadata": {
        "colab": {
          "base_uri": "https://localhost:8080/",
          "height": 927
        },
        "id": "8iztwJCqHdoh",
        "outputId": "15798269-1326-452f-e956-95fc65d99295"
      },
      "execution_count": 20,
      "outputs": [
        {
          "output_type": "display_data",
          "data": {
            "text/plain": [
              "<Figure size 640x480 with 1 Axes>"
            ],
            "image/png": "[encoded data removed]"
          },
          "metadata": {}
        },
        {
          "output_type": "display_data",
          "data": {
            "text/plain": [
              "<Figure size 640x480 with 1 Axes>"
            ],
            "image/png": "[encoded data removed]"
          },
          "metadata": {}
        }
      ]
    },
    {
      "cell_type": "markdown",
      "source": [
        "## Visualize Predictions\n",
        "Now we can test the model and visualize the image. We can check how the model performs on new images that the model has never seen before!"
      ],
      "metadata": {
        "id": "1yUIr4GPZD9C"
      }
    },
    {
      "cell_type": "code",
      "source": [
        "# Evaluate final model\n",
        "scores = evaluate(model=mnist_model, val_loader=test_loader)\n",
        "print('Test scores: ', scores)"
      ],
      "metadata": {
        "colab": {
          "base_uri": "https://localhost:8080/"
        },
        "id": "X88bx0ccHdqn",
        "outputId": "664f3dc8-d971-439f-92c3-c91162279a88"
      },
      "execution_count": 21,
      "outputs": [
        {
          "output_type": "stream",
          "name": "stdout",
          "text": [
            "Test scores:  {'val_loss': 0.35885006189346313, 'val_acc': 0.8929687738418579}\n"
          ]
        }
      ]
    },
    {
      "cell_type": "code",
      "source": [
        "# Predict on a few inputs\n",
        "test_dataset = MNIST(root='data/', train=False, transform=transforms.ToTensor())"
      ],
      "metadata": {
        "id": "Pxnx5As-Hds8"
      },
      "execution_count": 22,
      "outputs": []
    },
    {
      "cell_type": "code",
      "source": [
        "def predict(x=None, model=None):\n",
        "    ''' Use model to make prediction on input\n",
        "\n",
        "    :param x: batch of images in tensor\n",
        "    :param model: model object that inherits from torch.nn.Module\n",
        "    :return: prediction label\n",
        "    '''\n",
        "    device = get_default_device()\n",
        "    x = move_to_device(data=x, device=device)\n",
        "    predict_vector = model(x)\n",
        "    best_pred_values, best_pred_indices = torch.max(predict_vector, dim=1)\n",
        "\n",
        "    return best_pred_indices[0].item()"
      ],
      "metadata": {
        "id": "4Q7BQ9VyZSpp"
      },
      "execution_count": 23,
      "outputs": []
    },
    {
      "cell_type": "code",
      "source": [
        "x, label = dataset[0]\n",
        "x = x.unsqueeze(0)\n",
        "pred = predict(x=x, model=mnist_model)\n",
        "print('True label: {}, Predicted: {}'.format(label, pred))"
      ],
      "metadata": {
        "colab": {
          "base_uri": "https://localhost:8080/"
        },
        "id": "z5LFuSyCHdvT",
        "outputId": "329c7df0-9d68-4802-d295-01f915f9b230"
      },
      "execution_count": 24,
      "outputs": [
        {
          "output_type": "stream",
          "name": "stdout",
          "text": [
            "Using CPU.\n",
            "True label: 5, Predicted: 3\n"
          ]
        }
      ]
    },
    {
      "cell_type": "code",
      "source": [
        "x, label = dataset[111]\n",
        "x = x.unsqueeze(0)\n",
        "pred = predict(x=x, model=mnist_model)\n",
        "print('True label: {}, Predicted: {}'.format(label, pred))\n",
        "plt.imshow(x[0][0])"
      ],
      "metadata": {
        "colab": {
          "base_uri": "https://localhost:8080/",
          "height": 483
        },
        "id": "dqWqwl5EH9wY",
        "outputId": "82313dfd-a6a8-4baf-c9b9-96f8e3bc64ac"
      },
      "execution_count": 25,
      "outputs": [
        {
          "output_type": "stream",
          "name": "stdout",
          "text": [
            "Using CPU.\n",
            "True label: 3, Predicted: 3\n"
          ]
        },
        {
          "output_type": "execute_result",
          "data": {
            "text/plain": [
              "<matplotlib.image.AxesImage at 0x7987211f8dd0>"
            ]
          },
          "metadata": {},
          "execution_count": 25
        },
        {
          "output_type": "display_data",
          "data": {
            "text/plain": [
              "<Figure size 640x480 with 1 Axes>"
            ],
            "image/png": "[encoded data removed]"
          },
          "metadata": {}
        }
      ]
    },
    {
      "cell_type": "code",
      "source": [
        "x, label = dataset[222]\n",
        "x = x.unsqueeze(0)\n",
        "pred = predict(x=x, model=mnist_model)\n",
        "print('True label: {}, Predicted: {}'.format(label, pred))\n",
        "plt.imshow(x[0][0])"
      ],
      "metadata": {
        "colab": {
          "base_uri": "https://localhost:8080/",
          "height": 483
        },
        "id": "35TDOnVzH9zP",
        "outputId": "fd4fd293-af4b-4429-9ef8-a88a7f6b8660"
      },
      "execution_count": 26,
      "outputs": [
        {
          "output_type": "stream",
          "name": "stdout",
          "text": [
            "Using CPU.\n",
            "True label: 4, Predicted: 4\n"
          ]
        },
        {
          "output_type": "execute_result",
          "data": {
            "text/plain": [
              "<matplotlib.image.AxesImage at 0x798709f7ac50>"
            ]
          },
          "metadata": {},
          "execution_count": 26
        },
        {
          "output_type": "display_data",
          "data": {
            "text/plain": [
              "<Figure size 640x480 with 1 Axes>"
            ],
            "image/png": "[encoded data removed]"
          },
          "metadata": {}
        }
      ]
    },
    {
      "cell_type": "code",
      "source": [
        "x, label = dataset[333]\n",
        "x = x.unsqueeze(0)\n",
        "pred = predict(x=x, model=mnist_model)\n",
        "print('True label: {}, Predicted: {}'.format(label, pred))\n",
        "plt.imshow(x[0][0])"
      ],
      "metadata": {
        "colab": {
          "base_uri": "https://localhost:8080/",
          "height": 483
        },
        "id": "lKXq9MlBH91W",
        "outputId": "b6a5dd9c-550b-4192-a36b-94fb59512bb3"
      },
      "execution_count": 27,
      "outputs": [
        {
          "output_type": "stream",
          "name": "stdout",
          "text": [
            "Using CPU.\n",
            "True label: 8, Predicted: 8\n"
          ]
        },
        {
          "output_type": "execute_result",
          "data": {
            "text/plain": [
              "<matplotlib.image.AxesImage at 0x798634134810>"
            ]
          },
          "metadata": {},
          "execution_count": 27
        },
        {
          "output_type": "display_data",
          "data": {
            "text/plain": [
              "<Figure size 640x480 with 1 Axes>"
            ],
            "image/png": "[encoded data removed]"
          },
          "metadata": {}
        }
      ]
    },
    {
      "cell_type": "code",
      "source": [
        "x, label = dataset[444]\n",
        "x = x.unsqueeze(0)\n",
        "pred = predict(x=x, model=mnist_model)\n",
        "print('True label: {}, Predicted: {}'.format(label, pred))\n",
        "plt.imshow(x[0][0])"
      ],
      "metadata": {
        "colab": {
          "base_uri": "https://localhost:8080/",
          "height": 483
        },
        "id": "gSKgSeX1Hdx5",
        "outputId": "065075f6-74fa-44b1-ddb6-a49b66f998bf"
      },
      "execution_count": 28,
      "outputs": [
        {
          "output_type": "stream",
          "name": "stdout",
          "text": [
            "Using CPU.\n",
            "True label: 2, Predicted: 1\n"
          ]
        },
        {
          "output_type": "execute_result",
          "data": {
            "text/plain": [
              "<matplotlib.image.AxesImage at 0x798628dd8510>"
            ]
          },
          "metadata": {},
          "execution_count": 28
        },
        {
          "output_type": "display_data",
          "data": {
            "text/plain": [
              "<Figure size 640x480 with 1 Axes>"
            ],
            "image/png": "[encoded data removed]"
          },
          "metadata": {}
        }
      ]
    },
    {
      "cell_type": "code",
      "source": [
        "x, label = dataset[555]\n",
        "x = x.unsqueeze(0)\n",
        "pred = predict(x=x, model=mnist_model)\n",
        "print('True label: {}, Predicted: {}'.format(label, pred))\n",
        "plt.imshow(x[0][0])"
      ],
      "metadata": {
        "colab": {
          "base_uri": "https://localhost:8080/",
          "height": 483
        },
        "id": "zpdNiXuaIH3R",
        "outputId": "f58c930f-b031-45e6-878d-2cca7e3ba09c"
      },
      "execution_count": 29,
      "outputs": [
        {
          "output_type": "stream",
          "name": "stdout",
          "text": [
            "Using CPU.\n",
            "True label: 2, Predicted: 2\n"
          ]
        },
        {
          "output_type": "execute_result",
          "data": {
            "text/plain": [
              "<matplotlib.image.AxesImage at 0x798628bbbbd0>"
            ]
          },
          "metadata": {},
          "execution_count": 29
        },
        {
          "output_type": "display_data",
          "data": {
            "text/plain": [
              "<Figure size 640x480 with 1 Axes>"
            ],
            "image/png": "[encoded data removed]"
          },
          "metadata": {}
        }
      ]
    },
    {
      "cell_type": "markdown",
      "source": [
        "## Saving and Loading Trained Models\n",
        "Pytorch also lets us save the model weights, so we can save our progress and our final trained model. We can then load the weights in another program and evaluate, or even train it further."
      ],
      "metadata": {
        "id": "NNzJePWEadFg"
      }
    },
    {
      "cell_type": "code",
      "source": [
        "# Save model\n",
        "'''\n",
        "filename = 'mnist_model.pth'\n",
        "torch.save(mnist_model.state_dict(), filename)\n",
        "'''"
      ],
      "metadata": {
        "colab": {
          "base_uri": "https://localhost:8080/",
          "height": 35
        },
        "id": "4bT2yCqdIH5W",
        "outputId": "53b3f467-97b1-4f7e-f4ce-b605da903241"
      },
      "execution_count": 30,
      "outputs": [
        {
          "output_type": "execute_result",
          "data": {
            "text/plain": [
              "\"\\nfilename = 'mnist_model.pth'\\ntorch.save(mnist_model.state_dict(), filename)\\n\""
            ],
            "application/vnd.google.colaboratory.intrinsic+json": {
              "type": "string"
            }
          },
          "metadata": {},
          "execution_count": 30
        }
      ]
    },
    {
      "cell_type": "code",
      "source": [
        "# Reload model\n",
        "'''\n",
        "mnist_model2 = mlp.MLP(n_features=28*28, n_outputs=10)\n",
        "mnist_model2.load_state_dict(torch.load(filename))\n",
        "scores = te.evaluate(model=mnist_model, val_loader=test_loader)\n",
        "print('Model 2 test scores: ', scores)\n",
        "'''"
      ],
      "metadata": {
        "colab": {
          "base_uri": "https://localhost:8080/",
          "height": 35
        },
        "id": "zNJKto_fHdzu",
        "outputId": "93015e98-5060-443b-9f03-bcbec7f4b98d"
      },
      "execution_count": 31,
      "outputs": [
        {
          "output_type": "execute_result",
          "data": {
            "text/plain": [
              "\"\\nmnist_model2 = mlp.MLP(n_features=28*28, n_outputs=10)\\nmnist_model2.load_state_dict(torch.load(filename))\\nscores = te.evaluate(model=mnist_model, val_loader=test_loader)\\nprint('Model 2 test scores: ', scores)\\n\""
            ],
            "application/vnd.google.colaboratory.intrinsic+json": {
              "type": "string"
            }
          },
          "metadata": {},
          "execution_count": 31
        }
      ]
    }
  ]
}