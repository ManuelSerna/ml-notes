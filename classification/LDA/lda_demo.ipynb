{
 "cells": [
  {
   "cell_type": "markdown",
   "id": "252e6c89",
   "metadata": {},
   "source": [
    "# Linear Discriminant Analysis (LDA) Demo"
   ]
  },
  {
   "cell_type": "markdown",
   "id": "08a26171",
   "metadata": {},
   "source": [
    "**NOTE**: Recall that LDA is used when the observed/input data comes from a Gaussian/normal distribution, each class each variable falls into has its own specific mean, and a shared variance across all classes.\n",
    "\n",
    "Plotting idea based on [documentation](https://scikit-learn.org/0.16/auto_examples/classification/plot_classifier_comparison.html#example-classification-plot-classifier-comparison-py)."
   ]
  },
  {
   "cell_type": "code",
   "execution_count": 16,
   "id": "1320749e",
   "metadata": {},
   "outputs": [],
   "source": [
    "import matplotlib.pyplot as plt\n",
    "import numpy as np\n",
    "import sklearn\n",
    "from sklearn.discriminant_analysis import LinearDiscriminantAnalysis as LDA"
   ]
  },
  {
   "cell_type": "markdown",
   "id": "1facb57b",
   "metadata": {},
   "source": [
    "## Create Datasets"
   ]
  },
  {
   "cell_type": "code",
   "execution_count": 17,
   "id": "fae92927",
   "metadata": {},
   "outputs": [],
   "source": [
    "from sklearn.datasets import make_moons, make_circles, make_classification\n",
    "\n",
    "# Create dummy datasets where number of variables/features/predictors is p=2\n",
    "x, y = make_classification(\n",
    "    n_features=2, \n",
    "    n_redundant=0, \n",
    "    n_informative=2, \n",
    "    random_state=1, \n",
    "    n_clusters_per_class=1\n",
    ")\n",
    "\n",
    "x += 2*np.random.uniform(size=x.shape)\n",
    "linearly_separable = (x, y)\n",
    "\n",
    "datasets = [\n",
    "    make_moons(noise=0.3, random_state=0),\n",
    "    make_circles(noise=0.2, factor=0.5, random_state=1),\n",
    "    linearly_separable\n",
    "]"
   ]
  },
  {
   "cell_type": "code",
   "execution_count": 32,
   "id": "6a863879",
   "metadata": {},
   "outputs": [],
   "source": [
    "from sklearn.preprocessing import StandardScaler\n",
    "from sklearn.model_selection import train_test_split\n",
    "\n",
    "mesh_step = 0.2\n",
    "i = 2\n",
    "ds = datasets[i]\n",
    "x, y = ds"
   ]
  },
  {
   "cell_type": "code",
   "execution_count": 36,
   "id": "d2075a00",
   "metadata": {},
   "outputs": [],
   "source": [
    "# Split current dataset into training and test sets\n",
    "x = StandardScaler().fit_transform(x) # set mean=0 and set var=1 for input values\n",
    "x_train, x_test, y_train, y_test = train_test_split(x, y, test_size=.4)\n",
    "\n",
    "x_min, x_max = x_test[:, 0].min() - .5, x_test[:, 0].max() + .5\n",
    "y_min, y_max = x_test[:, 1].min() - .5, x_test[:, 1].max() + .5\n",
    "xx, yy = np.meshgrid(np.arange(x_min, x_max, mesh_step), np.arange(y_min, y_max, mesh_step))"
   ]
  },
  {
   "cell_type": "code",
   "execution_count": 43,
   "id": "f483e65a",
   "metadata": {},
   "outputs": [
    {
     "data": {
      "text/plain": [
       "[]"
      ]
     },
     "execution_count": 43,
     "metadata": {},
     "output_type": "execute_result"
    },
    {
     "data": {
      "image/png": "[encoded data removed]",
      "text/plain": [
       "<Figure size 432x288 with 1 Axes>"
      ]
     },
     "metadata": {},
     "output_type": "display_data"
    }
   ],
   "source": [
    "from matplotlib.colors import ListedColormap\n",
    "\n",
    "# Plot test data first\n",
    "cm = plt.cm.RdBu\n",
    "cm_bright = ListedColormap(['#FF0000', '#0000FF'])\n",
    "\n",
    "fig, ax = plt.subplots()\n",
    "ax.scatter(x_test[:, 0], x_test[:, 1], c=y_test, cmap=cm_bright, alpha=0.6)\n",
    "ax.set_title('Test Data')\n",
    "ax.set_xticks(())\n",
    "ax.set_yticks(())"
   ]
  },
  {
   "cell_type": "markdown",
   "id": "e8ef444f",
   "metadata": {},
   "source": [
    "## Train LDA Classifier"
   ]
  },
  {
   "cell_type": "code",
   "execution_count": null,
   "id": "e2f1fa75",
   "metadata": {},
   "outputs": [],
   "source": [
    "#TODO"
   ]
  },
  {
   "cell_type": "markdown",
   "id": "73a9fa89",
   "metadata": {},
   "source": [
    "## Plot LDA Decision Boundary"
   ]
  },
  {
   "cell_type": "code",
   "execution_count": null,
   "id": "041e2ffb",
   "metadata": {},
   "outputs": [],
   "source": [
    "#TODO"
   ]
  }
 ],
 "metadata": {
  "kernelspec": {
   "display_name": "Python 3",
   "language": "python",
   "name": "python3"
  },
  "language_info": {
   "codemirror_mode": {
    "name": "ipython",
    "version": 3
   },
   "file_extension": ".py",
   "mimetype": "text/x-python",
   "name": "python",
   "nbconvert_exporter": "python",
   "pygments_lexer": "ipython3",
   "version": "3.9.7"
  }
 },
 "nbformat": 4,
 "nbformat_minor": 5
}
