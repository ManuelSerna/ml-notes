{
 "cells": [
  {
   "cell_type": "markdown",
   "metadata": {},
   "source": [
    "# CSCE 5063 Machine Learning Mini Project 3 Submission\n",
    "# Manuel Serna-Aguilera"
   ]
  },
  {
   "cell_type": "markdown",
   "metadata": {},
   "source": [
    "# Mini-project 3 : Piecewise Regression and Resampling Techniques\n",
    "   \n",
    "-Dataset Ames Housing Dataset\n",
    "\n",
    "This mini-project involves:    \n",
    "- Piecewise Linear and Piecewise Polynomial Regression    \n",
    "- Resampling Techniques: k-fold cross validation and bootstrapping\n",
    "\n",
    "Submission: \n",
    "\n",
    "For this project, you will submit your .ipynb file through Blackboard. "
   ]
  },
  {
   "cell_type": "code",
   "execution_count": 1,
   "metadata": {},
   "outputs": [],
   "source": [
    "import matplotlib.pyplot as plt\n",
    "import numpy as np\n",
    "import pandas as pd\n",
    "import scipy\n",
    "import sklearn\n",
    "\n",
    "import LRGD"
   ]
  },
  {
   "cell_type": "markdown",
   "metadata": {},
   "source": [
    "## Task 1: Piecewise Regression\n",
    "\n",
    "For the Housing Dataset from mini-project2 :   \n",
    "\n",
    "a. Randomly split the dataset into 80% training set and 20% validation set. (Feel free to write your own function to split data or use scikit learn functions)  \n",
    "b. Perform:   \n",
    "i)Multiple Linear Regression,  ii)Polynomial Regression of degree 2, iii)Piecewise Linear Regression (Split/cut K = 5, i.e. 6 bins), and iv) Spline with d = 3 and K = 3. \n",
    "          \n",
    "Report:  \n",
    "1. Epochs vs Training Error curve for all 4 models in b.    \n",
    "2. Validation error for all 4 models.  Which one has the best Training and Validation Error?\n",
    "\n",
    "Note :   \n",
    "\n",
    "- Make sure you use all 5 input variables from Housing Data and same training and validation set from a) for all models in b.     \n",
    "- You can still use the LRGD class you created in project 2 or use scikit learn. You just need to create new varaibles using appropriate indicator functions , express it as a additive model and use LRGD or use scikit learn.   \n",
    "- Refer to general regression equation form for each models ii) to iv) on how to create new variables. \n",
    "\n",
    "Food for Thought:   \n",
    "Q. Why we can still use LRGD we created on Task 1 for Polynomial, Piecewise and Splines? If you think, we cannot use the same Gradient Descent from LRGD, why not?\n",
    "\n",
    "    \n",
    "\n"
   ]
  },
  {
   "cell_type": "code",
   "execution_count": 2,
   "metadata": {},
   "outputs": [
    {
     "data": {
      "text/html": [
       "<div>\n",
       "<style scoped>\n",
       "    .dataframe tbody tr th:only-of-type {\n",
       "        vertical-align: middle;\n",
       "    }\n",
       "\n",
       "    .dataframe tbody tr th {\n",
       "        vertical-align: top;\n",
       "    }\n",
       "\n",
       "    .dataframe thead th {\n",
       "        text-align: right;\n",
       "    }\n",
       "</style>\n",
       "<table border=\"1\" class=\"dataframe\">\n",
       "  <thead>\n",
       "    <tr style=\"text-align: right;\">\n",
       "      <th></th>\n",
       "      <th>Overall Qual</th>\n",
       "      <th>Overall Cond</th>\n",
       "      <th>Total Bsmt SF</th>\n",
       "      <th>Central Air</th>\n",
       "      <th>Gr Liv Area</th>\n",
       "      <th>SalePrice</th>\n",
       "    </tr>\n",
       "  </thead>\n",
       "  <tbody>\n",
       "    <tr>\n",
       "      <th>0</th>\n",
       "      <td>6</td>\n",
       "      <td>5</td>\n",
       "      <td>1080.0</td>\n",
       "      <td>Y</td>\n",
       "      <td>1656</td>\n",
       "      <td>215000</td>\n",
       "    </tr>\n",
       "    <tr>\n",
       "      <th>1</th>\n",
       "      <td>5</td>\n",
       "      <td>6</td>\n",
       "      <td>882.0</td>\n",
       "      <td>Y</td>\n",
       "      <td>896</td>\n",
       "      <td>105000</td>\n",
       "    </tr>\n",
       "    <tr>\n",
       "      <th>2</th>\n",
       "      <td>6</td>\n",
       "      <td>6</td>\n",
       "      <td>1329.0</td>\n",
       "      <td>Y</td>\n",
       "      <td>1329</td>\n",
       "      <td>172000</td>\n",
       "    </tr>\n",
       "    <tr>\n",
       "      <th>3</th>\n",
       "      <td>7</td>\n",
       "      <td>5</td>\n",
       "      <td>2110.0</td>\n",
       "      <td>Y</td>\n",
       "      <td>2110</td>\n",
       "      <td>244000</td>\n",
       "    </tr>\n",
       "    <tr>\n",
       "      <th>4</th>\n",
       "      <td>5</td>\n",
       "      <td>5</td>\n",
       "      <td>928.0</td>\n",
       "      <td>Y</td>\n",
       "      <td>1629</td>\n",
       "      <td>189900</td>\n",
       "    </tr>\n",
       "  </tbody>\n",
       "</table>\n",
       "</div>"
      ],
      "text/plain": [
       "   Overall Qual  Overall Cond  Total Bsmt SF Central Air  Gr Liv Area  \\\n",
       "0             6             5         1080.0           Y         1656   \n",
       "1             5             6          882.0           Y          896   \n",
       "2             6             6         1329.0           Y         1329   \n",
       "3             7             5         2110.0           Y         2110   \n",
       "4             5             5          928.0           Y         1629   \n",
       "\n",
       "   SalePrice  \n",
       "0     215000  \n",
       "1     105000  \n",
       "2     172000  \n",
       "3     244000  \n",
       "4     189900  "
      ]
     },
     "execution_count": 2,
     "metadata": {},
     "output_type": "execute_result"
    }
   ],
   "source": [
    "# Import Housing dataset\n",
    "columns = ['Overall Qual', 'Overall Cond', 'Gr Liv Area',\n",
    "           'Central Air', 'Total Bsmt SF', 'SalePrice']\n",
    "\n",
    "df = pd.read_csv(\n",
    "    'http://jse.amstat.org/v19n3/decock/AmesHousing.txt', \n",
    "    sep='\\t', \n",
    "    usecols=columns\n",
    ")\n",
    "df.head() "
   ]
  },
  {
   "cell_type": "code",
   "execution_count": 3,
   "metadata": {},
   "outputs": [
    {
     "data": {
      "text/html": [
       "<div>\n",
       "<style scoped>\n",
       "    .dataframe tbody tr th:only-of-type {\n",
       "        vertical-align: middle;\n",
       "    }\n",
       "\n",
       "    .dataframe tbody tr th {\n",
       "        vertical-align: top;\n",
       "    }\n",
       "\n",
       "    .dataframe thead th {\n",
       "        text-align: right;\n",
       "    }\n",
       "</style>\n",
       "<table border=\"1\" class=\"dataframe\">\n",
       "  <thead>\n",
       "    <tr style=\"text-align: right;\">\n",
       "      <th></th>\n",
       "      <th>Overall Qual</th>\n",
       "      <th>Overall Cond</th>\n",
       "      <th>Total Bsmt SF</th>\n",
       "      <th>Central Air</th>\n",
       "      <th>Gr Liv Area</th>\n",
       "      <th>SalePrice</th>\n",
       "    </tr>\n",
       "  </thead>\n",
       "  <tbody>\n",
       "    <tr>\n",
       "      <th>0</th>\n",
       "      <td>6</td>\n",
       "      <td>5</td>\n",
       "      <td>1080.0</td>\n",
       "      <td>0</td>\n",
       "      <td>1656</td>\n",
       "      <td>215000</td>\n",
       "    </tr>\n",
       "    <tr>\n",
       "      <th>1</th>\n",
       "      <td>5</td>\n",
       "      <td>6</td>\n",
       "      <td>882.0</td>\n",
       "      <td>0</td>\n",
       "      <td>896</td>\n",
       "      <td>105000</td>\n",
       "    </tr>\n",
       "    <tr>\n",
       "      <th>2</th>\n",
       "      <td>6</td>\n",
       "      <td>6</td>\n",
       "      <td>1329.0</td>\n",
       "      <td>0</td>\n",
       "      <td>1329</td>\n",
       "      <td>172000</td>\n",
       "    </tr>\n",
       "    <tr>\n",
       "      <th>3</th>\n",
       "      <td>7</td>\n",
       "      <td>5</td>\n",
       "      <td>2110.0</td>\n",
       "      <td>0</td>\n",
       "      <td>2110</td>\n",
       "      <td>244000</td>\n",
       "    </tr>\n",
       "    <tr>\n",
       "      <th>4</th>\n",
       "      <td>5</td>\n",
       "      <td>5</td>\n",
       "      <td>928.0</td>\n",
       "      <td>0</td>\n",
       "      <td>1629</td>\n",
       "      <td>189900</td>\n",
       "    </tr>\n",
       "  </tbody>\n",
       "</table>\n",
       "</div>"
      ],
      "text/plain": [
       "   Overall Qual  Overall Cond  Total Bsmt SF  Central Air  Gr Liv Area  \\\n",
       "0             6             5         1080.0            0         1656   \n",
       "1             5             6          882.0            0          896   \n",
       "2             6             6         1329.0            0         1329   \n",
       "3             7             5         2110.0            0         2110   \n",
       "4             5             5          928.0            0         1629   \n",
       "\n",
       "   SalePrice  \n",
       "0     215000  \n",
       "1     105000  \n",
       "2     172000  \n",
       "3     244000  \n",
       "4     189900  "
      ]
     },
     "execution_count": 3,
     "metadata": {},
     "output_type": "execute_result"
    }
   ],
   "source": [
    "# Preprocess dataset\n",
    "df = df.dropna(axis=0) # drop rows with incomplete data entries\n",
    "\n",
    "# Convert categorical var CentralAir to dummy values\n",
    "df['Central Air'] = pd.factorize(df['Central Air'])[0]\n",
    "df.head()"
   ]
  },
  {
   "cell_type": "code",
   "execution_count": 4,
   "metadata": {},
   "outputs": [],
   "source": [
    "# Get data from pandas dataframe\n",
    "names = ['Overall Qual', 'Overall Cond', 'Total Bsmt SF', 'Central Air', 'Gr Liv Area']\n",
    "X = df[names].values\n",
    "y = df['SalePrice'].values"
   ]
  },
  {
   "cell_type": "code",
   "execution_count": 5,
   "metadata": {},
   "outputs": [],
   "source": [
    "from sklearn.preprocessing import StandardScaler\n",
    "\n",
    "X_std = StandardScaler().fit_transform(X)\n",
    "y_std = StandardScaler().fit_transform(y[:, np.newaxis]).flatten()"
   ]
  },
  {
   "cell_type": "code",
   "execution_count": 6,
   "metadata": {},
   "outputs": [],
   "source": [
    "# (a) Randomly split dataset\n",
    "from sklearn.model_selection import train_test_split\n",
    "\n",
    "x_train, x_test, y_train, y_test = train_test_split(X_std, y_std, test_size=0.2, random_state=42)"
   ]
  },
  {
   "cell_type": "markdown",
   "metadata": {},
   "source": [
    "### i) Multiple Linear Regression"
   ]
  },
  {
   "cell_type": "code",
   "execution_count": 7,
   "metadata": {},
   "outputs": [
    {
     "data": {
      "text/plain": [
       "<LRGD.LRGD at 0x7f09bf901730>"
      ]
     },
     "execution_count": 7,
     "metadata": {},
     "output_type": "execute_result"
    }
   ],
   "source": [
    "mlr_model = LRGD.LRGD()\n",
    "mlr_model.fit(x_train, y_train)"
   ]
  },
  {
   "cell_type": "markdown",
   "metadata": {},
   "source": [
    "### ii) Polynomial Regression of degree 2"
   ]
  },
  {
   "cell_type": "code",
   "execution_count": 8,
   "metadata": {},
   "outputs": [],
   "source": [
    "# NOTE: interaction variables tossed out\n",
    "from sklearn.preprocessing import PolynomialFeatures\n",
    "\n",
    "poly_x = PolynomialFeatures(2)\n",
    "x_train_poly = poly_x.fit_transform(x_train)"
   ]
  },
  {
   "cell_type": "code",
   "execution_count": 9,
   "metadata": {},
   "outputs": [
    {
     "data": {
      "text/plain": [
       "(2343, 21)"
      ]
     },
     "execution_count": 9,
     "metadata": {},
     "output_type": "execute_result"
    }
   ],
   "source": [
    "x_train_poly.shape # 1+5+5+2*5"
   ]
  },
  {
   "cell_type": "code",
   "execution_count": 10,
   "metadata": {},
   "outputs": [
    {
     "data": {
      "text/plain": [
       "<LRGD.LRGD at 0x7f09bf9013d0>"
      ]
     },
     "execution_count": 10,
     "metadata": {},
     "output_type": "execute_result"
    }
   ],
   "source": [
    "poly_model = LRGD.LRGD()\n",
    "poly_model.fit(x_train_poly, y_train)"
   ]
  },
  {
   "cell_type": "markdown",
   "metadata": {},
   "source": [
    "### iii) Piecewise Linear Regression (split/cut K = 5, i.e. 6 bins)"
   ]
  },
  {
   "cell_type": "code",
   "execution_count": 11,
   "metadata": {},
   "outputs": [],
   "source": [
    "K_piecewise = 5 # num cuts for piecewise"
   ]
  },
  {
   "cell_type": "code",
   "execution_count": 12,
   "metadata": {},
   "outputs": [
    {
     "name": "stdout",
     "output_type": "stream",
     "text": [
      "Variable \"Total Bsmt SF\" vs. Sales Price\n",
      "4.890330539374585\n",
      "-2.38710427022307\n"
     ]
    },
    {
     "data": {
      "text/plain": [
       "<matplotlib.collections.PathCollection at 0x7f09b786b2e0>"
      ]
     },
     "execution_count": 12,
     "metadata": {},
     "output_type": "execute_result"
    },
    {
     "data": {
      "image/png": "[encoded data removed]",
      "text/plain": [
       "<Figure size 432x288 with 1 Axes>"
      ]
     },
     "metadata": {
      "needs_background": "light"
     },
     "output_type": "display_data"
    }
   ],
   "source": [
    "# Get an idea as to which points to cut with respect to \n",
    "#  the 'Total Bsmt ST' variable\n",
    "i = 2\n",
    "print('Variable \"{}\" vs. Sales Price'.format(names[i]))\n",
    "print(np.max(x_train[:, i]))\n",
    "print(np.min(x_train[:, i]))\n",
    "\n",
    "plt.scatter(x_train[:, i], y_train, marker='.')"
   ]
  },
  {
   "cell_type": "code",
   "execution_count": 13,
   "metadata": {},
   "outputs": [],
   "source": [
    "# First, sort data with respect to one predictor, and then make bins\n",
    "#  at pre-determined intervals\n",
    "var_id = 2 # predictor we want to make cuts with respect to \n",
    "cuts = [-1.5, -1.0, 0.0, 0.5, 1.5, 2.5]"
   ]
  },
  {
   "cell_type": "code",
   "execution_count": 14,
   "metadata": {},
   "outputs": [],
   "source": [
    "# Get indicies (ids) if input samples that match given conditions\n",
    "bin1_ids = np.where(x_train[:, var_id] < cuts[0])\n",
    "bin2_ids = np.where((cuts[0] <= x_train[:, var_id]) & (x_train[:, var_id] < cuts[1]))\n",
    "bin3_ids = np.where((cuts[1] <= x_train[:, var_id]) & (x_train[:, var_id] < cuts[2]))\n",
    "bin4_ids = np.where((cuts[2] <= x_train[:, var_id]) & (x_train[:, var_id] < cuts[3]))\n",
    "bin5_ids = np.where((cuts[3] <= x_train[:, var_id]) & (x_train[:, var_id] < cuts[4]))\n",
    "bin6_ids = np.where(x_train[:, var_id] >= cuts[4])"
   ]
  },
  {
   "cell_type": "code",
   "execution_count": 15,
   "metadata": {},
   "outputs": [],
   "source": [
    "# Get each of our training and true values\n",
    "x1 = x_train[bin1_ids]\n",
    "y1 = y_train[bin1_ids]\n",
    "\n",
    "x2 = x_train[bin2_ids]\n",
    "y2 = y_train[bin2_ids]\n",
    "\n",
    "x3 = x_train[bin3_ids]\n",
    "y3 = y_train[bin3_ids]\n",
    "\n",
    "x4 = x_train[bin4_ids]\n",
    "y4 = y_train[bin4_ids]\n",
    "\n",
    "x5 = x_train[bin5_ids]\n",
    "y5 = y_train[bin5_ids]\n",
    "\n",
    "x6 = x_train[bin6_ids]\n",
    "y6 = y_train[bin6_ids]"
   ]
  },
  {
   "cell_type": "code",
   "execution_count": 16,
   "metadata": {},
   "outputs": [],
   "source": [
    "# Put them in list (I would automate this...but I'm lazy)\n",
    "bins_train_x = [x1, x2, x3, x4, x5, x6]\n",
    "bins_train_y = [y1, y2, y3, y4, y5, y6]"
   ]
  },
  {
   "cell_type": "code",
   "execution_count": 17,
   "metadata": {},
   "outputs": [
    {
     "name": "stdout",
     "output_type": "stream",
     "text": [
      "min: 0.0008749623710448751\n",
      "max: 0.49799231212210116\n"
     ]
    },
    {
     "data": {
      "text/plain": [
       "<matplotlib.collections.PathCollection at 0x7f09b7778760>"
      ]
     },
     "execution_count": 17,
     "metadata": {},
     "output_type": "execute_result"
    },
    {
     "data": {
      "image/png": "[encoded data removed]",
      "text/plain": [
       "<Figure size 432x288 with 1 Axes>"
      ]
     },
     "metadata": {
      "needs_background": "light"
     },
     "output_type": "display_data"
    }
   ],
   "source": [
    "# Showcase a single bin\n",
    "bin_idx = 3\n",
    "\n",
    "print('min: {}'.format(np.min(bins_train_x[bin_idx][:,var_id])))\n",
    "print('max: {}'.format(np.max(bins_train_x[bin_idx][:,var_id])))\n",
    "\n",
    "plt.scatter(\n",
    "    bins_train_x[bin_idx][:, var_id], \n",
    "    bins_train_y[bin_idx], \n",
    "    marker='.'\n",
    ")"
   ]
  },
  {
   "cell_type": "code",
   "execution_count": 18,
   "metadata": {},
   "outputs": [],
   "source": [
    "# Now, perform linear regression on each training bin\n",
    "bin_models = []\n",
    "\n",
    "for i in range(K_piecewise+1):\n",
    "    bin_models += [LRGD.LRGD()]\n",
    "    bin_models[i].fit(\n",
    "        bins_train_x[i], \n",
    "        bins_train_y[i]\n",
    "    )"
   ]
  },
  {
   "cell_type": "code",
   "execution_count": 19,
   "metadata": {},
   "outputs": [
    {
     "name": "stdout",
     "output_type": "stream",
     "text": [
      "[ 0.1999856   0.00383286  0.16627156 -0.08675738  0.18853779]\n",
      "[ 0.19915071  0.0057654   0.24001414 -0.08378994  0.21933513]\n",
      "[ 0.22896803 -0.00139493  0.09316497 -0.09021234  0.22617917]\n",
      "[ 0.28373588  0.01280247  0.01460032 -0.03983933  0.32763999]\n",
      "[ 0.39465765  0.00560565  0.17955411 -0.03928118  0.29435645]\n",
      "[ 0.65586647 -0.02280351  0.23408994 -0.09491561  0.33074807]\n"
     ]
    }
   ],
   "source": [
    "for i in range(K_piecewise+1):\n",
    "    print(bin_models[i].beta)"
   ]
  },
  {
   "cell_type": "markdown",
   "metadata": {},
   "source": [
    "### iv) Spline with d = 3 and K = 3\n",
    "Create new 'predictors' for intercept, power-1, power-2, power-3, and the K=3 truncated terms for each of the p=5 predictors 1+p(K+d) = 1+5(3+3) = 31 \"predictors\". We have the power-1 terms and intercept accounted for. We will add the power-2 terms, the power-3 terms and then the truncated terms in the same order as the variables appear in the `names` list.\n",
    "\n",
    "Recall,\n",
    "\n",
    "`names = ['Overall Qual', 'Overall Cond', 'Total Bsmt SF', 'Central Air', 'Gr Liv Area']`"
   ]
  },
  {
   "cell_type": "code",
   "execution_count": 20,
   "metadata": {},
   "outputs": [
    {
     "name": "stdout",
     "output_type": "stream",
     "text": [
      "(2343, 5)\n",
      "(2343, 10)\n"
     ]
    }
   ],
   "source": [
    "# Add power-2 terms\n",
    "print(x_train.shape)\n",
    "spline_x_train = np.hstack((x_train, x_train**2))\n",
    "print(spline_x_train.shape)"
   ]
  },
  {
   "cell_type": "code",
   "execution_count": 21,
   "metadata": {},
   "outputs": [
    {
     "name": "stdout",
     "output_type": "stream",
     "text": [
      "(2343, 15)\n"
     ]
    }
   ],
   "source": [
    "# Add power-3 terms\n",
    "spline_x_train = np.hstack((spline_x_train, x_train**3))\n",
    "print(spline_x_train.shape)"
   ]
  },
  {
   "cell_type": "code",
   "execution_count": 22,
   "metadata": {},
   "outputs": [],
   "source": [
    "# Add truncated terms\n",
    "\n",
    "# Define 3 cut points for each var (looked at each predictor vs sales price to determine)\n",
    "cuts = np.array([\n",
    "    [-2.0, 0.0, 2.0], # overall qual\n",
    "    [-2.0, 0.0, 2.0], # overall cond\n",
    "    [-1.0, 0.5, 1.5], # total bsmt sf\n",
    "    [-1.0, 0.0, 3.0], # central air\n",
    "    [-1.0, 0.0, 1.0] # gr liv area\n",
    "])\n",
    "\n",
    "'''predictor_index=2\n",
    "cut_index=0\n",
    "temp = x_train[:,predictor_index]\n",
    "print('before {}'.format(temp))\n",
    "temp = np.where(\n",
    "    temp < cuts[predictor_index][cut_index], \n",
    "    temp*0, \n",
    "    (temp - cuts[predictor_index][cut_index])**3\n",
    ")\n",
    "#temp - cuts[predictor_index][cut_index]\n",
    "print('after {}'.format(temp))\n",
    "'''\n",
    "\n",
    "debug = False\n",
    "\n",
    "# Iteratively horizontally stack to spline training data\n",
    "for predictor_index in range(x_train.shape[1]):\n",
    "    for cut_index in range(cuts.shape[1]):\n",
    "        temp = x_train[:,predictor_index]\n",
    "        temp = temp.reshape(temp.shape[0], 1)\n",
    "        cut = cuts[predictor_index][cut_index]\n",
    "        \n",
    "        if debug:\n",
    "            print(temp.shape)\n",
    "        \n",
    "        temp = np.where(\n",
    "            temp <= cut, # element-wise\n",
    "            temp*0, # when condition is true\n",
    "            (temp-cut)**3 # again, element-wise\n",
    "        )\n",
    "        \n",
    "        spline_x_train = np.hstack((spline_x_train, temp))\n",
    "        \n",
    "        if debug:\n",
    "            print(spline_x_train.shape)"
   ]
  },
  {
   "cell_type": "code",
   "execution_count": 23,
   "metadata": {},
   "outputs": [
    {
     "data": {
      "text/plain": [
       "<LRGD.LRGD at 0x7f09b773d1c0>"
      ]
     },
     "execution_count": 23,
     "metadata": {},
     "output_type": "execute_result"
    }
   ],
   "source": [
    "# Finally, perform linear regression on dataset with new terms\n",
    "spline_model = LRGD.LRGD()\n",
    "spline_model.fit(spline_x_train, y_train)"
   ]
  },
  {
   "cell_type": "markdown",
   "metadata": {},
   "source": [
    "### (b) i) Epochs vs. Training Error"
   ]
  },
  {
   "cell_type": "code",
   "execution_count": 24,
   "metadata": {},
   "outputs": [],
   "source": [
    "def plot_error_v_epochs(model=None, name=''):\n",
    "    print('{} coefficient beta = '.format(name), model.beta)\n",
    "    print('{} intercept = '.format(name), model.intercept)\n",
    "    plt.plot(range(1, model.n_iter+1), model.losses)\n",
    "    plt.ylabel('MSE')\n",
    "    plt.xlabel('Epoch')\n",
    "    plt.tight_layout()\n",
    "    plt.title('{}: Training Error vs Epochs'.format(name))\n",
    "    plt.show()"
   ]
  },
  {
   "cell_type": "code",
   "execution_count": 25,
   "metadata": {},
   "outputs": [
    {
     "name": "stdout",
     "output_type": "stream",
     "text": [
      "MLR coefficient beta =  [ 0.3523111  -0.01651009  0.24931836 -0.0784311   0.30242834]\n",
      "MLR intercept =  [0.00054275]\n"
     ]
    },
    {
     "data": {
      "image/png": "[encoded data removed]",
      "text/plain": [
       "<Figure size 432x288 with 1 Axes>"
      ]
     },
     "metadata": {
      "needs_background": "light"
     },
     "output_type": "display_data"
    }
   ],
   "source": [
    "# i) multiple linear regression (MLR)\n",
    "plot_error_v_epochs(mlr_model, 'MLR')"
   ]
  },
  {
   "cell_type": "code",
   "execution_count": 26,
   "metadata": {},
   "outputs": [
    {
     "name": "stdout",
     "output_type": "stream",
     "text": [
      "Polynomial coefficient beta =  [-4.13044374e-02  2.97979778e-01 -2.21030436e-04  2.07881866e-01\n",
      "  1.52747864e-03  2.51475715e-01  7.88597462e-02 -3.90361659e-02\n",
      "  6.40047260e-02 -5.67188900e-03  4.95372016e-02 -3.62227789e-02\n",
      " -1.85762141e-02  1.58698886e-02  1.34916037e-02  9.63174205e-03\n",
      " -6.14503093e-03 -1.32165643e-02 -4.19404623e-02 -1.69639772e-02\n",
      "  3.39960311e-02]\n",
      "Polynomial intercept =  [-0.04627158]\n"
     ]
    },
    {
     "data": {
      "image/png": "[encoded data removed]",
      "text/plain": [
       "<Figure size 432x288 with 1 Axes>"
      ]
     },
     "metadata": {
      "needs_background": "light"
     },
     "output_type": "display_data"
    }
   ],
   "source": [
    "# ii) polynomial linear regression\n",
    "plot_error_v_epochs(poly_model, 'Polynomial')"
   ]
  },
  {
   "cell_type": "code",
   "execution_count": 27,
   "metadata": {},
   "outputs": [
    {
     "name": "stdout",
     "output_type": "stream",
     "text": [
      "Bin 1 coefficient beta =  [ 0.1999856   0.00383286  0.16627156 -0.08675738  0.18853779]\n",
      "Bin 1 intercept =  [-0.06521573]\n"
     ]
    },
    {
     "data": {
      "image/png": "[encoded data removed]",
      "text/plain": [
       "<Figure size 432x288 with 1 Axes>"
      ]
     },
     "metadata": {
      "needs_background": "light"
     },
     "output_type": "display_data"
    }
   ],
   "source": [
    "# iii) piecewise linear regression\n",
    "# Below are the six bins' training error for each epoch (the default parameter)\n",
    "i = 0\n",
    "plot_error_v_epochs(bin_models[i], 'Bin {}'.format(i+1))"
   ]
  },
  {
   "cell_type": "code",
   "execution_count": 28,
   "metadata": {},
   "outputs": [
    {
     "name": "stdout",
     "output_type": "stream",
     "text": [
      "Bin 2 coefficient beta =  [ 0.19915071  0.0057654   0.24001414 -0.08378994  0.21933513]\n",
      "Bin 2 intercept =  [-0.19546017]\n"
     ]
    },
    {
     "data": {
      "image/png": "[encoded data removed]",
      "text/plain": [
       "<Figure size 432x288 with 1 Axes>"
      ]
     },
     "metadata": {
      "needs_background": "light"
     },
     "output_type": "display_data"
    }
   ],
   "source": [
    "i += 1\n",
    "plot_error_v_epochs(bin_models[i], 'Bin {}'.format(i+1))"
   ]
  },
  {
   "cell_type": "code",
   "execution_count": 29,
   "metadata": {},
   "outputs": [
    {
     "name": "stdout",
     "output_type": "stream",
     "text": [
      "Bin 3 coefficient beta =  [ 0.22896803 -0.00139493  0.09316497 -0.09021234  0.22617917]\n",
      "Bin 3 intercept =  [-0.15918943]\n"
     ]
    },
    {
     "data": {
      "image/png": "[encoded data removed]",
      "text/plain": [
       "<Figure size 432x288 with 1 Axes>"
      ]
     },
     "metadata": {
      "needs_background": "light"
     },
     "output_type": "display_data"
    }
   ],
   "source": [
    "i += 1\n",
    "plot_error_v_epochs(bin_models[i], 'Bin {}'.format(i+1))"
   ]
  },
  {
   "cell_type": "code",
   "execution_count": 30,
   "metadata": {},
   "outputs": [
    {
     "name": "stdout",
     "output_type": "stream",
     "text": [
      "Bin 4 coefficient beta =  [ 0.28373588  0.01280247  0.01460032 -0.03983933  0.32763999]\n",
      "Bin 4 intercept =  [0.00642071]\n"
     ]
    },
    {
     "data": {
      "image/png": "[encoded data removed]",
      "text/plain": [
       "<Figure size 432x288 with 1 Axes>"
      ]
     },
     "metadata": {
      "needs_background": "light"
     },
     "output_type": "display_data"
    }
   ],
   "source": [
    "i += 1\n",
    "plot_error_v_epochs(bin_models[i], 'Bin {}'.format(i+1))"
   ]
  },
  {
   "cell_type": "code",
   "execution_count": 31,
   "metadata": {},
   "outputs": [
    {
     "name": "stdout",
     "output_type": "stream",
     "text": [
      "Bin 5 coefficient beta =  [ 0.39465765  0.00560565  0.17955411 -0.03928118  0.29435645]\n",
      "Bin 5 intercept =  [0.13701147]\n"
     ]
    },
    {
     "data": {
      "image/png": "[encoded data removed]",
      "text/plain": [
       "<Figure size 432x288 with 1 Axes>"
      ]
     },
     "metadata": {
      "needs_background": "light"
     },
     "output_type": "display_data"
    }
   ],
   "source": [
    "i += 1\n",
    "plot_error_v_epochs(bin_models[i], 'Bin {}'.format(i+1))"
   ]
  },
  {
   "cell_type": "code",
   "execution_count": 32,
   "metadata": {},
   "outputs": [
    {
     "name": "stdout",
     "output_type": "stream",
     "text": [
      "Bin 6 coefficient beta =  [ 0.65586647 -0.02280351  0.23408994 -0.09491561  0.33074807]\n",
      "Bin 6 intercept =  [0.10882793]\n"
     ]
    },
    {
     "data": {
      "image/png": "[encoded data removed]",
      "text/plain": [
       "<Figure size 432x288 with 1 Axes>"
      ]
     },
     "metadata": {
      "needs_background": "light"
     },
     "output_type": "display_data"
    }
   ],
   "source": [
    "i += 1\n",
    "plot_error_v_epochs(bin_models[i], 'Bin {}'.format(i+1))"
   ]
  },
  {
   "cell_type": "code",
   "execution_count": 33,
   "metadata": {},
   "outputs": [
    {
     "name": "stdout",
     "output_type": "stream",
     "text": [
      "Spline coefficient beta =  [ 7.21248545e+63 -4.67969328e+63  7.05734253e+63 -3.97056753e+64\n",
      "  3.40278809e+62 -3.62769195e+64 -4.69020163e+64 -3.10021306e+64\n",
      " -1.60518167e+65 -3.54608540e+64  2.23399931e+64 -2.49379075e+64\n",
      "  5.31607863e+63 -5.96118084e+65 -5.22091235e+64 -2.92801619e+65\n",
      " -2.40009097e+64 -2.11875177e+62 -5.47938256e+65 -6.73507040e+64\n",
      " -1.56910773e+63 -9.46170395e+64 -1.60101561e+64 -4.60405221e+63\n",
      " -1.21967394e+66 -5.96337629e+65 -4.53180901e+63 -1.81190727e+65\n",
      " -6.91205899e+64 -2.60685190e+64]\n",
      "Spline intercept =  [-2.28843345e+64]\n"
     ]
    },
    {
     "data": {
      "image/png": "[encoded data removed]",
      "text/plain": [
       "<Figure size 432x288 with 1 Axes>"
      ]
     },
     "metadata": {
      "needs_background": "light"
     },
     "output_type": "display_data"
    }
   ],
   "source": [
    "# iv) Spline regression\n",
    "plot_error_v_epochs(spline_model, 'Spline')"
   ]
  },
  {
   "cell_type": "markdown",
   "metadata": {},
   "source": [
    "### (b) ii) Report Training and Validation Error"
   ]
  },
  {
   "cell_type": "code",
   "execution_count": 34,
   "metadata": {},
   "outputs": [
    {
     "name": "stdout",
     "output_type": "stream",
     "text": [
      "(Avg) Training Error: 0.391344\n",
      "Validation Error:     0.391640\n"
     ]
    }
   ],
   "source": [
    "# i) Error for MLR\n",
    "mlr_model.print_errors(x_test, y_test)"
   ]
  },
  {
   "cell_type": "code",
   "execution_count": 35,
   "metadata": {},
   "outputs": [
    {
     "name": "stdout",
     "output_type": "stream",
     "text": [
      "(Avg) Training Error: 0.317709\n",
      "Validation Error:     0.562595\n"
     ]
    }
   ],
   "source": [
    "# ii) Error from Polynomial reg.\n",
    "x_test_poly = poly_x.fit_transform(x_test)\n",
    "poly_model.print_errors(x_test_poly, y_test)"
   ]
  },
  {
   "cell_type": "code",
   "execution_count": 36,
   "metadata": {},
   "outputs": [],
   "source": [
    "# iii) Piecewise reg.\n",
    "cuts = [-1.5, -1.0, 0.0, 0.5, 1.5, 2.5] # redefine as we overwrote it\n",
    "\n",
    "# First, create test set organized into bins\n",
    "bin1_ids = np.where(x_test[:, var_id] < cuts[0])\n",
    "bin2_ids = np.where((cuts[0] <= x_test[:, var_id]) & (x_test[:, var_id] < cuts[1]))\n",
    "bin3_ids = np.where((cuts[1] <= x_test[:, var_id]) & (x_test[:, var_id] < cuts[2]))\n",
    "bin4_ids = np.where((cuts[2] <= x_test[:, var_id]) & (x_test[:, var_id] < cuts[3]))\n",
    "bin5_ids = np.where((cuts[3] <= x_test[:, var_id]) & (x_test[:, var_id] < cuts[4]))\n",
    "bin6_ids = np.where(x_test[:, var_id] >= cuts[4])\n",
    "\n",
    "bins_test_x = [\n",
    "    x_train[bin1_ids],\n",
    "    x_train[bin2_ids],\n",
    "    x_train[bin3_ids],\n",
    "    x_train[bin4_ids],\n",
    "    x_train[bin5_ids],\n",
    "    x_train[bin6_ids]\n",
    "]\n",
    "\n",
    "bins_test_y = [\n",
    "    y_train[bin1_ids], \n",
    "    y_train[bin2_ids], \n",
    "    y_train[bin3_ids], \n",
    "    y_train[bin4_ids], \n",
    "    y_train[bin5_ids], \n",
    "    y_train[bin6_ids]\n",
    "]"
   ]
  },
  {
   "cell_type": "code",
   "execution_count": 37,
   "metadata": {},
   "outputs": [
    {
     "name": "stdout",
     "output_type": "stream",
     "text": [
      "Bin 1\n",
      "(Avg) Training Error: 0.150776\n",
      "Validation Error:     0.790610\n",
      "Bin 2\n",
      "(Avg) Training Error: 0.192880\n",
      "Validation Error:     0.364857\n",
      "Bin 3\n",
      "(Avg) Training Error: 0.209313\n",
      "Validation Error:     0.320545\n",
      "Bin 4\n",
      "(Avg) Training Error: 0.267424\n",
      "Validation Error:     0.327788\n",
      "Bin 5\n",
      "(Avg) Training Error: 0.439544\n",
      "Validation Error:     0.152905\n"
     ]
    }
   ],
   "source": [
    "# Finally, print errors for all six bins\n",
    "for i in range(K_piecewise):\n",
    "    print('Bin {}'.format(i+1))\n",
    "    bin_models[i].print_errors(bins_test_x[i], bins_test_y[i])"
   ]
  },
  {
   "cell_type": "code",
   "execution_count": 38,
   "metadata": {},
   "outputs": [],
   "source": [
    "# iv) Cubic spline reg\n",
    "spline_x_test = np.hstack((x_test, x_test**2))\n",
    "spline_x_test = np.hstack((spline_x_test, x_test**2))\n",
    "\n",
    "# Re-define our knots...\n",
    "cuts = np.array([\n",
    "    [-2.0, 0.0, 2.0], # overall qual\n",
    "    [-2.0, 0.0, 2.0], # overall cond\n",
    "    [-1.0, 0.5, 1.5], # total bsmt sf\n",
    "    [-1.0, 0.0, 3.0], # central air\n",
    "    [-1.0, 0.0, 1.0] # gr liv area\n",
    "])\n",
    "\n",
    "# Iteratively horizontally stack to spline testing data\n",
    "for predictor_index in range(x_train.shape[1]):\n",
    "    for cut_index in range(cuts.shape[1]):\n",
    "        temp = x_test[:,predictor_index]\n",
    "        temp = temp.reshape(temp.shape[0], 1)\n",
    "        cut = cuts[predictor_index][cut_index]\n",
    "        \n",
    "        temp = np.where(\n",
    "            temp <= cut, # element-wise\n",
    "            temp*0, # when condition is true\n",
    "            (temp-cut)**3 # again, element-wise\n",
    "        )\n",
    "        \n",
    "        spline_x_test = np.hstack((spline_x_test, temp))"
   ]
  },
  {
   "cell_type": "code",
   "execution_count": 39,
   "metadata": {},
   "outputs": [
    {
     "name": "stdout",
     "output_type": "stream",
     "text": [
      "(Avg) Training Error: 121218575341917518831988863101796379491750540387593850890435158972821709400985979379866176094978318127068770341796382649993769517056.000000\n",
      "Validation Error:     2818696377164105293679684589945259863225236050590042804338420971210959653129155792303007745645284990055444832972506915796094008380358656.000000\n"
     ]
    }
   ],
   "source": [
    "# Comment...it seems my cubic spline model is not very good for this task...\n",
    "spline_model.print_errors(spline_x_test, y_test)"
   ]
  },
  {
   "cell_type": "markdown",
   "metadata": {},
   "source": [
    "### Task 2: Ridge Regression and LASSO\n",
    "\n",
    "1. For Housing Data, perform Ridge Regression and LASSO for the training data set from Task 1 for different values of lambda.   \n",
    "    \n",
    "    Report:    \n",
    "    1. Values of lambda vs training error curve. \n",
    "    2. Values of lambda vs validation error. \n",
    "    3. Compare Validarion Error from MLR in Task 1 to Validation Error from Ridge and LASSO. \n",
    "\n",
    "    Do not forget to standarize all inputs. For Ridge and Lasso, we have not implemented our own solver. Please use scikit learn library. \n",
    "    "
   ]
  },
  {
   "cell_type": "code",
   "execution_count": null,
   "metadata": {},
   "outputs": [],
   "source": [
    "# Check dataset is standardized"
   ]
  },
  {
   "cell_type": "code",
   "execution_count": null,
   "metadata": {},
   "outputs": [],
   "source": [
    "# Perform ridge reg. (i.e., add L2 term with weight lambda)\n",
    "#  for different lambdas"
   ]
  },
  {
   "cell_type": "code",
   "execution_count": null,
   "metadata": {},
   "outputs": [],
   "source": [
    "# Use LASSO (i.e., add L1 term with weight lambda)\n",
    "#  for different lambdas"
   ]
  },
  {
   "cell_type": "code",
   "execution_count": null,
   "metadata": {},
   "outputs": [],
   "source": []
  },
  {
   "cell_type": "code",
   "execution_count": null,
   "metadata": {},
   "outputs": [],
   "source": []
  },
  {
   "cell_type": "markdown",
   "metadata": {},
   "source": [
    "### Task 3: Resampling\n",
    "\n",
    "For the Housing Data: (Complete Data set, not only training from Task 1)\n",
    "\n",
    "1. Cross Validation: Perform Multiple Linear Regression with K-fold cross validation. You can choose K = 5.    \n",
    "Report: \n",
    "    a. Regression Coeffs for each dataset. \n",
    "    b. Cross validation Error. \n",
    "\n",
    "2. Bootstrapping: Create 10 different datasets each with 3N/4 data samples using bootstrapping (i.e. Resampling with replacement), where N = total numbers of data samples in Housing Data. Perform Multiple Linear Regression on 10 datasets you created.\n",
    "\n",
    "Report:   \n",
    "\n",
    "a. Regression Coeffs for each dataset.  \n",
    "b. Average error. \n",
    "\n",
    "You can write your own resample fucntions but feel free to use scikit learn resample. \n",
    "\n",
    "\n",
    "\n"
   ]
  }
 ],
 "metadata": {
  "interpreter": {
   "hash": "c6e4e9f98eb68ad3b7c296f83d20e6de614cb42e90992a65aa266555a3137d0d"
  },
  "kernelspec": {
   "display_name": "ml",
   "language": "python",
   "name": "ml"
  },
  "language_info": {
   "codemirror_mode": {
    "name": "ipython",
    "version": 3
   },
   "file_extension": ".py",
   "mimetype": "text/x-python",
   "name": "python",
   "nbconvert_exporter": "python",
   "pygments_lexer": "ipython3",
   "version": "3.9.7"
  }
 },
 "nbformat": 4,
 "nbformat_minor": 2
}
