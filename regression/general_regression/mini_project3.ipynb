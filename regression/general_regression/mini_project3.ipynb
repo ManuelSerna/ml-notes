{
 "cells": [
  {
   "cell_type": "markdown",
   "metadata": {},
   "source": [
    "# CSCE 5063 Machine Learning Mini Project 3 Submission\n",
    "# Manuel Serna-Aguilera\n",
    "Note that I include markdown cells before blocks of code cells to convey any important information."
   ]
  },
  {
   "cell_type": "markdown",
   "metadata": {},
   "source": [
    "# Mini-project 3 : Piecewise Regression and Resampling Techniques\n",
    "   \n",
    "-Dataset Ames Housing Dataset\n",
    "\n",
    "This mini-project involves:    \n",
    "- Piecewise Linear and Piecewise Polynomial Regression    \n",
    "- Resampling Techniques: k-fold cross validation and bootstrapping\n",
    "\n",
    "Submission: \n",
    "\n",
    "For this project, you will submit your .ipynb file through Blackboard. "
   ]
  },
  {
   "cell_type": "code",
   "execution_count": 1,
   "metadata": {},
   "outputs": [],
   "source": [
    "import matplotlib.pyplot as plt\n",
    "import numpy as np\n",
    "import pandas as pd\n",
    "import scipy\n",
    "import sklearn\n",
    "\n",
    "import LRGD"
   ]
  },
  {
   "cell_type": "markdown",
   "metadata": {},
   "source": [
    "## Task 1: Piecewise Regression\n",
    "\n",
    "For the Housing Dataset from mini-project2 :   \n",
    "\n",
    "a. Randomly split the dataset into 80% training set and 20% validation set. (Feel free to write your own function to split data or use scikit learn functions)  \n",
    "b. Perform:   \n",
    "i)Multiple Linear Regression,  ii)Polynomial Regression of degree 2, iii)Piecewise Linear Regression (Split/cut K = 5, i.e. 6 bins), and iv) Spline with d = 3 and K = 3. \n",
    "          \n",
    "Report:  \n",
    "1. Epochs vs Training Error curve for all 4 models in b.    \n",
    "2. Validation error for all 4 models.  Which one has the best Training and Validation Error?\n",
    "\n",
    "Note :   \n",
    "\n",
    "- Make sure you use all 5 input variables from Housing Data and same training and validation set from a) for all models in b.     \n",
    "- You can still use the LRGD class you created in project 2 or use scikit learn. You just need to create new varaibles using appropriate indicator functions , express it as a additive model and use LRGD or use scikit learn.   \n",
    "- Refer to general regression equation form for each models ii) to iv) on how to create new variables. \n",
    "\n",
    "Food for Thought:   \n",
    "Q. Why we can still use LRGD we created on Task 1 for Polynomial, Piecewise and Splines? If you think, we cannot use the same Gradient Descent from LRGD, why not?\n",
    "\n",
    "    \n",
    "\n"
   ]
  },
  {
   "cell_type": "code",
   "execution_count": 2,
   "metadata": {},
   "outputs": [
    {
     "data": {
      "text/html": [
       "<div>\n",
       "<style scoped>\n",
       "    .dataframe tbody tr th:only-of-type {\n",
       "        vertical-align: middle;\n",
       "    }\n",
       "\n",
       "    .dataframe tbody tr th {\n",
       "        vertical-align: top;\n",
       "    }\n",
       "\n",
       "    .dataframe thead th {\n",
       "        text-align: right;\n",
       "    }\n",
       "</style>\n",
       "<table border=\"1\" class=\"dataframe\">\n",
       "  <thead>\n",
       "    <tr style=\"text-align: right;\">\n",
       "      <th></th>\n",
       "      <th>Overall Qual</th>\n",
       "      <th>Overall Cond</th>\n",
       "      <th>Total Bsmt SF</th>\n",
       "      <th>Central Air</th>\n",
       "      <th>Gr Liv Area</th>\n",
       "      <th>SalePrice</th>\n",
       "    </tr>\n",
       "  </thead>\n",
       "  <tbody>\n",
       "    <tr>\n",
       "      <th>0</th>\n",
       "      <td>6</td>\n",
       "      <td>5</td>\n",
       "      <td>1080.0</td>\n",
       "      <td>Y</td>\n",
       "      <td>1656</td>\n",
       "      <td>215000</td>\n",
       "    </tr>\n",
       "    <tr>\n",
       "      <th>1</th>\n",
       "      <td>5</td>\n",
       "      <td>6</td>\n",
       "      <td>882.0</td>\n",
       "      <td>Y</td>\n",
       "      <td>896</td>\n",
       "      <td>105000</td>\n",
       "    </tr>\n",
       "    <tr>\n",
       "      <th>2</th>\n",
       "      <td>6</td>\n",
       "      <td>6</td>\n",
       "      <td>1329.0</td>\n",
       "      <td>Y</td>\n",
       "      <td>1329</td>\n",
       "      <td>172000</td>\n",
       "    </tr>\n",
       "    <tr>\n",
       "      <th>3</th>\n",
       "      <td>7</td>\n",
       "      <td>5</td>\n",
       "      <td>2110.0</td>\n",
       "      <td>Y</td>\n",
       "      <td>2110</td>\n",
       "      <td>244000</td>\n",
       "    </tr>\n",
       "    <tr>\n",
       "      <th>4</th>\n",
       "      <td>5</td>\n",
       "      <td>5</td>\n",
       "      <td>928.0</td>\n",
       "      <td>Y</td>\n",
       "      <td>1629</td>\n",
       "      <td>189900</td>\n",
       "    </tr>\n",
       "  </tbody>\n",
       "</table>\n",
       "</div>"
      ],
      "text/plain": [
       "   Overall Qual  Overall Cond  Total Bsmt SF Central Air  Gr Liv Area  \\\n",
       "0             6             5         1080.0           Y         1656   \n",
       "1             5             6          882.0           Y          896   \n",
       "2             6             6         1329.0           Y         1329   \n",
       "3             7             5         2110.0           Y         2110   \n",
       "4             5             5          928.0           Y         1629   \n",
       "\n",
       "   SalePrice  \n",
       "0     215000  \n",
       "1     105000  \n",
       "2     172000  \n",
       "3     244000  \n",
       "4     189900  "
      ]
     },
     "execution_count": 2,
     "metadata": {},
     "output_type": "execute_result"
    }
   ],
   "source": [
    "# Import Housing dataset\n",
    "columns = ['Overall Qual', 'Overall Cond', 'Gr Liv Area',\n",
    "           'Central Air', 'Total Bsmt SF', 'SalePrice']\n",
    "\n",
    "df = pd.read_csv(\n",
    "    'http://jse.amstat.org/v19n3/decock/AmesHousing.txt', \n",
    "    sep='\\t', \n",
    "    usecols=columns\n",
    ")\n",
    "df.head() "
   ]
  },
  {
   "cell_type": "code",
   "execution_count": 3,
   "metadata": {},
   "outputs": [
    {
     "data": {
      "text/html": [
       "<div>\n",
       "<style scoped>\n",
       "    .dataframe tbody tr th:only-of-type {\n",
       "        vertical-align: middle;\n",
       "    }\n",
       "\n",
       "    .dataframe tbody tr th {\n",
       "        vertical-align: top;\n",
       "    }\n",
       "\n",
       "    .dataframe thead th {\n",
       "        text-align: right;\n",
       "    }\n",
       "</style>\n",
       "<table border=\"1\" class=\"dataframe\">\n",
       "  <thead>\n",
       "    <tr style=\"text-align: right;\">\n",
       "      <th></th>\n",
       "      <th>Overall Qual</th>\n",
       "      <th>Overall Cond</th>\n",
       "      <th>Total Bsmt SF</th>\n",
       "      <th>Central Air</th>\n",
       "      <th>Gr Liv Area</th>\n",
       "      <th>SalePrice</th>\n",
       "    </tr>\n",
       "  </thead>\n",
       "  <tbody>\n",
       "    <tr>\n",
       "      <th>0</th>\n",
       "      <td>6</td>\n",
       "      <td>5</td>\n",
       "      <td>1080.0</td>\n",
       "      <td>0</td>\n",
       "      <td>1656</td>\n",
       "      <td>215000</td>\n",
       "    </tr>\n",
       "    <tr>\n",
       "      <th>1</th>\n",
       "      <td>5</td>\n",
       "      <td>6</td>\n",
       "      <td>882.0</td>\n",
       "      <td>0</td>\n",
       "      <td>896</td>\n",
       "      <td>105000</td>\n",
       "    </tr>\n",
       "    <tr>\n",
       "      <th>2</th>\n",
       "      <td>6</td>\n",
       "      <td>6</td>\n",
       "      <td>1329.0</td>\n",
       "      <td>0</td>\n",
       "      <td>1329</td>\n",
       "      <td>172000</td>\n",
       "    </tr>\n",
       "    <tr>\n",
       "      <th>3</th>\n",
       "      <td>7</td>\n",
       "      <td>5</td>\n",
       "      <td>2110.0</td>\n",
       "      <td>0</td>\n",
       "      <td>2110</td>\n",
       "      <td>244000</td>\n",
       "    </tr>\n",
       "    <tr>\n",
       "      <th>4</th>\n",
       "      <td>5</td>\n",
       "      <td>5</td>\n",
       "      <td>928.0</td>\n",
       "      <td>0</td>\n",
       "      <td>1629</td>\n",
       "      <td>189900</td>\n",
       "    </tr>\n",
       "  </tbody>\n",
       "</table>\n",
       "</div>"
      ],
      "text/plain": [
       "   Overall Qual  Overall Cond  Total Bsmt SF  Central Air  Gr Liv Area  \\\n",
       "0             6             5         1080.0            0         1656   \n",
       "1             5             6          882.0            0          896   \n",
       "2             6             6         1329.0            0         1329   \n",
       "3             7             5         2110.0            0         2110   \n",
       "4             5             5          928.0            0         1629   \n",
       "\n",
       "   SalePrice  \n",
       "0     215000  \n",
       "1     105000  \n",
       "2     172000  \n",
       "3     244000  \n",
       "4     189900  "
      ]
     },
     "execution_count": 3,
     "metadata": {},
     "output_type": "execute_result"
    }
   ],
   "source": [
    "# Preprocess dataset\n",
    "df = df.dropna(axis=0) # drop rows with incomplete data entries\n",
    "\n",
    "# Convert categorical var CentralAir to dummy values\n",
    "df['Central Air'] = pd.factorize(df['Central Air'])[0]\n",
    "df.head()"
   ]
  },
  {
   "cell_type": "code",
   "execution_count": 4,
   "metadata": {},
   "outputs": [],
   "source": [
    "# Get data from pandas dataframe\n",
    "names = ['Overall Qual', 'Overall Cond', 'Total Bsmt SF', 'Central Air', 'Gr Liv Area']\n",
    "X = df[names].values\n",
    "y = df['SalePrice'].values"
   ]
  },
  {
   "cell_type": "code",
   "execution_count": 5,
   "metadata": {},
   "outputs": [],
   "source": [
    "from sklearn.preprocessing import StandardScaler\n",
    "\n",
    "X_std = StandardScaler().fit_transform(X)\n",
    "y_std = StandardScaler().fit_transform(y[:, np.newaxis]).flatten()"
   ]
  },
  {
   "cell_type": "code",
   "execution_count": 6,
   "metadata": {},
   "outputs": [],
   "source": [
    "# (a) Randomly split dataset\n",
    "from sklearn.model_selection import train_test_split\n",
    "\n",
    "x_train, x_test, y_train, y_test = train_test_split(X_std, y_std, test_size=0.2, random_state=42)"
   ]
  },
  {
   "cell_type": "markdown",
   "metadata": {},
   "source": [
    "### i) Multiple Linear Regression"
   ]
  },
  {
   "cell_type": "code",
   "execution_count": 7,
   "metadata": {},
   "outputs": [
    {
     "data": {
      "text/plain": [
       "<LRGD.LRGD at 0x7fdd5a28c3a0>"
      ]
     },
     "execution_count": 7,
     "metadata": {},
     "output_type": "execute_result"
    }
   ],
   "source": [
    "mlr_model = LRGD.LRGD()\n",
    "mlr_model.fit(x_train, y_train)"
   ]
  },
  {
   "cell_type": "markdown",
   "metadata": {},
   "source": [
    "### ii) Polynomial Regression of degree 2\n",
    "In this project, I include all interaction terms, and power-2 terms, for a total of 1 (intercept) + 5 (linear-terms) + 10 (interaction terms) + 5 (power-2 terms) = 21 total predictors."
   ]
  },
  {
   "cell_type": "code",
   "execution_count": 8,
   "metadata": {},
   "outputs": [],
   "source": [
    "# NOTE: interaction variables tossed out\n",
    "from sklearn.preprocessing import PolynomialFeatures\n",
    "\n",
    "poly_x = PolynomialFeatures(2)\n",
    "x_train_poly = poly_x.fit_transform(x_train)"
   ]
  },
  {
   "cell_type": "code",
   "execution_count": 9,
   "metadata": {},
   "outputs": [
    {
     "data": {
      "text/plain": [
       "(2343, 21)"
      ]
     },
     "execution_count": 9,
     "metadata": {},
     "output_type": "execute_result"
    }
   ],
   "source": [
    "x_train_poly.shape # 1+5+5+2*5"
   ]
  },
  {
   "cell_type": "code",
   "execution_count": 10,
   "metadata": {},
   "outputs": [
    {
     "data": {
      "text/plain": [
       "<LRGD.LRGD at 0x7fdd5a28c5b0>"
      ]
     },
     "execution_count": 10,
     "metadata": {},
     "output_type": "execute_result"
    }
   ],
   "source": [
    "poly_model = LRGD.LRGD()\n",
    "poly_model.fit(x_train_poly, y_train)"
   ]
  },
  {
   "cell_type": "markdown",
   "metadata": {},
   "source": [
    "### iii) Piecewise Linear Regression (split/cut K = 5, i.e. 6 bins)\n",
    "For this piecewise linear regression, I make the 5 cuts with respect to the `Total Bsmt ST` predictor."
   ]
  },
  {
   "cell_type": "code",
   "execution_count": 11,
   "metadata": {},
   "outputs": [],
   "source": [
    "K_piecewise = 5 # num cuts for piecewise"
   ]
  },
  {
   "cell_type": "code",
   "execution_count": 12,
   "metadata": {},
   "outputs": [
    {
     "name": "stdout",
     "output_type": "stream",
     "text": [
      "Variable \"Total Bsmt SF\" vs. Sales Price\n",
      "4.890330539374585\n",
      "-2.38710427022307\n"
     ]
    },
    {
     "data": {
      "text/plain": [
       "<matplotlib.collections.PathCollection at 0x7fdd58286fa0>"
      ]
     },
     "execution_count": 12,
     "metadata": {},
     "output_type": "execute_result"
    },
    {
     "data": {
      "image/png": "[encoded data removed]",
      "text/plain": [
       "<Figure size 432x288 with 1 Axes>"
      ]
     },
     "metadata": {
      "needs_background": "light"
     },
     "output_type": "display_data"
    }
   ],
   "source": [
    "# Get an idea as to which points to cut with respect to \n",
    "#  the 'Total Bsmt ST' variable\n",
    "i = 2\n",
    "print('Variable \"{}\" vs. Sales Price'.format(names[i]))\n",
    "print(np.max(x_train[:, i]))\n",
    "print(np.min(x_train[:, i]))\n",
    "\n",
    "plt.scatter(x_train[:, i], y_train, marker='.')"
   ]
  },
  {
   "cell_type": "code",
   "execution_count": 13,
   "metadata": {},
   "outputs": [],
   "source": [
    "# First, sort data with respect to one predictor, and then make bins\n",
    "#  at pre-determined intervals\n",
    "var_id = 2 # predictor we want to make cuts with respect to \n",
    "cuts = [-1.5, -1.0, 0.0, 0.5, 1.5, 2.5]"
   ]
  },
  {
   "cell_type": "code",
   "execution_count": 14,
   "metadata": {},
   "outputs": [],
   "source": [
    "# Get indicies (ids) if input samples that match given conditions\n",
    "bin1_ids = np.where(x_train[:, var_id] < cuts[0])\n",
    "bin2_ids = np.where((cuts[0] <= x_train[:, var_id]) & (x_train[:, var_id] < cuts[1]))\n",
    "bin3_ids = np.where((cuts[1] <= x_train[:, var_id]) & (x_train[:, var_id] < cuts[2]))\n",
    "bin4_ids = np.where((cuts[2] <= x_train[:, var_id]) & (x_train[:, var_id] < cuts[3]))\n",
    "bin5_ids = np.where((cuts[3] <= x_train[:, var_id]) & (x_train[:, var_id] < cuts[4]))\n",
    "bin6_ids = np.where(x_train[:, var_id] >= cuts[4])"
   ]
  },
  {
   "cell_type": "code",
   "execution_count": 15,
   "metadata": {},
   "outputs": [],
   "source": [
    "# Get each of our training and true values\n",
    "x1 = x_train[bin1_ids]\n",
    "y1 = y_train[bin1_ids]\n",
    "\n",
    "x2 = x_train[bin2_ids]\n",
    "y2 = y_train[bin2_ids]\n",
    "\n",
    "x3 = x_train[bin3_ids]\n",
    "y3 = y_train[bin3_ids]\n",
    "\n",
    "x4 = x_train[bin4_ids]\n",
    "y4 = y_train[bin4_ids]\n",
    "\n",
    "x5 = x_train[bin5_ids]\n",
    "y5 = y_train[bin5_ids]\n",
    "\n",
    "x6 = x_train[bin6_ids]\n",
    "y6 = y_train[bin6_ids]"
   ]
  },
  {
   "cell_type": "code",
   "execution_count": 16,
   "metadata": {},
   "outputs": [],
   "source": [
    "# Put them in list (I would automate this...but I'm lazy)\n",
    "bins_train_x = [x1, x2, x3, x4, x5, x6]\n",
    "bins_train_y = [y1, y2, y3, y4, y5, y6]"
   ]
  },
  {
   "cell_type": "code",
   "execution_count": 17,
   "metadata": {},
   "outputs": [
    {
     "name": "stdout",
     "output_type": "stream",
     "text": [
      "min: 0.0008749623710448751\n",
      "max: 0.49799231212210116\n"
     ]
    },
    {
     "data": {
      "text/plain": [
       "<matplotlib.collections.PathCollection at 0x7fdd581281f0>"
      ]
     },
     "execution_count": 17,
     "metadata": {},
     "output_type": "execute_result"
    },
    {
     "data": {
      "image/png": "[encoded data removed]",
      "text/plain": [
       "<Figure size 432x288 with 1 Axes>"
      ]
     },
     "metadata": {
      "needs_background": "light"
     },
     "output_type": "display_data"
    }
   ],
   "source": [
    "# Showcase a single bin\n",
    "bin_idx = 3\n",
    "\n",
    "print('min: {}'.format(np.min(bins_train_x[bin_idx][:,var_id])))\n",
    "print('max: {}'.format(np.max(bins_train_x[bin_idx][:,var_id])))\n",
    "\n",
    "plt.scatter(\n",
    "    bins_train_x[bin_idx][:, var_id], \n",
    "    bins_train_y[bin_idx], \n",
    "    marker='.'\n",
    ")"
   ]
  },
  {
   "cell_type": "code",
   "execution_count": 18,
   "metadata": {},
   "outputs": [],
   "source": [
    "# Now, perform linear regression on each training bin\n",
    "bin_models = []\n",
    "\n",
    "for i in range(K_piecewise+1):\n",
    "    bin_models += [LRGD.LRGD()]\n",
    "    bin_models[i].fit(\n",
    "        bins_train_x[i], \n",
    "        bins_train_y[i]\n",
    "    )"
   ]
  },
  {
   "cell_type": "code",
   "execution_count": 19,
   "metadata": {},
   "outputs": [
    {
     "name": "stdout",
     "output_type": "stream",
     "text": [
      "[ 0.1999856   0.00383286  0.16627156 -0.08675738  0.18853779]\n",
      "[ 0.19915071  0.0057654   0.24001414 -0.08378994  0.21933513]\n",
      "[ 0.22896803 -0.00139493  0.09316497 -0.09021234  0.22617917]\n",
      "[ 0.28373588  0.01280247  0.01460032 -0.03983933  0.32763999]\n",
      "[ 0.39465765  0.00560565  0.17955411 -0.03928118  0.29435645]\n",
      "[ 0.65586647 -0.02280351  0.23408994 -0.09491561  0.33074807]\n"
     ]
    }
   ],
   "source": [
    "for i in range(K_piecewise+1):\n",
    "    print(bin_models[i].beta)"
   ]
  },
  {
   "cell_type": "markdown",
   "metadata": {},
   "source": [
    "### iv) Spline with d = 3 and K = 3\n",
    "Create new 'predictors' for intercept, power-1, power-2, power-3, and the K=3 truncated terms for each of the p=5 predictors 1+p(K+d) = 1+5(3+3) = 31 \"predictors\". We have the power-1 terms and intercept accounted for. We will add the power-2 terms, the power-3 terms and then the truncated terms in the same order as the variables appear in the `names` list.\n",
    "\n",
    "I realize I could exclude cuts for the more categorical predictors, but this time I choose to include it to see its effects (if any).\n",
    "\n",
    "Recall,\n",
    "\n",
    "`names = ['Overall Qual', 'Overall Cond', 'Total Bsmt SF', 'Central Air', 'Gr Liv Area']`"
   ]
  },
  {
   "cell_type": "code",
   "execution_count": 20,
   "metadata": {},
   "outputs": [
    {
     "name": "stdout",
     "output_type": "stream",
     "text": [
      "(2343, 5)\n",
      "(2343, 10)\n"
     ]
    }
   ],
   "source": [
    "# Add power-2 terms\n",
    "print(x_train.shape)\n",
    "spline_x_train = np.hstack((x_train, x_train**2))\n",
    "print(spline_x_train.shape)"
   ]
  },
  {
   "cell_type": "code",
   "execution_count": 21,
   "metadata": {},
   "outputs": [
    {
     "name": "stdout",
     "output_type": "stream",
     "text": [
      "(2343, 15)\n"
     ]
    }
   ],
   "source": [
    "# Add power-3 terms\n",
    "spline_x_train = np.hstack((spline_x_train, x_train**3))\n",
    "print(spline_x_train.shape)"
   ]
  },
  {
   "cell_type": "code",
   "execution_count": 22,
   "metadata": {},
   "outputs": [],
   "source": [
    "# Add truncated terms\n",
    "\n",
    "# Define 3 cut points for each var (looked at each predictor vs sales price to determine)\n",
    "cuts = np.array([\n",
    "    [-2.0, 0.0, 2.0], # overall qual\n",
    "    [-2.0, 0.0, 2.0], # overall cond\n",
    "    [-1.0, 0.5, 1.5], # total bsmt sf\n",
    "    [-1.0, 0.0, 3.0], # central air\n",
    "    [-1.0, 0.0, 1.0] # gr liv area\n",
    "])\n",
    "\n",
    "'''predictor_index=2\n",
    "cut_index=0\n",
    "temp = x_train[:,predictor_index]\n",
    "print('before {}'.format(temp))\n",
    "temp = np.where(\n",
    "    temp < cuts[predictor_index][cut_index], \n",
    "    temp*0, \n",
    "    (temp - cuts[predictor_index][cut_index])**3\n",
    ")\n",
    "#temp - cuts[predictor_index][cut_index]\n",
    "print('after {}'.format(temp))\n",
    "'''\n",
    "\n",
    "debug = False\n",
    "\n",
    "# Iteratively horizontally stack to spline training data\n",
    "for predictor_index in range(x_train.shape[1]):\n",
    "    for cut_index in range(cuts.shape[1]):\n",
    "        temp = x_train[:,predictor_index]\n",
    "        temp = temp.reshape(temp.shape[0], 1)\n",
    "        cut = cuts[predictor_index][cut_index]\n",
    "        \n",
    "        if debug:\n",
    "            print(temp.shape)\n",
    "        \n",
    "        temp = np.where(\n",
    "            temp <= cut, # element-wise\n",
    "            temp*0, # when condition is true\n",
    "            (temp-cut)**3 # again, element-wise\n",
    "        )\n",
    "        \n",
    "        spline_x_train = np.hstack((spline_x_train, temp))\n",
    "        \n",
    "        if debug:\n",
    "            print(spline_x_train.shape)"
   ]
  },
  {
   "cell_type": "code",
   "execution_count": 23,
   "metadata": {},
   "outputs": [
    {
     "data": {
      "text/plain": [
       "<LRGD.LRGD at 0x7fdd580d61f0>"
      ]
     },
     "execution_count": 23,
     "metadata": {},
     "output_type": "execute_result"
    }
   ],
   "source": [
    "# Finally, perform linear regression on dataset with new terms\n",
    "spline_model = LRGD.LRGD()\n",
    "spline_model.fit(spline_x_train, y_train)"
   ]
  },
  {
   "cell_type": "markdown",
   "metadata": {},
   "source": [
    "### (b) i) Epochs vs. Training Error"
   ]
  },
  {
   "cell_type": "code",
   "execution_count": 24,
   "metadata": {},
   "outputs": [],
   "source": [
    "def plot_error_v_epochs(model=None, name=''):\n",
    "    print('{} coefficient beta = '.format(name), model.beta)\n",
    "    print('{} intercept = '.format(name), model.intercept)\n",
    "    plt.plot(range(1, model.n_iter+1), model.losses)\n",
    "    plt.ylabel('MSE')\n",
    "    plt.xlabel('Epoch')\n",
    "    plt.tight_layout()\n",
    "    plt.title('{}: Training Error vs Epochs'.format(name))\n",
    "    plt.show()"
   ]
  },
  {
   "cell_type": "code",
   "execution_count": 25,
   "metadata": {},
   "outputs": [
    {
     "name": "stdout",
     "output_type": "stream",
     "text": [
      "MLR coefficient beta =  [ 0.3523111  -0.01651009  0.24931836 -0.0784311   0.30242834]\n",
      "MLR intercept =  [0.00054275]\n"
     ]
    },
    {
     "data": {
      "image/png": "[encoded data removed]",
      "text/plain": [
       "<Figure size 432x288 with 1 Axes>"
      ]
     },
     "metadata": {
      "needs_background": "light"
     },
     "output_type": "display_data"
    }
   ],
   "source": [
    "# i) multiple linear regression (MLR)\n",
    "plot_error_v_epochs(mlr_model, 'MLR')"
   ]
  },
  {
   "cell_type": "code",
   "execution_count": 26,
   "metadata": {},
   "outputs": [
    {
     "name": "stdout",
     "output_type": "stream",
     "text": [
      "Polynomial coefficient beta =  [-4.13044374e-02  2.97979778e-01 -2.21030436e-04  2.07881866e-01\n",
      "  1.52747864e-03  2.51475715e-01  7.88597462e-02 -3.90361659e-02\n",
      "  6.40047260e-02 -5.67188900e-03  4.95372016e-02 -3.62227789e-02\n",
      " -1.85762141e-02  1.58698886e-02  1.34916037e-02  9.63174205e-03\n",
      " -6.14503093e-03 -1.32165643e-02 -4.19404623e-02 -1.69639772e-02\n",
      "  3.39960311e-02]\n",
      "Polynomial intercept =  [-0.04627158]\n"
     ]
    },
    {
     "data": {
      "image/png": "[encoded data removed]",
      "text/plain": [
       "<Figure size 432x288 with 1 Axes>"
      ]
     },
     "metadata": {
      "needs_background": "light"
     },
     "output_type": "display_data"
    }
   ],
   "source": [
    "# ii) polynomial linear regression\n",
    "plot_error_v_epochs(poly_model, 'Polynomial')"
   ]
  },
  {
   "cell_type": "code",
   "execution_count": 27,
   "metadata": {},
   "outputs": [
    {
     "name": "stdout",
     "output_type": "stream",
     "text": [
      "Bin 1 coefficient beta =  [ 0.1999856   0.00383286  0.16627156 -0.08675738  0.18853779]\n",
      "Bin 1 intercept =  [-0.06521573]\n"
     ]
    },
    {
     "data": {
      "image/png": "[encoded data removed]",
      "text/plain": [
       "<Figure size 432x288 with 1 Axes>"
      ]
     },
     "metadata": {
      "needs_background": "light"
     },
     "output_type": "display_data"
    }
   ],
   "source": [
    "# iii) piecewise linear regression\n",
    "# Below are the six bins' training error for each epoch (the default parameter)\n",
    "i = 0\n",
    "plot_error_v_epochs(bin_models[i], 'Bin {}'.format(i+1))"
   ]
  },
  {
   "cell_type": "code",
   "execution_count": 28,
   "metadata": {},
   "outputs": [
    {
     "name": "stdout",
     "output_type": "stream",
     "text": [
      "Bin 2 coefficient beta =  [ 0.19915071  0.0057654   0.24001414 -0.08378994  0.21933513]\n",
      "Bin 2 intercept =  [-0.19546017]\n"
     ]
    },
    {
     "data": {
      "image/png": "[encoded data removed]",
      "text/plain": [
       "<Figure size 432x288 with 1 Axes>"
      ]
     },
     "metadata": {
      "needs_background": "light"
     },
     "output_type": "display_data"
    }
   ],
   "source": [
    "i += 1\n",
    "plot_error_v_epochs(bin_models[i], 'Bin {}'.format(i+1))"
   ]
  },
  {
   "cell_type": "code",
   "execution_count": 29,
   "metadata": {},
   "outputs": [
    {
     "name": "stdout",
     "output_type": "stream",
     "text": [
      "Bin 3 coefficient beta =  [ 0.22896803 -0.00139493  0.09316497 -0.09021234  0.22617917]\n",
      "Bin 3 intercept =  [-0.15918943]\n"
     ]
    },
    {
     "data": {
      "image/png": "[encoded data removed]",
      "text/plain": [
       "<Figure size 432x288 with 1 Axes>"
      ]
     },
     "metadata": {
      "needs_background": "light"
     },
     "output_type": "display_data"
    }
   ],
   "source": [
    "i += 1\n",
    "plot_error_v_epochs(bin_models[i], 'Bin {}'.format(i+1))"
   ]
  },
  {
   "cell_type": "code",
   "execution_count": 30,
   "metadata": {},
   "outputs": [
    {
     "name": "stdout",
     "output_type": "stream",
     "text": [
      "Bin 4 coefficient beta =  [ 0.28373588  0.01280247  0.01460032 -0.03983933  0.32763999]\n",
      "Bin 4 intercept =  [0.00642071]\n"
     ]
    },
    {
     "data": {
      "image/png": "[encoded data removed]",
      "text/plain": [
       "<Figure size 432x288 with 1 Axes>"
      ]
     },
     "metadata": {
      "needs_background": "light"
     },
     "output_type": "display_data"
    }
   ],
   "source": [
    "i += 1\n",
    "plot_error_v_epochs(bin_models[i], 'Bin {}'.format(i+1))"
   ]
  },
  {
   "cell_type": "code",
   "execution_count": 31,
   "metadata": {},
   "outputs": [
    {
     "name": "stdout",
     "output_type": "stream",
     "text": [
      "Bin 5 coefficient beta =  [ 0.39465765  0.00560565  0.17955411 -0.03928118  0.29435645]\n",
      "Bin 5 intercept =  [0.13701147]\n"
     ]
    },
    {
     "data": {
      "image/png": "[encoded data removed]",
      "text/plain": [
       "<Figure size 432x288 with 1 Axes>"
      ]
     },
     "metadata": {
      "needs_background": "light"
     },
     "output_type": "display_data"
    }
   ],
   "source": [
    "i += 1\n",
    "plot_error_v_epochs(bin_models[i], 'Bin {}'.format(i+1))"
   ]
  },
  {
   "cell_type": "code",
   "execution_count": 32,
   "metadata": {},
   "outputs": [
    {
     "name": "stdout",
     "output_type": "stream",
     "text": [
      "Bin 6 coefficient beta =  [ 0.65586647 -0.02280351  0.23408994 -0.09491561  0.33074807]\n",
      "Bin 6 intercept =  [0.10882793]\n"
     ]
    },
    {
     "data": {
      "image/png": "[encoded data removed]",
      "text/plain": [
       "<Figure size 432x288 with 1 Axes>"
      ]
     },
     "metadata": {
      "needs_background": "light"
     },
     "output_type": "display_data"
    }
   ],
   "source": [
    "i += 1\n",
    "plot_error_v_epochs(bin_models[i], 'Bin {}'.format(i+1))"
   ]
  },
  {
   "cell_type": "code",
   "execution_count": 33,
   "metadata": {},
   "outputs": [
    {
     "name": "stdout",
     "output_type": "stream",
     "text": [
      "Spline coefficient beta =  [ 7.21248545e+63 -4.67969328e+63  7.05734253e+63 -3.97056753e+64\n",
      "  3.40278809e+62 -3.62769195e+64 -4.69020163e+64 -3.10021306e+64\n",
      " -1.60518167e+65 -3.54608540e+64  2.23399931e+64 -2.49379075e+64\n",
      "  5.31607863e+63 -5.96118084e+65 -5.22091235e+64 -2.92801619e+65\n",
      " -2.40009097e+64 -2.11875177e+62 -5.47938256e+65 -6.73507040e+64\n",
      " -1.56910773e+63 -9.46170395e+64 -1.60101561e+64 -4.60405221e+63\n",
      " -1.21967394e+66 -5.96337629e+65 -4.53180901e+63 -1.81190727e+65\n",
      " -6.91205899e+64 -2.60685190e+64]\n",
      "Spline intercept =  [-2.28843345e+64]\n"
     ]
    },
    {
     "data": {
      "image/png": "[encoded data removed]",
      "text/plain": [
       "<Figure size 432x288 with 1 Axes>"
      ]
     },
     "metadata": {
      "needs_background": "light"
     },
     "output_type": "display_data"
    }
   ],
   "source": [
    "# iv) Spline regression\n",
    "plot_error_v_epochs(spline_model, 'Spline')"
   ]
  },
  {
   "cell_type": "markdown",
   "metadata": {},
   "source": [
    "### (b) ii) Report Training and Validation Error"
   ]
  },
  {
   "cell_type": "code",
   "execution_count": 34,
   "metadata": {},
   "outputs": [
    {
     "name": "stdout",
     "output_type": "stream",
     "text": [
      "(Avg) Training Error: 0.391344\n",
      "Validation Error:     0.391640\n"
     ]
    }
   ],
   "source": [
    "# i) Error for MLR\n",
    "mlr_model.print_errors(x_test, y_test)"
   ]
  },
  {
   "cell_type": "code",
   "execution_count": 35,
   "metadata": {},
   "outputs": [
    {
     "name": "stdout",
     "output_type": "stream",
     "text": [
      "(Avg) Training Error: 0.317709\n",
      "Validation Error:     0.562595\n"
     ]
    }
   ],
   "source": [
    "# ii) Error from Polynomial reg.\n",
    "x_test_poly = poly_x.fit_transform(x_test)\n",
    "poly_model.print_errors(x_test_poly, y_test)"
   ]
  },
  {
   "cell_type": "code",
   "execution_count": 36,
   "metadata": {},
   "outputs": [],
   "source": [
    "# iii) Piecewise reg.\n",
    "cuts = [-1.5, -1.0, 0.0, 0.5, 1.5, 2.5] # redefine as we overwrote it\n",
    "\n",
    "# First, create test set organized into bins\n",
    "bin1_ids = np.where(x_test[:, var_id] < cuts[0])\n",
    "bin2_ids = np.where((cuts[0] <= x_test[:, var_id]) & (x_test[:, var_id] < cuts[1]))\n",
    "bin3_ids = np.where((cuts[1] <= x_test[:, var_id]) & (x_test[:, var_id] < cuts[2]))\n",
    "bin4_ids = np.where((cuts[2] <= x_test[:, var_id]) & (x_test[:, var_id] < cuts[3]))\n",
    "bin5_ids = np.where((cuts[3] <= x_test[:, var_id]) & (x_test[:, var_id] < cuts[4]))\n",
    "bin6_ids = np.where(x_test[:, var_id] >= cuts[4])\n",
    "\n",
    "bins_test_x = [\n",
    "    x_train[bin1_ids],\n",
    "    x_train[bin2_ids],\n",
    "    x_train[bin3_ids],\n",
    "    x_train[bin4_ids],\n",
    "    x_train[bin5_ids],\n",
    "    x_train[bin6_ids]\n",
    "]\n",
    "\n",
    "bins_test_y = [\n",
    "    y_train[bin1_ids], \n",
    "    y_train[bin2_ids], \n",
    "    y_train[bin3_ids], \n",
    "    y_train[bin4_ids], \n",
    "    y_train[bin5_ids], \n",
    "    y_train[bin6_ids]\n",
    "]"
   ]
  },
  {
   "cell_type": "code",
   "execution_count": 37,
   "metadata": {},
   "outputs": [
    {
     "name": "stdout",
     "output_type": "stream",
     "text": [
      "Bin 1\n",
      "(Avg) Training Error: 0.150776\n",
      "Validation Error:     0.790610\n",
      "Bin 2\n",
      "(Avg) Training Error: 0.192880\n",
      "Validation Error:     0.364857\n",
      "Bin 3\n",
      "(Avg) Training Error: 0.209313\n",
      "Validation Error:     0.320545\n",
      "Bin 4\n",
      "(Avg) Training Error: 0.267424\n",
      "Validation Error:     0.327788\n",
      "Bin 5\n",
      "(Avg) Training Error: 0.439544\n",
      "Validation Error:     0.152905\n"
     ]
    }
   ],
   "source": [
    "# Finally, print errors for all six bins\n",
    "for i in range(K_piecewise):\n",
    "    print('Bin {}'.format(i+1))\n",
    "    bin_models[i].print_errors(bins_test_x[i], bins_test_y[i])"
   ]
  },
  {
   "cell_type": "code",
   "execution_count": 38,
   "metadata": {},
   "outputs": [
    {
     "name": "stdout",
     "output_type": "stream",
     "text": [
      "Avg Piecewise Train Error: 0.251987\n",
      "Avg Piecewise Val. Error: 0.391341\n"
     ]
    }
   ],
   "source": [
    "avg_val_err = 0.0\n",
    "avg_train_err = 0.0\n",
    "\n",
    "for i in range(K_piecewise):\n",
    "    avg_val_err += bin_models[i].evaluate(bins_test_x[i], bins_test_y[i])\n",
    "    avg_train_err += np.mean(bin_models[i].losses)\n",
    "\n",
    "avg_val_err /= K_piecewise\n",
    "avg_train_err /= K_piecewise\n",
    "\n",
    "print('Avg Piecewise Train Error: {:.6f}'.format(avg_train_err))\n",
    "print('Avg Piecewise Val. Error: {:.6f}'.format(avg_val_err))"
   ]
  },
  {
   "cell_type": "code",
   "execution_count": 39,
   "metadata": {},
   "outputs": [],
   "source": [
    "# iv) Cubic spline reg\n",
    "spline_x_test = np.hstack((x_test, x_test**2))\n",
    "spline_x_test = np.hstack((spline_x_test, x_test**2))\n",
    "\n",
    "# Re-define our knots...\n",
    "cuts = np.array([\n",
    "    [-2.0, 0.0, 2.0], # overall qual\n",
    "    [-2.0, 0.0, 2.0], # overall cond\n",
    "    [-1.0, 0.5, 1.5], # total bsmt sf\n",
    "    [-1.0, 0.0, 3.0], # central air\n",
    "    [-1.0, 0.0, 1.0] # gr liv area\n",
    "])\n",
    "\n",
    "# Iteratively horizontally stack to spline testing data\n",
    "for predictor_index in range(x_train.shape[1]):\n",
    "    for cut_index in range(cuts.shape[1]):\n",
    "        temp = x_test[:,predictor_index]\n",
    "        temp = temp.reshape(temp.shape[0], 1)\n",
    "        cut = cuts[predictor_index][cut_index]\n",
    "        \n",
    "        temp = np.where(\n",
    "            temp <= cut, # element-wise\n",
    "            temp*0, # when condition is true\n",
    "            (temp-cut)**3 # again, element-wise\n",
    "        )\n",
    "        \n",
    "        spline_x_test = np.hstack((spline_x_test, temp))"
   ]
  },
  {
   "cell_type": "code",
   "execution_count": 40,
   "metadata": {},
   "outputs": [
    {
     "name": "stdout",
     "output_type": "stream",
     "text": [
      "(Avg) Training Error: 121218575341918149264088005413463775956392142685414732166263486419968396573680447311414520050348100755328848500446635556041614426112.000000\n",
      "Validation Error:     2818696377164115299897962176716044779912027562261055831948368184452071871934162387312543060904914179931188793506603729920885402776895488.000000\n"
     ]
    }
   ],
   "source": [
    "# Comment...it seems my cubic spline model is not very good for this task...\n",
    "spline_model.print_errors(spline_x_test, y_test)"
   ]
  },
  {
   "cell_type": "markdown",
   "metadata": {},
   "source": [
    "#### Response to Task 1\n",
    "Out of the four models used, the average of all the validation errors in the piecewise regression model barely beats out the simple multi-linear regression model by a marginal amount. The worst one by far was the cubic spline regression model, using knots for all five predictors."
   ]
  },
  {
   "cell_type": "markdown",
   "metadata": {},
   "source": [
    "### Task 2: Ridge Regression and LASSO\n",
    "\n",
    "1. For Housing Data, perform Ridge Regression and LASSO for the training data set from Task 1 for different values of lambda.   \n",
    "    \n",
    "    Report:    \n",
    "    1. Values of lambda vs training error curve. \n",
    "    2. Values of lambda vs validation error. \n",
    "    3. Compare Validation Error from MLR in Task 1 to Validation Error from Ridge and LASSO. \n",
    "\n",
    "    Do not forget to standarize all inputs. For Ridge and Lasso, we have not implemented our own solver. Please use scikit learn library. \n",
    "    "
   ]
  },
  {
   "cell_type": "markdown",
   "metadata": {},
   "source": [
    "***Recall*** that the entire dataset has been standardized back in task 1, thus `x_train`, `y_train`, `x_test`, and `y_test` are already standardized."
   ]
  },
  {
   "cell_type": "code",
   "execution_count": 41,
   "metadata": {},
   "outputs": [],
   "source": [
    "N = 500 # num of lambdas to fit with"
   ]
  },
  {
   "cell_type": "code",
   "execution_count": 42,
   "metadata": {},
   "outputs": [],
   "source": [
    "def plot_error_v_lambda(models=None, lambdas=None, X=None, y=None, label=''):\n",
    "    ''' Plot dataset error (train, validation/test) for each model\n",
    "    vs values of lambda for RR or LASSO\n",
    "    '''\n",
    "    N = lambdas.shape[0]\n",
    "    errors = np.zeros(lambdas.shape) # errors corresponding to a particular lambda\n",
    "    \n",
    "    # Compute errors\n",
    "    for i in range(N):\n",
    "        pred = models[i].predict(X)\n",
    "        errors[i] = ((y - pred)**2).mean() # take average over all samples\n",
    "    \n",
    "    # Now, plot lambdas vs errors\n",
    "    plt.plot(lambdas, errors)\n",
    "    plt.ylabel('Error')\n",
    "    plt.xlabel('Lambda')\n",
    "    plt.tight_layout()\n",
    "    plt.title(label)\n",
    "    plt.show()"
   ]
  },
  {
   "cell_type": "code",
   "execution_count": 43,
   "metadata": {},
   "outputs": [],
   "source": [
    "# Perform ridge reg. (i.e., add L2 term with weight lambda)\n",
    "#  for different lambdas\n",
    "from sklearn.linear_model import Ridge\n",
    "\n",
    "rr_models = []\n",
    "rr_lambdas = np.linspace(start=1.0, stop=N, num=N)\n",
    "\n",
    "for i in range(N):\n",
    "    rr_models += [Ridge(alpha=rr_lambdas[i])]\n",
    "    rr_models[i].fit(x_train, y_train)"
   ]
  },
  {
   "cell_type": "code",
   "execution_count": 44,
   "metadata": {},
   "outputs": [
    {
     "data": {
      "image/png": "[encoded data removed]",
      "text/plain": [
       "<Figure size 432x288 with 1 Axes>"
      ]
     },
     "metadata": {
      "needs_background": "light"
     },
     "output_type": "display_data"
    }
   ],
   "source": [
    "# Get training error for ridge regression\n",
    "plot_error_v_lambda(\n",
    "    models=rr_models, \n",
    "    lambdas=rr_lambdas, \n",
    "    X=x_train, \n",
    "    y=y_train, \n",
    "    label='Lambdas vs Training Error\\nRidge Regression'\n",
    ")"
   ]
  },
  {
   "cell_type": "code",
   "execution_count": 45,
   "metadata": {},
   "outputs": [
    {
     "data": {
      "image/png": "[encoded data removed]",
      "text/plain": [
       "<Figure size 432x288 with 1 Axes>"
      ]
     },
     "metadata": {
      "needs_background": "light"
     },
     "output_type": "display_data"
    }
   ],
   "source": [
    "# Get validation error for ridge regression\n",
    "plot_error_v_lambda(\n",
    "    models=rr_models, \n",
    "    lambdas=rr_lambdas, \n",
    "    X=x_test, \n",
    "    y=y_test, \n",
    "    label='Lambdas vs Validation Error\\nRidge Regression'\n",
    ")"
   ]
  },
  {
   "cell_type": "code",
   "execution_count": 46,
   "metadata": {},
   "outputs": [],
   "source": [
    "# Use LASSO (i.e., add L1 term with weight lambda)\n",
    "#  for different lambdas\n",
    "from sklearn.linear_model import Lasso\n",
    "\n",
    "ls_models = []\n",
    "ls_lambdas = np.linspace(start=0.01, stop=1, num=N)\n",
    "\n",
    "for i in range(N):\n",
    "    ls_models += [Lasso(alpha=ls_lambdas[i])]\n",
    "    ls_models[i].fit(x_train, y_train)"
   ]
  },
  {
   "cell_type": "code",
   "execution_count": 47,
   "metadata": {},
   "outputs": [
    {
     "data": {
      "text/plain": [
       "array([ 0.44863526,  0.00792744,  0.24357479, -0.03775895,  0.34567534])"
      ]
     },
     "execution_count": 47,
     "metadata": {},
     "output_type": "execute_result"
    }
   ],
   "source": [
    "ls_models[1].coef_"
   ]
  },
  {
   "cell_type": "code",
   "execution_count": 48,
   "metadata": {},
   "outputs": [
    {
     "data": {
      "image/png": "[encoded data removed]",
      "text/plain": [
       "<Figure size 432x288 with 1 Axes>"
      ]
     },
     "metadata": {
      "needs_background": "light"
     },
     "output_type": "display_data"
    }
   ],
   "source": [
    "# Get training error for LASSO regression\n",
    "plot_error_v_lambda(\n",
    "    models=ls_models, \n",
    "    lambdas=ls_lambdas, \n",
    "    X=x_train, \n",
    "    y=y_train, \n",
    "    label='Lambdas vs Traininig Error\\nLASSO'\n",
    ")"
   ]
  },
  {
   "cell_type": "code",
   "execution_count": 49,
   "metadata": {},
   "outputs": [
    {
     "data": {
      "image/png": "[encoded data removed]",
      "text/plain": [
       "<Figure size 432x288 with 1 Axes>"
      ]
     },
     "metadata": {
      "needs_background": "light"
     },
     "output_type": "display_data"
    }
   ],
   "source": [
    "# Get validation error for LASSO regression\n",
    "plot_error_v_lambda(\n",
    "    models=ls_models, \n",
    "    lambdas=ls_lambdas, \n",
    "    X=x_test, \n",
    "    y=y_test, \n",
    "    label='Lambdas vs Validation Error\\nLASSO'\n",
    ")"
   ]
  },
  {
   "cell_type": "code",
   "execution_count": 50,
   "metadata": {},
   "outputs": [
    {
     "data": {
      "image/png": "[encoded data removed]",
      "text/plain": [
       "<Figure size 864x288 with 3 Axes>"
      ]
     },
     "metadata": {
      "needs_background": "light"
     },
     "output_type": "display_data"
    }
   ],
   "source": [
    "# 3. Compare Validation Error from MLR in Task 1 to Validation Error from Ridge and LASSO\n",
    "fig, axes = plt.subplots(nrows=1, ncols=3, figsize=(12,4))\n",
    "ax = axes.ravel()\n",
    "\n",
    "# Plot MLR val error\n",
    "ax[0].plot(range(1, mlr_model.n_iter+1), mlr_model.losses)\n",
    "ax[0].set_title('Epochs vs.\\nVal. Error (MSE)')\n",
    "\n",
    "# Plot RR val error\n",
    "rr_errors = np.zeros(rr_lambdas.shape) # errors corresponding to a particular lambda\n",
    "\n",
    "for i in range(N):\n",
    "    pred = rr_models[i].predict(x_test)\n",
    "    rr_errors[i] = ((y_test - pred)**2).mean() # take average over all samples\n",
    "\n",
    "ax[1].plot(rr_lambdas, rr_errors)\n",
    "ax[1].set_title('Lambdas vs.\\nRR Val. Error (MSE)')\n",
    "\n",
    "# Plot LASSO val error\n",
    "ls_errors = np.zeros(ls_lambdas.shape) # errors corresponding to a particular lambda\n",
    "\n",
    "for i in range(N):\n",
    "    pred = ls_models[i].predict(x_test)\n",
    "    ls_errors[i] = ((y_test - pred)**2).mean() # take average over all samples\n",
    "\n",
    "ax[2].plot(ls_lambdas, ls_errors)\n",
    "ax[2].set_title('Lambdas vs.\\nLASSO Val. Error (MSE)')\n",
    "\n",
    "plt.tight_layout()\n",
    "plt.show()"
   ]
  },
  {
   "cell_type": "markdown",
   "metadata": {},
   "source": [
    "#### Task 2 Response: Comparing validation errors of MLR, RR, & LASSO\n",
    "For a learning rate of 0.01, the MLR MSE validation error decreases, but the more epochs will likely result from overfitting, and thus predictions will not be as accurate as they can be.\n",
    "\n",
    "For ridge regression, it seems that for this case a lambda a little greater than 300 gives the least validation error, which is lower than the error from MLR after about 20 epochs.\n",
    "\n",
    "For LASSO, a very small lambda is needed to get the best MSE validation error (so, about 0.05), which seems to be about the same as the best validation error for ridge regression. MLR's validation error appears to show that MLR is the best method for making predictions on the housing dataset."
   ]
  },
  {
   "cell_type": "markdown",
   "metadata": {},
   "source": [
    "### Task 3: Resampling\n",
    "\n",
    "For the Housing Data: (Complete Data set, not only training from Task 1)\n",
    "\n",
    "1. Cross Validation: Perform Multiple Linear Regression with K-fold cross validation. You can choose K = 5.    \n",
    "    Report: \n",
    "    1. Regression Coeffs for each dataset. \n",
    "    2. Cross validation Error. \n",
    "\n",
    "2. Bootstrapping: Create 10 different datasets each with 3N/4 data samples using bootstrapping (i.e. Resampling with replacement), where N = total numbers of data samples in Housing Data. Perform Multiple Linear Regression on 10 datasets you created.\n",
    "\n",
    "Report:   \n",
    "\n",
    "a. Regression Coeffs for each dataset.  \n",
    "b. Average error. \n",
    "\n",
    "You can write your own resample fucntions but feel free to use scikit learn resample. \n",
    "\n",
    "\n",
    "\n"
   ]
  },
  {
   "cell_type": "code",
   "execution_count": 51,
   "metadata": {},
   "outputs": [],
   "source": [
    "# 1. Perform K=5-fold cross validation\n",
    "K = 5\n",
    "N = X_std.shape[0]\n",
    "\n",
    "mlr = []\n",
    "\n",
    "for i in range(0, N-K, K):\n",
    "    #print('trian: {}'.format(np.vstack((X_std[:i], X_std[i+K:])).shape))\n",
    "    #print('test:  {}'.format(np.hstack((y_std[:i], y_std[i+K:])).shape))\n",
    "    mlr += [LRGD.LRGD()]\n",
    "    mlr[int(i/K)].fit(np.vstack((X_std[:i], X_std[i+K:])), np.hstack((y_std[:i], y_std[i+K:])))"
   ]
  },
  {
   "cell_type": "code",
   "execution_count": 52,
   "metadata": {},
   "outputs": [
    {
     "name": "stdout",
     "output_type": "stream",
     "text": [
      "coeffs: [ 0.35554044 -0.01728706  0.24415837 -0.07437445  0.29670992]\tintercept: [1.15740521e-05]\n",
      "coeffs: [ 0.35558782 -0.01744518  0.24408476 -0.07438085  0.29682808]\tintercept: [4.39504266e-05]\n",
      "coeffs: [ 0.35558377 -0.01746898  0.24412831 -0.07437411  0.29681144]\tintercept: [5.3930295e-05]\n",
      "coeffs: [ 0.35497478 -0.01601688  0.24322441 -0.07437722  0.29486779]\tintercept: [-0.00094831]\n",
      "coeffs: [ 0.35545045 -0.01725944  0.24426553 -0.07437809  0.2967943 ]\tintercept: [9.07071209e-05]\n",
      "coeffs: [ 0.35554128 -0.01751202  0.24396933 -0.07447379  0.29666568]\tintercept: [0.00022978]\n",
      "coeffs: [ 0.35566177 -0.01755026  0.24371459 -0.07456749  0.29640398]\tintercept: [0.00053905]\n",
      "coeffs: [ 0.3541568  -0.01710999  0.24304174 -0.07445441  0.29664383]\tintercept: [-0.00090452]\n",
      "coeffs: [ 0.3543671  -0.01718687  0.24197023 -0.07455912  0.2961844 ]\tintercept: [-0.00096779]\n",
      "coeffs: [ 0.35477268 -0.01723939  0.24208992 -0.07455618  0.29614882]\tintercept: [-0.00084736]\n",
      "coeffs: [ 0.35561002 -0.01741985  0.24409738 -0.07437771  0.29676642]\tintercept: [8.00922069e-05]\n",
      "coeffs: [ 0.35526185 -0.01728111  0.24419864 -0.07435198  0.2964803 ]\tintercept: [-0.0002617]\n",
      "coeffs: [ 0.35506132 -0.01741253  0.24377921 -0.07437281  0.29596035]\tintercept: [-0.00068076]\n",
      "coeffs: [ 0.35535795 -0.01725962  0.24368025 -0.07439008  0.29605658]\tintercept: [-0.00046056]\n",
      "coeffs: [ 0.35551198 -0.01722675  0.24392937 -0.07429053  0.29675681]\tintercept: [-0.00033206]\n",
      "coeffs: [ 0.35557394 -0.01752486  0.24399709 -0.0744698   0.29652963]\tintercept: [0.00027775]\n",
      "coeffs: [ 0.35551079 -0.0175275   0.24374188 -0.07388772  0.2968462 ]\tintercept: [0.00033637]\n",
      "coeffs: [ 0.35540955 -0.01732464  0.24413282 -0.07443513  0.29671375]\tintercept: [0.00019238]\n",
      "coeffs: [ 0.3550735  -0.01718251  0.24396906 -0.07433253  0.29636884]\tintercept: [-0.00051733]\n",
      "coeffs: [ 0.3556423  -0.0174704   0.24383581 -0.07441894  0.29674705]\tintercept: [0.00013209]\n",
      "coeffs: [ 0.3554801  -0.01739669  0.24382657 -0.07439319  0.29686377]\tintercept: [-1.62002737e-05]\n",
      "coeffs: [ 0.35546275 -0.01714468  0.24397569 -0.0743818   0.29674789]\tintercept: [4.28884658e-06]\n",
      "coeffs: [ 0.35558583 -0.01736983  0.24402501 -0.07435135  0.29670144]\tintercept: [-8.86653662e-05]\n",
      "coeffs: [ 0.35538232 -0.01755542  0.24416241 -0.07443088  0.29676808]\tintercept: [0.00015655]\n",
      "coeffs: [ 0.35554082 -0.01745511  0.24390458 -0.07440587  0.29689356]\tintercept: [0.00010864]\n",
      "coeffs: [ 0.35507867 -0.01716142  0.24460452 -0.07446045  0.29690043]\tintercept: [0.00038973]\n",
      "coeffs: [ 0.35505596 -0.01787199  0.24410604 -0.07455193  0.2967982 ]\tintercept: [0.00033704]\n",
      "coeffs: [ 0.35518341 -0.01754438  0.244659   -0.07447024  0.29730126]\tintercept: [0.00049107]\n",
      "coeffs: [ 0.35528513 -0.01741906  0.24425739 -0.07446438  0.29672448]\tintercept: [0.00029966]\n",
      "coeffs: [ 0.3552182  -0.01753192  0.2441711  -0.07450043  0.2967678 ]\tintercept: [0.00033386]\n",
      "coeffs: [ 0.35534689 -0.01726324  0.24414938 -0.07448305  0.29665518]\tintercept: [0.00027225]\n",
      "coeffs: [ 0.35547749 -0.01749139  0.24401766 -0.07447014  0.29673216]\tintercept: [0.00030974]\n",
      "coeffs: [ 0.35551164 -0.01719428  0.24412706 -0.07438559  0.29669775]\tintercept: [6.38177823e-05]\n",
      "coeffs: [ 0.3551404  -0.01754176  0.24387842 -0.07450781  0.29709378]\tintercept: [0.00031187]\n",
      "coeffs: [ 0.35522134 -0.01706902  0.24417156 -0.07441434  0.29671366]\tintercept: [0.00033368]\n",
      "coeffs: [ 0.35526687 -0.01696723  0.24403483 -0.07451356  0.29670259]\tintercept: [0.00041871]\n",
      "coeffs: [ 0.35521191 -0.01735546  0.2440254  -0.07356653  0.29664155]\tintercept: [0.00054853]\n",
      "coeffs: [ 0.35492313 -0.01808358  0.24405238 -0.07352492  0.29741718]\tintercept: [0.00034687]\n",
      "coeffs: [ 0.35540795 -0.01721739  0.24400945 -0.0744828   0.29681355]\tintercept: [0.00021454]\n",
      "coeffs: [ 0.35541681 -0.0172747   0.24390434 -0.07447457  0.29683342]\tintercept: [0.00029736]\n",
      "coeffs: [ 0.35555785 -0.01717961  0.24384475 -0.07449404  0.29678675]\tintercept: [0.000449]\n",
      "coeffs: [ 0.35545849 -0.01745139  0.24398168 -0.07404611  0.2967859 ]\tintercept: [0.00010173]\n",
      "coeffs: [ 0.35524005 -0.01806719  0.24397962 -0.07290902  0.2969843 ]\tintercept: [0.00055939]\n",
      "coeffs: [ 0.35500116 -0.01746629  0.24467506 -0.07346343  0.29687657]\tintercept: [0.00045722]\n",
      "coeffs: [ 0.35549708 -0.01745053  0.24407515 -0.07439282  0.29680415]\tintercept: [3.92199763e-05]\n",
      "coeffs: [ 0.35534611 -0.01752701  0.24389899 -0.0743273   0.29652155]\tintercept: [-0.00042105]\n",
      "coeffs: [ 0.35530841 -0.01749388  0.24404208 -0.07426748  0.29680127]\tintercept: [-0.00013489]\n",
      "coeffs: [ 0.35536814 -0.01725061  0.24409978 -0.07422293  0.2967203 ]\tintercept: [0.00027527]\n",
      "coeffs: [ 0.35524228 -0.01759392  0.24385096 -0.07441835  0.29688949]\tintercept: [-0.00010718]\n",
      "coeffs: [ 0.35539032 -0.01737393  0.24396853 -0.07432081  0.29678207]\tintercept: [-0.00031379]\n",
      "coeffs: [ 0.3555709  -0.0171942   0.24393611 -0.07437329  0.29649301]\tintercept: [-9.94628051e-05]\n",
      "coeffs: [ 0.35555125 -0.01733465  0.24411606 -0.07433376  0.29685029]\tintercept: [-7.99328517e-05]\n",
      "coeffs: [ 0.35524707 -0.01728095  0.2437     -0.07440727  0.29678314]\tintercept: [-0.00020793]\n",
      "coeffs: [ 0.35544391 -0.01742175  0.2441232  -0.07435949  0.29664753]\tintercept: [-0.00012057]\n",
      "coeffs: [ 0.35574967 -0.01746564  0.24441572 -0.07466142  0.29702428]\tintercept: [-0.00011101]\n",
      "coeffs: [ 0.35540477 -0.01748908  0.24400295 -0.07384351  0.29663805]\tintercept: [0.00049571]\n",
      "coeffs: [ 0.35523711 -0.01774565  0.24401859 -0.07431639  0.29674399]\tintercept: [0.00041334]\n",
      "coeffs: [ 0.3552654  -0.01757466  0.24415914 -0.07338396  0.29678872]\tintercept: [0.00048413]\n",
      "coeffs: [ 0.35538495 -0.01797351  0.2438822  -0.07446922  0.29689178]\tintercept: [0.00012889]\n",
      "coeffs: [ 0.35556104 -0.01849534  0.24365294 -0.07441555  0.29634698]\tintercept: [-0.00033039]\n",
      "coeffs: [ 0.35531869 -0.0181531   0.24374389 -0.07454282  0.29670633]\tintercept: [6.59542828e-05]\n",
      "coeffs: [ 0.35504111 -0.01708497  0.24397925 -0.07390211  0.29660704]\tintercept: [0.00032047]\n",
      "coeffs: [ 0.35540099 -0.01750251  0.24440635 -0.07439213  0.29701065]\tintercept: [0.00016372]\n",
      "coeffs: [ 0.35532098 -0.01722979  0.24438089 -0.07429146  0.2966956 ]\tintercept: [-0.00028652]\n",
      "coeffs: [ 0.35513304 -0.01739578  0.24353599 -0.07445788  0.29692625]\tintercept: [-0.00011465]\n",
      "coeffs: [ 0.35512045 -0.01768499  0.24376602 -0.07461935  0.29664591]\tintercept: [0.00044357]\n",
      "coeffs: [ 0.35519269 -0.01748805  0.24391364 -0.07455238  0.2966711 ]\tintercept: [0.00029198]\n",
      "coeffs: [ 0.3552225  -0.01783968  0.24395049 -0.07442866  0.29715055]\tintercept: [-5.26281577e-06]\n",
      "coeffs: [ 0.35547236 -0.01770894  0.24385647 -0.07443679  0.29630711]\tintercept: [-0.00012135]\n",
      "coeffs: [ 0.3547466  -0.0171778   0.2433078  -0.07441564  0.29647022]\tintercept: [-0.00068876]\n",
      "coeffs: [ 0.35528694 -0.01731483  0.24397518 -0.07436542  0.29692761]\tintercept: [-0.00017626]\n",
      "coeffs: [ 0.35548823 -0.01750898  0.24415673 -0.07433886  0.29679325]\tintercept: [-0.00010016]\n",
      "coeffs: [ 0.35551384 -0.01738628  0.24415616 -0.07436421  0.29677251]\tintercept: [9.99051204e-06]\n",
      "coeffs: [ 0.35460664 -0.01715472  0.24218524 -0.07448565  0.29636458]\tintercept: [-0.0009484]\n",
      "coeffs: [ 0.35570983 -0.01771449  0.24424655 -0.07445098  0.29662118]\tintercept: [0.00035053]\n",
      "coeffs: [ 0.35560411 -0.01751002  0.24427845 -0.0744004   0.29682118]\tintercept: [6.99664203e-05]\n",
      "coeffs: [ 0.35549052 -0.01749523  0.24434478 -0.07435128  0.29655246]\tintercept: [-5.68705997e-05]\n",
      "coeffs: [ 0.35558885 -0.01750354  0.24401781 -0.07437347  0.29673858]\tintercept: [-1.50112643e-05]\n",
      "coeffs: [ 0.35539425 -0.01739902  0.24395316 -0.0744393   0.29701739]\tintercept: [0.00022015]\n",
      "coeffs: [ 0.35527017 -0.01739815  0.24417451 -0.0744805   0.29668521]\tintercept: [0.00022824]\n",
      "coeffs: [ 0.35538521 -0.01749953  0.24386941 -0.07451793  0.29672369]\tintercept: [0.00030307]\n",
      "coeffs: [ 0.35556608 -0.01718411  0.24375385 -0.07449523  0.29665377]\tintercept: [0.00037054]\n",
      "coeffs: [ 0.35562905 -0.01757627  0.24390315 -0.07450603  0.29665152]\tintercept: [0.0004525]\n",
      "coeffs: [ 0.35555616 -0.01746913  0.24394505 -0.07449172  0.29657543]\tintercept: [0.00035713]\n",
      "coeffs: [ 0.35274005 -0.01704632  0.24050996 -0.07485212  0.29469143]\tintercept: [-0.0019277]\n",
      "coeffs: [ 0.3540339  -0.01708529  0.24370227 -0.07445196  0.29601088]\tintercept: [-0.00096092]\n",
      "coeffs: [ 0.35105853 -0.01682643  0.24032061 -0.07492856  0.29408993]\tintercept: [-0.00259658]\n",
      "coeffs: [ 0.35458428 -0.01708967  0.24334016 -0.07439516  0.29629951]\tintercept: [-0.00089768]\n",
      "coeffs: [ 0.35449376 -0.0171886   0.24366074 -0.0744431   0.29685679]\tintercept: [-0.00064694]\n",
      "coeffs: [ 0.35462406 -0.0171991   0.24254514 -0.07453045  0.29622064]\tintercept: [-0.00087943]\n",
      "coeffs: [ 0.35542862 -0.01729151  0.2439144  -0.07433269  0.29693446]\tintercept: [-0.00020235]\n",
      "coeffs: [ 0.35388968 -0.01714651  0.24159716 -0.07463098  0.29623086]\tintercept: [-0.00119318]\n",
      "coeffs: [ 0.35529911 -0.01735381  0.24390058 -0.07438577  0.29692846]\tintercept: [-0.00010326]\n",
      "coeffs: [ 0.35558723 -0.01746371  0.24418344 -0.07439913  0.29681379]\tintercept: [0.00017652]\n",
      "coeffs: [ 0.35561579 -0.01747997  0.24416583 -0.07440837  0.29672664]\tintercept: [0.00020183]\n",
      "coeffs: [ 0.35549972 -0.01739358  0.24405683 -0.07437154  0.29685983]\tintercept: [2.34619878e-05]\n",
      "coeffs: [ 0.35532889 -0.01729395  0.24420495 -0.07433366  0.29670739]\tintercept: [-0.00018368]\n",
      "coeffs: [ 0.35558181 -0.01733882  0.24404477 -0.07433859  0.29669478]\tintercept: [-9.56294661e-05]\n",
      "coeffs: [ 0.35527835 -0.01726652  0.2441244  -0.07434512  0.29641816]\tintercept: [-0.00029257]\n",
      "coeffs: [ 0.35479423 -0.01700806  0.24408665 -0.07433489  0.29472671]\tintercept: [-0.00109594]\n",
      "coeffs: [ 0.35504335 -0.01783712  0.24356073 -0.0744043   0.29591841]\tintercept: [-0.00075857]\n",
      "coeffs: [ 0.35502708 -0.01729437  0.24378719 -0.07434328  0.29691847]\tintercept: [-0.00049065]\n",
      "coeffs: [ 0.35476172 -0.01714169  0.24290614 -0.07442862  0.29629962]\tintercept: [-0.00084805]\n",
      "coeffs: [ 0.35534572 -0.01725471  0.24395293 -0.07431588  0.29699944]\tintercept: [-0.00026488]\n",
      "coeffs: [ 0.35423842 -0.01712301  0.24398154 -0.07438769  0.29689063]\tintercept: [-0.00067716]\n",
      "coeffs: [ 0.35520299 -0.01714288  0.24393647 -0.07428969  0.29667598]\tintercept: [-0.00055474]\n",
      "coeffs: [ 0.35559076 -0.01736127  0.24409794 -0.07439031  0.29667245]\tintercept: [0.00010339]\n",
      "coeffs: [ 0.35564587 -0.01750738  0.24414402 -0.07442567  0.29668388]\tintercept: [0.00024701]\n",
      "coeffs: [ 0.35542754 -0.01737821  0.24405046 -0.07438513  0.29681891]\tintercept: [-4.16566897e-05]\n",
      "coeffs: [ 0.35553125 -0.01742856  0.24406723 -0.07444827  0.29673923]\tintercept: [0.00028932]\n",
      "coeffs: [ 0.3554431  -0.01795982  0.24402813 -0.07393329  0.29642526]\tintercept: [0.00034899]\n",
      "coeffs: [ 0.35542032 -0.01740284  0.24411027 -0.07443877  0.29669644]\tintercept: [0.00015839]\n",
      "coeffs: [ 0.35525688 -0.01784582  0.24396701 -0.07452535  0.2964791 ]\tintercept: [0.00014773]\n",
      "coeffs: [ 0.35555564 -0.01729293  0.24408644 -0.07432205  0.2967101 ]\tintercept: [-0.00020491]\n",
      "coeffs: [ 0.35545129 -0.01822367  0.24362191 -0.07445096  0.29686357]\tintercept: [-7.32221187e-05]\n",
      "coeffs: [ 0.35554081 -0.01746772  0.24377475 -0.07442699  0.29711499]\tintercept: [0.00015194]\n",
      "coeffs: [ 0.35550863 -0.01732857  0.24410264 -0.07438462  0.29686998]\tintercept: [8.57981914e-05]\n",
      "coeffs: [ 0.35550991 -0.01771349  0.24430452 -0.07441203  0.29635536]\tintercept: [6.76172806e-05]\n",
      "coeffs: [ 0.35527459 -0.01749197  0.24434873 -0.07442445  0.29680673]\tintercept: [0.00015754]\n",
      "coeffs: [ 0.35556642 -0.01753435  0.24414123 -0.07442876  0.29691631]\tintercept: [0.00024748]\n",
      "coeffs: [ 0.3551942  -0.0174266   0.24436472 -0.07447929  0.29682268]\tintercept: [0.00035318]\n",
      "coeffs: [ 0.35536972 -0.0173616   0.24424658 -0.0744188   0.29678474]\tintercept: [0.00018982]\n",
      "coeffs: [ 0.35537136 -0.01731446  0.24409466 -0.07447933  0.29668293]\tintercept: [0.00028127]\n",
      "coeffs: [ 0.35528787 -0.01778094  0.24434836 -0.07452033  0.29676525]\tintercept: [0.00046959]\n",
      "coeffs: [ 0.35525986 -0.01726088  0.24435282 -0.07446207  0.29686821]\tintercept: [0.00038456]\n",
      "coeffs: [ 0.3552746  -0.01845119  0.24392236 -0.07451315  0.29684972]\tintercept: [0.00018577]\n",
      "coeffs: [ 0.35545758 -0.01748612  0.24428062 -0.07445173  0.29677519]\tintercept: [0.00035306]\n",
      "coeffs: [ 0.35531692 -0.01742658  0.24425079 -0.07445477  0.29671782]\tintercept: [0.00026511]\n",
      "coeffs: [ 0.35515066 -0.01752864  0.24442198 -0.07450115  0.29685129]\tintercept: [0.0004221]\n",
      "coeffs: [ 0.35542236 -0.01746977  0.24397121 -0.07445508  0.29675535]\tintercept: [0.00013815]\n",
      "coeffs: [ 0.35516224 -0.01731928  0.24409339 -0.07452848  0.29685152]\tintercept: [0.00038]\n",
      "coeffs: [ 0.35542723 -0.01715516  0.24408421 -0.07442248  0.29680637]\tintercept: [0.000163]\n",
      "coeffs: [ 0.35524977 -0.01717459  0.24415649 -0.07447977  0.2972172 ]\tintercept: [0.00029148]\n",
      "coeffs: [ 0.35531603 -0.0173839   0.24417525 -0.07446354  0.2970311 ]\tintercept: [0.00027191]\n",
      "coeffs: [ 0.35552061 -0.01729323  0.2440666  -0.07444938  0.29668934]\tintercept: [0.0002944]\n",
      "coeffs: [ 0.35554523 -0.01742512  0.2442957  -0.07460749  0.29702114]\tintercept: [0.00013201]\n",
      "coeffs: [ 0.35536703 -0.01736664  0.24413395 -0.07445216  0.29672098]\tintercept: [0.00020687]\n",
      "coeffs: [ 0.35547348 -0.01726726  0.24397116 -0.07446041  0.29685318]\tintercept: [0.00031622]\n",
      "coeffs: [ 0.35554898 -0.01693653  0.24393105 -0.07356976  0.29694407]\tintercept: [0.00053273]\n",
      "coeffs: [ 0.35521605 -0.01748151  0.24389115 -0.07376776  0.29718607]\tintercept: [0.00044182]\n",
      "coeffs: [ 0.35530967 -0.01727397  0.24392608 -0.07361295  0.29708509]\tintercept: [0.00048956]\n",
      "coeffs: [ 0.35511526 -0.01747495  0.24407619 -0.07416872  0.2967904 ]\tintercept: [0.00045796]\n",
      "coeffs: [ 0.35510976 -0.01729669  0.24377168 -0.07458493  0.29683249]\tintercept: [0.00044313]\n",
      "coeffs: [ 0.35549617 -0.01705677  0.24380309 -0.07434439  0.29692282]\tintercept: [0.0003331]\n",
      "coeffs: [ 0.35521247 -0.01755386  0.24393757 -0.07411674  0.29672059]\tintercept: [0.00068625]\n",
      "coeffs: [ 0.35549418 -0.01757962  0.24391031 -0.07344173  0.29662821]\tintercept: [0.00020472]\n",
      "coeffs: [ 0.35544182 -0.01731088  0.24403387 -0.0745338   0.29678799]\tintercept: [4.44094786e-05]\n",
      "coeffs: [ 0.35527678 -0.01721058  0.24392443 -0.07457231  0.29663316]\tintercept: [0.00056981]\n",
      "coeffs: [ 0.35537925 -0.01719643  0.24411155 -0.07452305  0.29680717]\tintercept: [0.00024099]\n",
      "coeffs: [ 0.35541105 -0.01735233  0.24409367 -0.07468891  0.29673662]\tintercept: [0.00013711]\n",
      "coeffs: [ 0.35526409 -0.01819273  0.24363678 -0.07340518  0.29789646]\tintercept: [0.00080981]\n",
      "coeffs: [ 0.35541741 -0.01729376  0.24397583 -0.07359042  0.29694359]\tintercept: [0.00072279]\n",
      "coeffs: [ 0.35556965 -0.01706287  0.24392945 -0.07438387  0.2968625 ]\tintercept: [6.97724668e-05]\n",
      "coeffs: [ 0.35558225 -0.01771096  0.24406271 -0.07339276  0.29677191]\tintercept: [0.00024718]\n",
      "coeffs: [ 0.35542556 -0.0173478   0.24411324 -0.07442566  0.29675706]\tintercept: [0.00014619]\n",
      "coeffs: [ 0.35544393 -0.01745729  0.24410032 -0.07441728  0.29679923]\tintercept: [0.00012742]\n",
      "coeffs: [ 0.35537363 -0.01709533  0.24434236 -0.07467347  0.29684674]\tintercept: [0.00018092]\n",
      "coeffs: [ 0.35554172 -0.0174757   0.24452568 -0.07441523  0.29678158]\tintercept: [0.00020317]\n",
      "coeffs: [ 0.35524571 -0.01797057  0.24430521 -0.07461724  0.29672777]\tintercept: [0.00040293]\n",
      "coeffs: [ 0.35531775 -0.01767449  0.24380288 -0.07454961  0.2968238 ]\tintercept: [0.00041074]\n",
      "coeffs: [ 0.35526888 -0.01787808  0.2438777  -0.07439152  0.29654376]\tintercept: [-0.00037583]\n",
      "coeffs: [ 0.35541382 -0.01738494  0.24382534 -0.0744375   0.29698618]\tintercept: [9.15155318e-05]\n",
      "coeffs: [ 0.35541805 -0.01752885  0.24365409 -0.07449381  0.2970165 ]\tintercept: [0.00019028]\n",
      "coeffs: [ 0.35501474 -0.01717966  0.24387882 -0.07435369  0.29640638]\tintercept: [-0.00057053]\n",
      "coeffs: [ 0.35484912 -0.01721788  0.24358275 -0.07439118  0.29701751]\tintercept: [-0.00048273]\n",
      "coeffs: [ 0.35554588 -0.01738572  0.24413997 -0.07437299  0.29691774]\tintercept: [5.77658758e-06]\n",
      "coeffs: [ 0.35538713 -0.0172813   0.24389069 -0.07433709  0.29687215]\tintercept: [-0.00024268]\n",
      "coeffs: [ 0.35548144 -0.01733526  0.24417612 -0.07431983  0.29675009]\tintercept: [-0.00017318]\n",
      "coeffs: [ 0.35549447 -0.0174441   0.24413159 -0.07440522  0.29678192]\tintercept: [0.00011348]\n",
      "coeffs: [ 0.35547918 -0.01733798  0.24413309 -0.07434448  0.29676338]\tintercept: [-8.9152038e-05]\n",
      "coeffs: [ 0.35546603 -0.0174357   0.24413028 -0.07441749  0.29675881]\tintercept: [0.00012704]\n",
      "coeffs: [ 0.35544047 -0.01736442  0.24413358 -0.07440783  0.29677187]\tintercept: [0.00010281]\n",
      "coeffs: [ 0.35546959 -0.01738439  0.24407949 -0.07435398  0.29685188]\tintercept: [-0.00014849]\n",
      "coeffs: [ 0.3551717  -0.01729841  0.24408261 -0.07437514  0.29671829]\tintercept: [-0.00023346]\n",
      "coeffs: [ 0.35544292 -0.01736614  0.24396381 -0.07437943  0.29684575]\tintercept: [-7.18582941e-05]\n",
      "coeffs: [ 0.35537099 -0.01738293  0.2439358  -0.07439745  0.29679512]\tintercept: [-5.51148537e-05]\n",
      "coeffs: [ 0.3555627  -0.01740544  0.24415911 -0.07438162  0.29685805]\tintercept: [3.78044277e-05]\n",
      "coeffs: [ 0.35530048 -0.01727886  0.24430431 -0.07440121  0.29671619]\tintercept: [6.48834892e-05]\n",
      "coeffs: [ 0.35506589 -0.01733575  0.24391743 -0.07448785  0.29671231]\tintercept: [6.5806237e-05]\n",
      "coeffs: [ 0.35523197 -0.01727547  0.24449591 -0.07462688  0.29688315]\tintercept: [0.00038796]\n",
      "coeffs: [ 0.35514553 -0.01736878  0.24398231 -0.07458042  0.29686319]\tintercept: [0.00054902]\n",
      "coeffs: [ 0.35569603 -0.01752304  0.2439926  -0.07459895  0.2973785 ]\tintercept: [0.00014386]\n",
      "coeffs: [ 0.35534329 -0.01741898  0.2438851  -0.07450945  0.29692511]\tintercept: [0.0004144]\n",
      "coeffs: [ 0.35574739 -0.01723458  0.24393493 -0.07437227  0.29672194]\tintercept: [6.232651e-05]\n",
      "coeffs: [ 0.35553307 -0.01759258  0.24414419 -0.07433962  0.29688739]\tintercept: [-0.00010376]\n",
      "coeffs: [ 0.35553422 -0.01735194  0.24404387 -0.07450255  0.29691367]\tintercept: [8.97986795e-05]\n",
      "coeffs: [ 0.3556043  -0.01725193  0.24380371 -0.07443809  0.2966656 ]\tintercept: [0.00019024]\n",
      "coeffs: [ 0.35554727 -0.0184096   0.24380364 -0.07440023  0.29636466]\tintercept: [-0.00031097]\n",
      "coeffs: [ 0.35527153 -0.01767023  0.24406605 -0.07311491  0.29706581]\tintercept: [0.00036953]\n",
      "coeffs: [ 0.35557044 -0.01726238  0.24419456 -0.07446436  0.29678476]\tintercept: [-0.00021661]\n",
      "coeffs: [ 0.35540529 -0.01749966  0.24411533 -0.07442754  0.29686673]\tintercept: [0.00016734]\n",
      "coeffs: [ 0.3546853  -0.01707507  0.24245026 -0.07444767  0.29666005]\tintercept: [-0.00087042]\n",
      "coeffs: [ 0.35524196 -0.01744796  0.24403064 -0.07439745  0.29683409]\tintercept: [-0.00011039]\n",
      "coeffs: [ 0.35465004 -0.01725031  0.24318194 -0.07447342  0.29693433]\tintercept: [-0.00045875]\n",
      "coeffs: [ 0.35538212 -0.01759052  0.24384842 -0.07449965  0.29682852]\tintercept: [0.00023417]\n",
      "coeffs: [ 0.35513506 -0.01757399  0.24390282 -0.07458442  0.2966804 ]\tintercept: [0.00033406]\n",
      "coeffs: [ 0.35554601 -0.01749104  0.24401398 -0.07439846  0.29680554]\tintercept: [3.46642739e-05]\n",
      "coeffs: [ 0.35547709 -0.01746687  0.24405321 -0.07439701  0.29681628]\tintercept: [5.37989864e-05]\n",
      "coeffs: [ 0.35555157 -0.01746539  0.24406646 -0.07433173  0.29667245]\tintercept: [-0.00016144]\n",
      "coeffs: [ 0.35536155 -0.01732967  0.24389736 -0.07436268  0.2968907 ]\tintercept: [-0.00014106]\n",
      "coeffs: [ 0.35571203 -0.01745652  0.24411138 -0.07439699  0.29672487]\tintercept: [0.00014608]\n",
      "coeffs: [ 0.35566562 -0.01742249  0.24412979 -0.07437498  0.29673743]\tintercept: [9.12218037e-05]\n",
      "coeffs: [ 0.35393701 -0.0178067   0.24394883 -0.07449706  0.29608347]\tintercept: [-0.00076658]\n",
      "coeffs: [ 0.35544474 -0.01742643  0.24429877 -0.07441839  0.29675122]\tintercept: [0.00020187]\n",
      "coeffs: [ 0.35567364 -0.01760524  0.24416087 -0.07437298  0.29659855]\tintercept: [-4.53655095e-05]\n",
      "coeffs: [ 0.35552925 -0.01758583  0.24407437 -0.07441658  0.29657553]\tintercept: [4.67096589e-05]\n",
      "coeffs: [ 0.35524277 -0.01731273  0.24409506 -0.07440426  0.2966635 ]\tintercept: [-3.27605232e-05]\n",
      "coeffs: [ 0.35542566 -0.01751458  0.24396997 -0.07449682  0.29662607]\tintercept: [0.00025308]\n",
      "coeffs: [ 0.35577626 -0.01791487  0.24322279 -0.07466968  0.2962491 ]\tintercept: [0.00066052]\n",
      "coeffs: [ 0.35548375 -0.01741266  0.24395801 -0.07451242  0.29658833]\tintercept: [0.000408]\n",
      "coeffs: [ 0.35290754 -0.01688611  0.24261076 -0.07454978  0.29567375]\tintercept: [-0.00169498]\n",
      "coeffs: [ 0.35340439 -0.01695158  0.2419051  -0.07460149  0.295241  ]\tintercept: [-0.00171193]\n",
      "coeffs: [ 0.35281062 -0.01696743  0.24198264 -0.07466455  0.29490238]\tintercept: [-0.00173087]\n",
      "coeffs: [ 0.35453971 -0.01697297  0.24340477 -0.07436144  0.29542335]\tintercept: [-0.00122155]\n",
      "coeffs: [ 0.3542386  -0.01713588  0.24329618 -0.07442929  0.29709892]\tintercept: [-0.00074822]\n",
      "coeffs: [ 0.35553523 -0.01745302  0.24385938 -0.07441526  0.29695064]\tintercept: [0.00011657]\n",
      "coeffs: [ 0.3555903  -0.01745682  0.24413588 -0.07440036  0.29675354]\tintercept: [0.00015024]\n",
      "coeffs: [ 0.35548161 -0.01733238  0.24411571 -0.07433618  0.29685593]\tintercept: [-8.79545514e-05]\n",
      "coeffs: [ 0.35543378 -0.01737133  0.24407875 -0.07434623  0.29680752]\tintercept: [-0.00011124]\n",
      "coeffs: [ 0.35532081 -0.01730767  0.24407194 -0.07437128  0.29643784]\tintercept: [-0.00023502]\n",
      "coeffs: [ 0.3550277  -0.01737     0.24374409 -0.07437821  0.29629616]\tintercept: [-0.00063813]\n",
      "coeffs: [ 0.3551789  -0.01725605  0.24342419 -0.0743239   0.29583815]\tintercept: [-0.00094543]\n",
      "coeffs: [ 0.35534998 -0.01729965  0.24400385 -0.07435554  0.29688342]\tintercept: [-0.00020628]\n",
      "coeffs: [ 0.35499037 -0.01718754  0.24409705 -0.07432295  0.29682436]\tintercept: [-0.0004445]\n",
      "coeffs: [ 0.3553485  -0.01729084  0.24413954 -0.07433438  0.29681171]\tintercept: [-0.00019165]\n",
      "coeffs: [ 0.3549437  -0.01714095  0.24423255 -0.07427891  0.29658404]\tintercept: [-0.00060197]\n",
      "coeffs: [ 0.35559638 -0.01743913  0.24414073 -0.07439028  0.29661267]\tintercept: [0.00010885]\n",
      "coeffs: [ 0.35553726 -0.01742315  0.2440878  -0.07438746  0.29675904]\tintercept: [7.63672289e-05]\n",
      "coeffs: [ 0.35553332 -0.01743952  0.24401743 -0.07439551  0.29687537]\tintercept: [0.0001119]\n",
      "coeffs: [ 0.35545228 -0.01745564  0.24414878 -0.07441222  0.296736  ]\tintercept: [0.00013435]\n",
      "coeffs: [ 0.35552096 -0.01736574  0.24410421 -0.07432312  0.29674657]\tintercept: [9.10921149e-05]\n",
      "coeffs: [ 0.35532824 -0.01738678  0.24403058 -0.07439961  0.29598563]\tintercept: [-0.00030045]\n",
      "coeffs: [ 0.35568416 -0.01749748  0.24390761 -0.07442389  0.29676476]\tintercept: [0.00020597]\n",
      "coeffs: [ 0.35459191 -0.01721288  0.24386376 -0.07438289  0.29721122]\tintercept: [-0.00043142]\n",
      "coeffs: [ 0.35482916 -0.01725515  0.24374086 -0.07439591  0.29696559]\tintercept: [-0.00037445]\n",
      "coeffs: [ 0.35495584 -0.01731293  0.24424788 -0.07439697  0.29669959]\tintercept: [-0.00019456]\n",
      "coeffs: [ 0.35558577 -0.01861882  0.24334531 -0.0744528   0.29771405]\tintercept: [-3.2227861e-05]\n",
      "coeffs: [ 0.35545694 -0.01728376  0.24445075 -0.0744381   0.29685337]\tintercept: [0.00038032]\n",
      "coeffs: [ 0.35537001 -0.0173849   0.24424481 -0.0744125   0.29684537]\tintercept: [0.00013507]\n",
      "coeffs: [ 0.35486427 -0.01800511  0.24478985 -0.07453149  0.2966871 ]\tintercept: [0.00037493]\n",
      "coeffs: [ 0.3555266  -0.0175309   0.24389481 -0.07442193  0.29692707]\tintercept: [0.00010928]\n",
      "coeffs: [ 0.35546199 -0.0174345   0.24411905 -0.07439176  0.2968299 ]\tintercept: [3.99454642e-05]\n",
      "coeffs: [ 0.35550547 -0.0174398   0.2441127  -0.07441698  0.29669501]\tintercept: [0.00017009]\n",
      "coeffs: [ 0.35560068 -0.01734754  0.24426486 -0.07456751  0.29686358]\tintercept: [6.27498869e-05]\n",
      "coeffs: [ 0.35519269 -0.01735325  0.244025   -0.0745803   0.29665486]\tintercept: [0.0004543]\n",
      "coeffs: [ 0.35540668 -0.01746397  0.24414209 -0.07443938  0.29674538]\tintercept: [0.00020899]\n",
      "coeffs: [ 0.35544613 -0.01733549  0.24414216 -0.07439783  0.29668717]\tintercept: [8.62280822e-05]\n",
      "coeffs: [ 0.35537667 -0.01753175  0.24413811 -0.07444419  0.29670619]\tintercept: [0.00019373]\n",
      "coeffs: [ 0.35542076 -0.01736844  0.24426332 -0.07447004  0.29663601]\tintercept: [0.0003784]\n",
      "coeffs: [ 0.35545393 -0.0173508   0.24409745 -0.07444202  0.29678003]\tintercept: [0.00012796]\n",
      "coeffs: [ 0.355225   -0.01785416  0.24409587 -0.07470796  0.29700003]\tintercept: [0.00038354]\n",
      "coeffs: [ 0.35538483 -0.01723924  0.2441327  -0.07464146  0.29680107]\tintercept: [0.00020212]\n",
      "coeffs: [ 0.35549896 -0.0173481   0.24411414 -0.07441738  0.29674245]\tintercept: [0.00018341]\n",
      "coeffs: [ 0.35529312 -0.01752488  0.24417446 -0.07446849  0.29659338]\tintercept: [0.00014247]\n",
      "coeffs: [ 0.35545197 -0.01723457  0.24406889 -0.07446088  0.29662622]\tintercept: [0.00029992]\n",
      "coeffs: [ 0.35536631 -0.01735477  0.24428116 -0.07391273  0.29666705]\tintercept: [0.00046619]\n",
      "coeffs: [ 0.35545796 -0.01747817  0.24407797 -0.07427402  0.29680186]\tintercept: [0.00023162]\n",
      "coeffs: [ 0.3554792  -0.01770437  0.24390526 -0.07428986  0.29645596]\tintercept: [0.00023175]\n",
      "coeffs: [ 0.35523913 -0.01730061  0.24401718 -0.07416433  0.29710451]\tintercept: [0.0003843]\n",
      "coeffs: [ 0.35561937 -0.01698587  0.24392023 -0.07417753  0.29651246]\tintercept: [0.00043512]\n",
      "coeffs: [ 0.35542165 -0.0172918   0.24417163 -0.0744739   0.29680299]\tintercept: [0.00017837]\n",
      "coeffs: [ 0.35529533 -0.01806487  0.24371948 -0.07452451  0.29672827]\tintercept: [0.00023701]\n",
      "coeffs: [ 0.35529458 -0.01736398  0.2438222  -0.07371814  0.29736878]\tintercept: [0.0004454]\n",
      "coeffs: [ 0.35605919 -0.01717328  0.24356295 -0.07358387  0.29713011]\tintercept: [0.00049316]\n",
      "coeffs: [ 0.35497857 -0.01789421  0.24426434 -0.0739732   0.29688699]\tintercept: [0.00028406]\n",
      "coeffs: [ 0.35553873 -0.01706129  0.24373077 -0.07453987  0.29674163]\tintercept: [0.00047834]\n",
      "coeffs: [ 0.35543446 -0.01691497  0.24390847 -0.07446659  0.29679774]\tintercept: [0.00033645]\n",
      "coeffs: [ 0.35552688 -0.01706274  0.24392207 -0.07451461  0.29655902]\tintercept: [0.00050409]\n",
      "coeffs: [ 0.35559519 -0.01736197  0.24393782 -0.07437865  0.29700644]\tintercept: [0.00026739]\n",
      "coeffs: [ 0.35545786 -0.01740714  0.2439031  -0.07439838  0.29703973]\tintercept: [0.0005258]\n",
      "coeffs: [ 0.35551278 -0.01748684  0.24402313 -0.07441603  0.29678443]\tintercept: [0.00013833]\n",
      "coeffs: [ 0.35568146 -0.01667179  0.24379054 -0.07449386  0.2968422 ]\tintercept: [0.00057086]\n",
      "coeffs: [ 0.35545714 -0.01693729  0.24380621 -0.07454188  0.29687413]\tintercept: [0.000617]\n",
      "coeffs: [ 0.35546505 -0.01689309  0.24389402 -0.07434813  0.2966584 ]\tintercept: [0.00047407]\n",
      "coeffs: [ 0.35546976 -0.01731153  0.24412273 -0.07433568  0.29679946]\tintercept: [0.00012249]\n",
      "coeffs: [ 0.35542978 -0.0173441   0.24409872 -0.07442949  0.29669902]\tintercept: [0.00015901]\n",
      "coeffs: [ 0.35522791 -0.01765104  0.24422144 -0.07446819  0.29673989]\tintercept: [0.00019905]\n",
      "coeffs: [ 0.35517018 -0.01825143  0.24424295 -0.07454773  0.29654038]\tintercept: [0.00035077]\n",
      "coeffs: [ 0.35539754 -0.01767677  0.24384509 -0.07442803  0.29693671]\tintercept: [4.90420405e-05]\n",
      "coeffs: [ 0.35551709 -0.01755132  0.24402313 -0.07436609  0.29694101]\tintercept: [-4.38164354e-05]\n",
      "coeffs: [ 0.35598504 -0.01773516  0.243606   -0.07432256  0.29663109]\tintercept: [-0.00022092]\n",
      "coeffs: [ 0.3557348  -0.01798436  0.24386833 -0.07431734  0.29649855]\tintercept: [-0.00033806]\n",
      "coeffs: [ 0.35534563 -0.01691484  0.24414776 -0.07407164  0.29673604]\tintercept: [0.00039287]\n",
      "coeffs: [ 0.35572526 -0.01733243  0.24393297 -0.07355316  0.29640036]\tintercept: [3.99676615e-05]\n",
      "coeffs: [ 0.35479041 -0.01721107  0.2430846  -0.07444063  0.29640366]\tintercept: [-0.00065115]\n",
      "coeffs: [ 0.35483711 -0.01720892  0.24374982 -0.07436253  0.29685867]\tintercept: [-0.00049804]\n",
      "coeffs: [ 0.35547786 -0.01734427  0.24409388 -0.0743358   0.29681511]\tintercept: [-0.00013703]\n",
      "coeffs: [ 0.3555059  -0.01739372  0.24409633 -0.07437227  0.29684484]\tintercept: [2.53228415e-05]\n",
      "coeffs: [ 0.35536381 -0.01730055  0.2442099  -0.07432109  0.29670911]\tintercept: [-0.00021142]\n",
      "coeffs: [ 0.35546545 -0.01735243  0.24409468 -0.07441158  0.29671759]\tintercept: [0.00011308]\n",
      "coeffs: [ 0.3554888  -0.01731622  0.24419875 -0.07437591  0.29676459]\tintercept: [-1.24793188e-05]\n",
      "coeffs: [ 0.35520811 -0.01728209  0.24420689 -0.07435813  0.29662991]\tintercept: [-0.00025302]\n",
      "coeffs: [ 0.35529708 -0.0172798   0.24395487 -0.07435402  0.29671538]\tintercept: [-0.00027379]\n",
      "coeffs: [ 0.35554696 -0.01740797  0.24401623 -0.07438531  0.29675535]\tintercept: [2.94406262e-05]\n",
      "coeffs: [ 0.35545524 -0.01742736  0.2442929  -0.07438652  0.29686174]\tintercept: [0.00010878]\n",
      "coeffs: [ 0.35560486 -0.01743361  0.24408881 -0.07438353  0.29677079]\tintercept: [7.98716227e-05]\n",
      "coeffs: [ 0.35549007 -0.01728449  0.24403292 -0.07444484  0.29659206]\tintercept: [0.00019595]\n",
      "coeffs: [ 0.35528243 -0.01714094  0.2443468  -0.07442849  0.29695889]\tintercept: [0.00026734]\n",
      "coeffs: [ 0.35545696 -0.01737504  0.24404085 -0.07445373  0.29672128]\tintercept: [0.00025153]\n",
      "coeffs: [ 0.35559264 -0.01718395  0.25605318 -0.07336057  0.30296342]\tintercept: [0.00079934]\n",
      "coeffs: [ 0.3554599  -0.01744441  0.24419308 -0.07395901  0.29689204]\tintercept: [0.00016422]\n",
      "coeffs: [ 0.35529621 -0.01726509  0.2439564  -0.07448922  0.29679693]\tintercept: [0.00024909]\n",
      "coeffs: [ 0.35522173 -0.01737956  0.24412623 -0.0738857   0.29679076]\tintercept: [0.00029736]\n",
      "coeffs: [ 0.35549122 -0.01722259  0.24414254 -0.07404427  0.29696371]\tintercept: [0.00031105]\n",
      "coeffs: [ 0.35548973 -0.01724103  0.24398283 -0.07439972  0.29693794]\tintercept: [0.00013879]\n",
      "coeffs: [ 0.35540561 -0.01806064  0.2439889  -0.07410362  0.29677402]\tintercept: [0.00034968]\n",
      "coeffs: [ 0.35559466 -0.01765514  0.24405728 -0.07394499  0.29663276]\tintercept: [0.00025627]\n",
      "coeffs: [ 0.35485611 -0.01994964  0.24495716 -0.07436488  0.29480761]\tintercept: [-0.00101332]\n",
      "coeffs: [ 0.35560956 -0.01712741  0.2438279  -0.07443268  0.29663102]\tintercept: [0.00020522]\n",
      "coeffs: [ 0.3553406  -0.01737104  0.24398507 -0.07401492  0.29663433]\tintercept: [0.00038353]\n",
      "coeffs: [ 0.35519101 -0.01759214  0.24395718 -0.0735308   0.29699714]\tintercept: [0.00040117]\n",
      "coeffs: [ 0.35453457 -0.01722173  0.24347624 -0.07437721  0.29684041]\tintercept: [-0.00034322]\n",
      "coeffs: [ 0.35523749 -0.01720335  0.24357229 -0.07434021  0.29678799]\tintercept: [-0.00048668]\n",
      "coeffs: [ 0.3558148  -0.01756482  0.24339397 -0.07437682  0.29686698]\tintercept: [-0.00010438]\n",
      "coeffs: [ 0.35488603 -0.0172622   0.24384054 -0.07433465  0.29687574]\tintercept: [-0.00061469]\n",
      "coeffs: [ 0.3554747  -0.01732896  0.2445677  -0.07431881  0.29679272]\tintercept: [-4.93623704e-05]\n",
      "coeffs: [ 0.3553129  -0.01736332  0.24409699 -0.07438767  0.29670829]\tintercept: [-8.52706342e-05]\n",
      "coeffs: [ 0.35510603 -0.01724291  0.24330509 -0.074393    0.29680288]\tintercept: [-0.0004669]\n",
      "coeffs: [ 0.35552023 -0.01728462  0.24394095 -0.0744216   0.29681699]\tintercept: [0.00013202]\n",
      "coeffs: [ 0.35542307 -0.01689999  0.2439135  -0.07448689  0.29667794]\tintercept: [0.00028183]\n",
      "coeffs: [ 0.35543713 -0.01751045  0.24410895 -0.07443555  0.29671384]\tintercept: [0.0001458]\n",
      "coeffs: [ 0.35530399 -0.01809581  0.24384793 -0.07451415  0.2970422 ]\tintercept: [0.00026979]\n",
      "coeffs: [ 0.35553679 -0.01732741  0.24441839 -0.07440721  0.29684893]\tintercept: [0.00014945]\n",
      "coeffs: [ 0.35542947 -0.01738674  0.24404267 -0.07437275  0.2968691 ]\tintercept: [-4.02691183e-05]\n",
      "coeffs: [ 0.35554486 -0.01743428  0.24403051 -0.07439287  0.29681853]\tintercept: [9.69412019e-05]\n",
      "coeffs: [ 0.35560321 -0.01745563  0.24399984 -0.07443028  0.29672905]\tintercept: [0.00023273]\n",
      "coeffs: [ 0.35525504 -0.01738591  0.24364464 -0.07444084  0.29673921]\tintercept: [-0.00012377]\n",
      "coeffs: [ 0.35345483 -0.01733669  0.2413231  -0.07455638  0.29622138]\tintercept: [-0.00168716]\n",
      "coeffs: [ 0.35413979 -0.01713429  0.24269053 -0.07450421  0.29638038]\tintercept: [-0.00089529]\n",
      "coeffs: [ 0.35555267 -0.01736384  0.24402329 -0.0743841   0.29687689]\tintercept: [7.34955217e-05]\n",
      "coeffs: [ 0.35545431 -0.01736164  0.24411008 -0.0743898   0.29676074]\tintercept: [6.86304194e-05]\n",
      "coeffs: [ 0.35550493 -0.01737406  0.24417582 -0.07439548  0.29676427]\tintercept: [0.00013462]\n",
      "coeffs: [ 0.3554942  -0.01747424  0.24411669 -0.07438777  0.29683596]\tintercept: [5.53818314e-05]\n",
      "coeffs: [ 0.3554205  -0.01745714  0.24411712 -0.07444549  0.29674146]\tintercept: [0.00012324]\n",
      "coeffs: [ 0.35559538 -0.01746235  0.24399813 -0.07446526  0.29660677]\tintercept: [0.00028721]\n",
      "coeffs: [ 0.35543696 -0.01771129  0.24372883 -0.07459044  0.29659464]\tintercept: [0.00053666]\n",
      "coeffs: [ 0.35489113 -0.01710748  0.24358884 -0.07446309  0.29678869]\tintercept: [-0.00020949]\n",
      "coeffs: [ 0.35424148 -0.01701398  0.24220423 -0.07444817  0.29671828]\tintercept: [-0.00122985]\n",
      "coeffs: [ 0.3531707  -0.01692713  0.24171149 -0.0746326   0.29477061]\tintercept: [-0.00185179]\n",
      "coeffs: [ 0.3541519  -0.01698797  0.24196423 -0.07451141  0.29563473]\tintercept: [-0.00148445]\n",
      "coeffs: [ 0.35382213 -0.01703054  0.24312859 -0.0744814   0.29584615]\tintercept: [-0.00119684]\n",
      "coeffs: [ 0.35434368 -0.01699157  0.24380082 -0.07437081  0.29546147]\tintercept: [-0.00114526]\n",
      "coeffs: [ 0.35520572 -0.01724679  0.24415219 -0.07433059  0.29679864]\tintercept: [-0.00030415]\n",
      "coeffs: [ 0.35565095 -0.01735292  0.24406413 -0.07434081  0.29689375]\tintercept: [-4.83026788e-05]\n",
      "coeffs: [ 0.35493622 -0.01728948  0.24378534 -0.07441747  0.29700919]\tintercept: [-0.00031053]\n",
      "coeffs: [ 0.35552827 -0.01737607  0.24407123 -0.0743604   0.29682459]\tintercept: [-1.10367406e-05]\n",
      "coeffs: [ 0.35554935 -0.01735823  0.24410353 -0.07434691  0.29678464]\tintercept: [-4.05930435e-05]\n",
      "coeffs: [ 0.35557744 -0.01741521  0.24406724 -0.07440451  0.29676947]\tintercept: [0.00015443]\n",
      "coeffs: [ 0.35550736 -0.01737991  0.24399068 -0.07437487  0.29681956]\tintercept: [-2.54849485e-05]\n",
      "coeffs: [ 0.35546601 -0.01736465  0.24412925 -0.07435662  0.29685721]\tintercept: [-2.84525922e-05]\n",
      "coeffs: [ 0.35547607 -0.01737734  0.24408552 -0.07436598  0.29679195]\tintercept: [-1.36966209e-05]\n",
      "coeffs: [ 0.35468041 -0.01741521  0.24244528 -0.07479076  0.29180112]\tintercept: [-0.0009557]\n",
      "coeffs: [ 0.35420612 -0.01711789  0.24285209 -0.07457251  0.29474687]\tintercept: [-0.00121849]\n",
      "coeffs: [ 0.35442546 -0.01808191  0.24221427 -0.07476975  0.29105322]\tintercept: [-0.00160753]\n",
      "coeffs: [ 0.35540051 -0.01729544  0.24310986 -0.07446514  0.29570437]\tintercept: [-0.00064877]\n",
      "coeffs: [ 0.3541948  -0.01717256  0.24322848 -0.07447083  0.29703599]\tintercept: [-0.00071854]\n",
      "coeffs: [ 0.35561971 -0.0173883   0.24392131 -0.07435209  0.29690851]\tintercept: [-0.00015164]\n",
      "coeffs: [ 0.35518335 -0.01724674  0.24372405 -0.07435746  0.29697866]\tintercept: [-0.00036237]\n",
      "coeffs: [ 0.3553277  -0.01728264  0.244227   -0.07433122  0.29674008]\tintercept: [-0.0002059]\n",
      "coeffs: [ 0.35501019 -0.01706927  0.24443647 -0.07425555  0.29634174]\tintercept: [-0.00068056]\n",
      "coeffs: [ 0.35525912 -0.01724877  0.24390449 -0.0743264   0.2962867 ]\tintercept: [-0.00055025]\n",
      "coeffs: [ 0.35561316 -0.01749516  0.24418221 -0.07442038  0.29662246]\tintercept: [0.00022036]\n",
      "coeffs: [ 0.3555256  -0.01747808  0.24408606 -0.07442033  0.29676949]\tintercept: [0.00017739]\n",
      "coeffs: [ 0.35542442 -0.01748233  0.24406163 -0.07443772  0.29676463]\tintercept: [0.00013406]\n",
      "coeffs: [ 0.35530958 -0.01742748  0.24413885 -0.07445448  0.29679733]\tintercept: [0.00021027]\n",
      "coeffs: [ 0.35532478 -0.01763445  0.24413193 -0.0743864   0.29619021]\tintercept: [-0.00023929]\n",
      "coeffs: [ 0.35566084 -0.01736364  0.2441115  -0.07441698  0.29647223]\tintercept: [4.29275547e-05]\n",
      "coeffs: [ 0.35566523 -0.01744085  0.24419225 -0.07438503  0.29682721]\tintercept: [0.00013374]\n",
      "coeffs: [ 0.355517   -0.01737822  0.24405986 -0.07436302  0.2968198 ]\tintercept: [-1.04118143e-05]\n",
      "coeffs: [ 0.35560549 -0.0173961   0.24399294 -0.07437322  0.29671476]\tintercept: [1.02768584e-05]\n",
      "coeffs: [ 0.35500718 -0.0172485   0.2440729  -0.07432059  0.29652429]\tintercept: [-0.00058197]\n",
      "coeffs: [ 0.35553981 -0.01771436  0.24336781 -0.07438009  0.29658585]\tintercept: [-0.00042411]\n",
      "coeffs: [ 0.3554441  -0.01741246  0.2441431  -0.07437484  0.29676085]\tintercept: [1.59893636e-06]\n",
      "coeffs: [ 0.35532715 -0.01729767  0.24444301 -0.07441804  0.29675471]\tintercept: [0.00021614]\n",
      "coeffs: [ 0.35545538 -0.01740916  0.24414074 -0.07445796  0.29662075]\tintercept: [0.00028565]\n",
      "coeffs: [ 0.35520391 -0.01773203  0.24450492 -0.07461574  0.29694711]\tintercept: [0.000269]\n",
      "coeffs: [ 0.35540185 -0.01735412  0.24408809 -0.07444759  0.29667448]\tintercept: [0.00020949]\n",
      "coeffs: [ 0.35552725 -0.01729628  0.2440972  -0.07442569  0.29672294]\tintercept: [0.00016714]\n",
      "coeffs: [ 0.35550578 -0.01745729  0.24418448 -0.07439383  0.29664167]\tintercept: [8.5416418e-05]\n",
      "coeffs: [ 0.35550222 -0.0174612   0.2440364  -0.07443269  0.29675856]\tintercept: [0.00012342]\n",
      "coeffs: [ 0.35570479 -0.01722228  0.2442702  -0.07448487  0.29701053]\tintercept: [0.00011435]\n",
      "coeffs: [ 0.35506262 -0.01754926  0.24416729 -0.07453746  0.29697547]\tintercept: [0.00046368]\n",
      "coeffs: [ 0.35535878 -0.01761421  0.2440246  -0.07447386  0.29716282]\tintercept: [0.0003297]\n",
      "coeffs: [ 0.35542937 -0.01725048  0.24419567 -0.07442886  0.29669983]\tintercept: [0.00022499]\n",
      "coeffs: [ 0.35533785 -0.01739907  0.24420974 -0.07448091  0.29665763]\tintercept: [0.00033887]\n",
      "coeffs: [ 0.35523867 -0.01769475  0.24435903 -0.07448937  0.29676007]\tintercept: [0.00036759]\n",
      "coeffs: [ 0.35532085 -0.01723218  0.24430976 -0.0744732   0.2966338 ]\tintercept: [0.00038196]\n",
      "coeffs: [ 0.35519571 -0.01759443  0.24411094 -0.07449568  0.29680671]\tintercept: [0.00025462]\n",
      "coeffs: [ 0.35571486 -0.01702625  0.24446369 -0.07432711  0.29589827]\tintercept: [-7.8861223e-05]\n",
      "coeffs: [ 0.3551309  -0.01722883  0.24402904 -0.07453492  0.29666404]\tintercept: [0.00034557]\n",
      "coeffs: [ 0.35534598 -0.0173717   0.24397125 -0.07452184  0.29675031]\tintercept: [0.0004286]\n",
      "coeffs: [ 0.35533918 -0.01765356  0.24401531 -0.07455339  0.29669597]\tintercept: [0.00049093]\n",
      "coeffs: [ 0.3554065  -0.01731577  0.2441475  -0.07441001  0.29676939]\tintercept: [0.00013043]\n",
      "coeffs: [ 0.35534632 -0.01757731  0.24429722 -0.07394842  0.29688083]\tintercept: [0.00018887]\n",
      "coeffs: [ 0.35543375 -0.01727403  0.24400551 -0.07447728  0.29666282]\tintercept: [0.00028174]\n",
      "coeffs: [ 0.35533896 -0.01727351  0.24414724 -0.07403998  0.2966127 ]\tintercept: [0.00032826]\n",
      "coeffs: [ 0.35527858 -0.01732816  0.24413958 -0.0742749   0.29679306]\tintercept: [0.00021903]\n",
      "coeffs: [ 0.35531051 -0.01704995  0.24404335 -0.07446238  0.29679049]\tintercept: [0.00030799]\n",
      "coeffs: [ 0.35518864 -0.01734695  0.24370359 -0.07376564  0.29767815]\tintercept: [0.0006747]\n",
      "coeffs: [ 0.35537752 -0.01684701  0.24418019 -0.07379693  0.29732893]\tintercept: [0.00049004]\n",
      "coeffs: [ 0.35551665 -0.01721828  0.24394849 -0.07462824  0.29721405]\tintercept: [0.00027476]\n",
      "coeffs: [ 0.35543498 -0.01740705  0.24396213 -0.07443084  0.29678544]\tintercept: [0.00013354]\n",
      "coeffs: [ 0.35541292 -0.0171931   0.24395267 -0.07449014  0.29673137]\tintercept: [0.00037584]\n",
      "coeffs: [ 0.35560154 -0.01705959  0.24401071 -0.07402923  0.29660867]\tintercept: [0.00041131]\n",
      "coeffs: [ 0.35539197 -0.01742149  0.24395124 -0.07445264  0.29683644]\tintercept: [0.00020646]\n",
      "coeffs: [ 0.35563873 -0.01745256  0.24390608 -0.07338295  0.29717007]\tintercept: [0.00037563]\n",
      "coeffs: [ 0.35559074 -0.01724162  0.24390708 -0.07442717  0.29670158]\tintercept: [0.0001953]\n",
      "coeffs: [ 0.35514149 -0.0172231   0.24409244 -0.07436415  0.29700218]\tintercept: [0.00041822]\n",
      "coeffs: [ 0.35505188 -0.01856496  0.24388598 -0.07395143  0.29724025]\tintercept: [0.00065615]\n",
      "coeffs: [ 0.35535916 -0.01754194  0.2441436  -0.07427266  0.29676951]\tintercept: [0.00020009]\n",
      "coeffs: [ 0.35540901 -0.01772558  0.24407113 -0.0744678   0.29666399]\tintercept: [0.0001781]\n",
      "coeffs: [ 0.35536195 -0.01745032  0.24407956 -0.07449432  0.29656902]\tintercept: [0.00027621]\n",
      "coeffs: [ 0.35540573 -0.01751844  0.24388458 -0.0744387   0.29703302]\tintercept: [0.00015863]\n",
      "coeffs: [ 0.35546156 -0.01725031  0.24411652 -0.07455508  0.29683407]\tintercept: [0.00021972]\n",
      "coeffs: [ 0.35546121 -0.01761667  0.24413012 -0.07430307  0.29679739]\tintercept: [-0.00031247]\n",
      "coeffs: [ 0.35560984 -0.01765967  0.24401612 -0.07443668  0.29647971]\tintercept: [-7.73440344e-05]\n",
      "coeffs: [ 0.35529336 -0.01738028  0.24426881 -0.07449344  0.29675782]\tintercept: [0.00025965]\n",
      "coeffs: [ 0.35545762 -0.01735262  0.24409347 -0.07395182  0.29681986]\tintercept: [5.67899999e-05]\n",
      "coeffs: [ 0.35543348 -0.01729966  0.24420947 -0.07431224  0.29630509]\tintercept: [-0.00034268]\n",
      "coeffs: [ 0.35500222 -0.01695094  0.24329345 -0.07431753  0.2949442 ]\tintercept: [-0.00128047]\n",
      "coeffs: [ 0.3555078  -0.01739762  0.243968   -0.07439575  0.29680712]\tintercept: [-1.65915661e-05]\n",
      "coeffs: [ 0.35556037 -0.01741614  0.24410641 -0.07438306  0.29681438]\tintercept: [6.71530658e-05]\n",
      "coeffs: [ 0.35554897 -0.01757133  0.24395003 -0.0743319   0.29645963]\tintercept: [-0.00029164]\n",
      "coeffs: [ 0.35524513 -0.01746858  0.24410735 -0.07437968  0.29667588]\tintercept: [-0.00015193]\n",
      "coeffs: [ 0.35549015 -0.01736927  0.24417462 -0.07433366  0.2967861 ]\tintercept: [-0.000108]\n",
      "coeffs: [ 0.35540138 -0.01730938  0.24419325 -0.07433752  0.29671464]\tintercept: [-0.00015037]\n",
      "coeffs: [ 0.35548336 -0.01737859  0.24402297 -0.074375    0.29683403]\tintercept: [-2.70833054e-05]\n",
      "coeffs: [ 0.35542209 -0.01754802  0.24407042 -0.07445457  0.29666984]\tintercept: [0.0001607]\n",
      "coeffs: [ 0.35546993 -0.01744939  0.24393072 -0.07442224  0.2968064 ]\tintercept: [-3.18686394e-05]\n",
      "coeffs: [ 0.35541679 -0.01731655  0.24402644 -0.07435363  0.29670878]\tintercept: [-0.00017157]\n",
      "coeffs: [ 0.35530993 -0.01733914  0.24403744 -0.07439153  0.29683409]\tintercept: [-0.00015447]\n",
      "coeffs: [ 0.35540523 -0.0173841   0.24406324 -0.07438276  0.29677423]\tintercept: [-1.85712153e-05]\n",
      "coeffs: [ 0.35557228 -0.01746995  0.24413586 -0.07440786  0.29673005]\tintercept: [0.00017578]\n",
      "coeffs: [ 0.35518261 -0.01738557  0.24420371 -0.07449669  0.29663093]\tintercept: [0.00027469]\n",
      "coeffs: [ 0.35547432 -0.01724711  0.2441131  -0.07451172  0.2964752 ]\tintercept: [0.00048185]\n",
      "coeffs: [ 0.3557171  -0.01715141  0.25113781 -0.07381616  0.30196063]\tintercept: [0.0008513]\n",
      "coeffs: [ 0.35612785 -0.01759442  0.24627956 -0.07396278  0.30029523]\tintercept: [0.00081406]\n",
      "coeffs: [ 0.35540971 -0.01715002  0.24417407 -0.07403794  0.29666295]\tintercept: [0.0002911]\n",
      "coeffs: [ 0.35510586 -0.01715184  0.24428002 -0.07402006  0.29761582]\tintercept: [0.00039992]\n",
      "coeffs: [ 0.35546329 -0.01745729  0.24414843 -0.07421915  0.29674002]\tintercept: [0.00014134]\n",
      "coeffs: [ 0.35560871 -0.01721502  0.24393017 -0.07439371  0.2968466 ]\tintercept: [0.00018816]\n",
      "coeffs: [ 0.35549598 -0.01721001  0.24408679 -0.07380893  0.29693171]\tintercept: [0.00022648]\n",
      "coeffs: [ 0.35545065 -0.01771842  0.24458148 -0.07457903  0.29568256]\tintercept: [-0.00063088]\n",
      "coeffs: [ 0.35541482 -0.01851254  0.24419148 -0.07435032  0.29588011]\tintercept: [-0.00055055]\n",
      "coeffs: [ 0.35548245 -0.01744298  0.24406171 -0.07437506  0.29682901]\tintercept: [-1.71590672e-05]\n",
      "coeffs: [ 0.35502302 -0.01759153  0.24513164 -0.07435633  0.29651626]\tintercept: [-2.3361637e-05]\n",
      "coeffs: [ 0.35534951 -0.01712836  0.24402131 -0.07396454  0.29680907]\tintercept: [0.00034779]\n",
      "coeffs: [ 0.35519972 -0.01805271  0.2439846  -0.07464     0.29640283]\tintercept: [0.00060076]\n",
      "coeffs: [ 0.35502344 -0.01707477  0.24378517 -0.07396424  0.297142  ]\tintercept: [-0.00025354]\n",
      "coeffs: [ 0.35560417 -0.01739585  0.24397186 -0.07435744  0.29680324]\tintercept: [-5.59505398e-05]\n",
      "coeffs: [ 0.35546373 -0.01734293  0.24387224 -0.0743681   0.29680751]\tintercept: [-0.00010125]\n",
      "coeffs: [ 0.35526742 -0.01760321  0.24389587 -0.07427809  0.29664187]\tintercept: [-0.00063577]\n",
      "coeffs: [ 0.355359   -0.01727983  0.24397032 -0.07438488  0.29692818]\tintercept: [-7.24254952e-05]\n",
      "coeffs: [ 0.35553516 -0.0173832   0.24406658 -0.07437614  0.29675853]\tintercept: [-2.3016621e-05]\n",
      "coeffs: [ 0.354509   -0.01717332  0.24356656 -0.07441197  0.29675071]\tintercept: [-0.00064959]\n",
      "coeffs: [ 0.35543625 -0.01738757  0.24421644 -0.07439902  0.29657503]\tintercept: [-3.71050709e-05]\n",
      "coeffs: [ 0.35513897 -0.01769161  0.24421474 -0.07452448  0.29675221]\tintercept: [0.00034231]\n",
      "coeffs: [ 0.35501678 -0.01781878  0.24376795 -0.07466304  0.29666532]\tintercept: [0.00042203]\n",
      "coeffs: [ 0.35558416 -0.01745239  0.24405406 -0.07435139  0.29678447]\tintercept: [-6.1450575e-05]\n",
      "coeffs: [ 0.3552173  -0.01780598  0.24437503 -0.07367827  0.29695637]\tintercept: [0.00021463]\n",
      "coeffs: [ 0.35540038 -0.01750022  0.24412624 -0.07447523  0.29662663]\tintercept: [0.00026562]\n",
      "coeffs: [ 0.35549293 -0.01740926  0.24413405 -0.07436982  0.2969711 ]\tintercept: [2.89794529e-05]\n",
      "coeffs: [ 0.3554984  -0.01731551  0.24416162 -0.07432579  0.29678636]\tintercept: [-0.00012192]\n",
      "coeffs: [ 0.35534504 -0.01716824  0.24383698 -0.07431307  0.29621329]\tintercept: [-0.00056653]\n",
      "coeffs: [ 0.35550675 -0.0173612   0.24426334 -0.07434656  0.29678361]\tintercept: [-0.0001066]\n",
      "coeffs: [ 0.35384831 -0.01730607  0.24414773 -0.07455581  0.29368283]\tintercept: [-0.00108197]\n",
      "coeffs: [ 0.35232677 -0.01679371  0.24295478 -0.07464016  0.29283075]\tintercept: [-0.00221034]\n",
      "coeffs: [ 0.3542826  -0.0171584   0.24383303 -0.07455867  0.29603913]\tintercept: [-0.00080468]\n",
      "coeffs: [ 0.35463346 -0.01728807  0.24339937 -0.07440786  0.2965839 ]\tintercept: [-0.00066057]\n",
      "coeffs: [ 0.35556369 -0.0174136   0.24404121 -0.07438233  0.29688623]\tintercept: [1.81319856e-05]\n",
      "coeffs: [ 0.35545834 -0.0173201   0.24423696 -0.07431862  0.29647708]\tintercept: [-0.00021852]\n",
      "coeffs: [ 0.35549782 -0.01746588  0.24404051 -0.07443063  0.29678917]\tintercept: [0.00016518]\n",
      "coeffs: [ 0.35526051 -0.01773181  0.24390187 -0.07457264  0.29658815]\tintercept: [0.00037891]\n",
      "coeffs: [ 0.35573147 -0.01749545  0.24334326 -0.07463456  0.29636196]\tintercept: [0.00068041]\n",
      "coeffs: [ 0.35555371 -0.01757344  0.24376294 -0.0745311   0.29653946]\tintercept: [0.00038575]\n",
      "coeffs: [ 0.35467121 -0.01710729  0.24370498 -0.07449747  0.29587341]\tintercept: [-0.00047118]\n",
      "coeffs: [ 0.35344751 -0.01702008  0.242259   -0.07453402  0.29685201]\tintercept: [-0.00127982]\n",
      "coeffs: [ 0.35440385 -0.01705372  0.2443309  -0.07434504  0.29590217]\tintercept: [-0.00085889]\n",
      "coeffs: [ 0.35411077 -0.01697962  0.24393913 -0.07436893  0.29572505]\tintercept: [-0.00112784]\n",
      "coeffs: [ 0.35325789 -0.01692945  0.24264323 -0.07450093  0.29625974]\tintercept: [-0.00148055]\n",
      "coeffs: [ 0.35503354 -0.01726039  0.24405864 -0.074365    0.29678878]\tintercept: [-0.00031254]\n",
      "coeffs: [ 0.35486001 -0.01731642  0.24380885 -0.07442649  0.29695021]\tintercept: [-0.00024936]\n",
      "coeffs: [ 0.35550148 -0.01739805  0.24407492 -0.07437545  0.29678783]\tintercept: [2.79514059e-05]\n",
      "coeffs: [ 0.35539689 -0.01730953  0.24407321 -0.07434268  0.29680097]\tintercept: [-0.00016308]\n",
      "coeffs: [ 0.35550979 -0.01738358  0.24405496 -0.07437283  0.29680115]\tintercept: [-8.54100644e-06]\n",
      "coeffs: [ 0.35543728 -0.01729019  0.24398687 -0.07433378  0.2967822 ]\tintercept: [-0.00021123]\n",
      "coeffs: [ 0.35559205 -0.01739982  0.24405373 -0.07437289  0.29683165]\tintercept: [3.39262793e-05]\n",
      "coeffs: [ 0.35546391 -0.01731138  0.24415355 -0.07433588  0.29653982]\tintercept: [-0.00016162]\n",
      "coeffs: [ 0.35373525 -0.01703523  0.24362318 -0.07454701  0.29343594]\tintercept: [-0.00139271]\n",
      "coeffs: [ 0.35402904 -0.01698644  0.24378476 -0.07450078  0.29296175]\tintercept: [-0.00149523]\n",
      "coeffs: [ 0.35481559 -0.01709927  0.2439502  -0.07434242  0.29603261]\tintercept: [-0.00077804]\n",
      "coeffs: [ 0.35519964 -0.01724873  0.24311187 -0.07440953  0.2966207 ]\tintercept: [-0.00050469]\n",
      "coeffs: [ 0.35502801 -0.01724725  0.24370328 -0.0744048   0.2963434 ]\tintercept: [-0.00047049]\n",
      "coeffs: [ 0.35552725 -0.01745028  0.24413532 -0.07440124  0.29671706]\tintercept: [0.00013293]\n",
      "coeffs: [ 0.3555428  -0.01754765  0.24414303 -0.07445688  0.29663853]\tintercept: [0.00031333]\n",
      "coeffs: [ 0.35551253 -0.01731573  0.24420566 -0.07432212  0.29672295]\tintercept: [-0.00011587]\n",
      "coeffs: [ 0.35530573 -0.01768987  0.24409448 -0.07451154  0.29662829]\tintercept: [0.00029858]\n",
      "coeffs: [ 0.35524079 -0.01748693  0.24418721 -0.07448794  0.29692503]\tintercept: [0.00034977]\n",
      "coeffs: [ 0.3554281  -0.01733097  0.24412261 -0.07445289  0.29668967]\tintercept: [0.00017183]\n",
      "coeffs: [ 0.3553704  -0.01726371  0.2441516  -0.07440301  0.29633087]\tintercept: [-0.00013934]\n",
      "coeffs: [ 0.35532727 -0.01756601  0.24404413 -0.07437853  0.29636795]\tintercept: [-0.00029164]\n",
      "coeffs: [ 0.35574503 -0.01754232  0.2437505  -0.07445369  0.29668208]\tintercept: [0.00026515]\n",
      "coeffs: [ 0.3556023  -0.01743584  0.2440185  -0.07439513  0.2967524 ]\tintercept: [8.99697034e-05]\n",
      "coeffs: [ 0.3554067  -0.01734472  0.2440005  -0.07437785  0.29685173]\tintercept: [-4.72739696e-05]\n",
      "coeffs: [ 0.35511085 -0.01741571  0.2435194  -0.0744503   0.29673982]\tintercept: [-0.00021606]\n",
      "coeffs: [ 0.35570176 -0.01756717  0.24416531 -0.07440309  0.29647434]\tintercept: [0.00014019]\n",
      "coeffs: [ 0.35539805 -0.01746214  0.24408067 -0.07442906  0.29679132]\tintercept: [0.00013766]\n",
      "coeffs: [ 0.3554614  -0.01744166  0.2440997  -0.07439538  0.2967966 ]\tintercept: [6.10221023e-05]\n",
      "coeffs: [ 0.35529967 -0.01742981  0.24429611 -0.07444328  0.2968036 ]\tintercept: [0.00024235]\n",
      "coeffs: [ 0.35549788 -0.01737121  0.24406734 -0.07439072  0.29681126]\tintercept: [7.06851481e-05]\n",
      "coeffs: [ 0.35541452 -0.01717388  0.2440441  -0.07444327  0.29672692]\tintercept: [0.00017639]\n",
      "coeffs: [ 0.35522673 -0.0173841   0.2441451  -0.07449416  0.29675912]\tintercept: [0.0002944]\n",
      "coeffs: [ 0.35495312 -0.01767751  0.24474455 -0.07375169  0.29711842]\tintercept: [0.00061753]\n",
      "coeffs: [ 0.35535823 -0.01804916  0.24422426 -0.07451245  0.296966  ]\tintercept: [0.00037281]\n",
      "coeffs: [ 0.35532056 -0.01736988  0.24426262 -0.07448389  0.29665368]\tintercept: [0.00038444]\n",
      "coeffs: [ 0.35539069 -0.01733911  0.24413386 -0.07443895  0.29673319]\tintercept: [0.00022]\n",
      "coeffs: [ 0.35545437 -0.01742343  0.2441844  -0.07442451  0.29673697]\tintercept: [0.00018815]\n",
      "coeffs: [ 0.35550388 -0.01745378  0.24404415 -0.0744407   0.29689038]\tintercept: [0.00021807]\n",
      "coeffs: [ 0.355275   -0.01740663  0.24434199 -0.07447498  0.29718709]\tintercept: [0.00039856]\n",
      "coeffs: [ 0.35527535 -0.01728358  0.24419068 -0.07435452  0.29659934]\tintercept: [0.0003433]\n",
      "coeffs: [ 0.35500618 -0.01785458  0.24408188 -0.07433025  0.2971513 ]\tintercept: [0.0002938]\n",
      "coeffs: [ 0.35549952 -0.0173628   0.24406825 -0.07441503  0.2968085 ]\tintercept: [0.00017459]\n",
      "coeffs: [ 0.35548041 -0.01738343  0.24408536 -0.07444073  0.29666971]\tintercept: [0.00020155]\n",
      "coeffs: [ 0.35565197 -0.01759733  0.2439394  -0.07457871  0.29665624]\tintercept: [-0.00022897]\n",
      "coeffs: [ 0.35573238 -0.01728583  0.24432318 -0.07471478  0.29694725]\tintercept: [-4.85839212e-05]\n",
      "coeffs: [ 0.35536503 -0.01742757  0.24446715 -0.07470193  0.2968508 ]\tintercept: [0.00021922]\n",
      "coeffs: [ 0.35553361 -0.01736352  0.24408152 -0.07448366  0.29648542]\tintercept: [0.00034883]\n",
      "coeffs: [ 0.35528279 -0.01723057  0.24417092 -0.07401597  0.29698409]\tintercept: [0.00027218]\n",
      "coeffs: [ 0.35574826 -0.01679796  0.24394906 -0.07331983  0.29666499]\tintercept: [0.00049257]\n",
      "coeffs: [ 0.35524696 -0.01715553  0.24389362 -0.07452858  0.29683216]\tintercept: [0.00035288]\n",
      "coeffs: [ 0.35537672 -0.01722947  0.24401606 -0.07448353  0.29673977]\tintercept: [0.00023898]\n",
      "coeffs: [ 0.35514131 -0.01769853  0.24418202 -0.07334858  0.29722722]\tintercept: [0.00060999]\n",
      "coeffs: [ 0.35568511 -0.01736204  0.24377245 -0.07364967  0.2968833 ]\tintercept: [0.00057524]\n",
      "coeffs: [ 0.35429725 -0.01911935  0.24462854 -0.07395006  0.29491691]\tintercept: [-0.0001565]\n",
      "coeffs: [ 0.35543741 -0.01739996  0.24398438 -0.07487029  0.29668904]\tintercept: [0.00026169]\n",
      "coeffs: [ 0.3551968  -0.0174813   0.24407409 -0.07422553  0.29683103]\tintercept: [0.00035905]\n",
      "coeffs: [ 0.35535051 -0.01713412  0.24403455 -0.07455333  0.29642883]\tintercept: [0.00051063]\n",
      "coeffs: [ 0.35541041 -0.01731812  0.24390735 -0.07421434  0.29692308]\tintercept: [0.00031018]\n",
      "coeffs: [ 0.35541574 -0.01740243  0.24391886 -0.07395176  0.29672918]\tintercept: [0.00039895]\n",
      "coeffs: [ 0.35548191 -0.01724136  0.24436435 -0.07416223  0.29669042]\tintercept: [0.00054488]\n",
      "coeffs: [ 0.35540473 -0.01806886  0.24419676 -0.07483167  0.29660895]\tintercept: [0.00024336]\n",
      "coeffs: [ 0.35548007 -0.01731205  0.2439549  -0.07443122  0.29679303]\tintercept: [0.00012792]\n",
      "coeffs: [ 0.35545911 -0.0173286   0.24407403 -0.07439329  0.29683407]\tintercept: [8.14205281e-05]\n",
      "coeffs: [ 0.35494466 -0.01790506  0.24472843 -0.07448543  0.29714848]\tintercept: [0.00041297]\n",
      "coeffs: [ 0.35549633 -0.01782711  0.24406947 -0.07420837  0.29687238]\tintercept: [-7.304485e-05]\n",
      "coeffs: [ 0.35563437 -0.01747767  0.24393316 -0.07438862  0.29695976]\tintercept: [6.1613464e-05]\n",
      "coeffs: [ 0.35571831 -0.01799248  0.24438349 -0.07429379  0.29626479]\tintercept: [-0.00032162]\n",
      "coeffs: [ 0.35604645 -0.01846048  0.24381048 -0.07439519  0.29499085]\tintercept: [-0.00047071]\n",
      "coeffs: [ 0.35524776 -0.01806731  0.24373668 -0.07462276  0.29694117]\tintercept: [0.00057131]\n",
      "coeffs: [ 0.35550335 -0.01762525  0.24397788 -0.07435538  0.29685095]\tintercept: [-0.00012194]\n",
      "coeffs: [ 0.35551971 -0.01740021  0.24408124 -0.07437711  0.29682894]\tintercept: [3.17393126e-05]\n",
      "coeffs: [ 0.35530569 -0.01724317  0.24371931 -0.07433894  0.29685177]\tintercept: [-0.00036495]\n",
      "coeffs: [ 0.35550832 -0.01735853  0.24404193 -0.07435544  0.29690508]\tintercept: [-4.88082741e-05]\n",
      "coeffs: [ 0.35540297 -0.01730504  0.24400355 -0.07435116  0.29686219]\tintercept: [-0.00013636]\n",
      "coeffs: [ 0.35553481 -0.01733998  0.24398842 -0.07434824  0.29688226]\tintercept: [-9.78451563e-05]\n",
      "coeffs: [ 0.35550645 -0.01739201  0.24410085 -0.07437124  0.29683636]\tintercept: [2.20955453e-05]\n",
      "coeffs: [ 0.35545698 -0.01736668  0.24407228 -0.07441186  0.29675362]\tintercept: [0.00010228]\n",
      "coeffs: [ 0.35538534 -0.01731166  0.24411875 -0.07436944  0.29673958]\tintercept: [-6.78274747e-05]\n",
      "coeffs: [ 0.35542602 -0.0173078   0.24398019 -0.07434873  0.29683672]\tintercept: [-0.0001847]\n",
      "coeffs: [ 0.35530078 -0.01736454  0.24422693 -0.0743162   0.29647485]\tintercept: [-0.00035352]\n",
      "coeffs: [ 0.35550876 -0.01742096  0.24414974 -0.07439332  0.29680213]\tintercept: [6.22611727e-05]\n",
      "coeffs: [ 0.35548629 -0.01739387  0.24411793 -0.07437244  0.29685925]\tintercept: [2.65252246e-05]\n",
      "coeffs: [ 0.35555424 -0.01743379  0.24410719 -0.07439002  0.29677821]\tintercept: [0.00010368]\n",
      "coeffs: [ 0.35515274 -0.01764096  0.24407009 -0.07456947  0.29666651]\tintercept: [0.00046319]\n",
      "coeffs: [ 0.35544921 -0.01759531  0.24414158 -0.07444867  0.29664769]\tintercept: [0.00018456]\n",
      "coeffs: [ 0.35571834 -0.01768386  0.24380529 -0.07452591  0.29698562]\tintercept: [0.00057064]\n",
      "coeffs: [ 0.35554269 -0.01805337  0.24383042 -0.0742424   0.29693106]\tintercept: [0.00072141]\n",
      "coeffs: [ 0.35515307 -0.01763085  0.24384407 -0.07459981  0.29668827]\tintercept: [0.00048579]\n",
      "coeffs: [ 0.35521192 -0.01768785  0.24413371 -0.0736178   0.29707527]\tintercept: [0.00024288]\n",
      "coeffs: [ 0.35541769 -0.01740081  0.24392367 -0.07427531  0.29694429]\tintercept: [0.00037052]\n",
      "coeffs: [ 0.35530657 -0.0172946   0.24400724 -0.07448672  0.29690278]\tintercept: [0.00036267]\n",
      "coeffs: [ 0.35551674 -0.01763667  0.24405029 -0.07413344  0.29684297]\tintercept: [5.08668647e-07]\n",
      "coeffs: [ 0.35544277 -0.01786455  0.24421695 -0.07432928  0.29651631]\tintercept: [-0.00032615]\n",
      "coeffs: [ 0.35581241 -0.01791429  0.24400793 -0.07427263  0.29632973]\tintercept: [-0.00043674]\n",
      "coeffs: [ 0.35549361 -0.0173171   0.24407211 -0.07404669  0.29667167]\tintercept: [0.00021444]\n",
      "coeffs: [ 0.35538865 -0.0175469   0.24409464 -0.07423925  0.29691386]\tintercept: [0.00026375]\n",
      "coeffs: [ 0.3550286  -0.01718324  0.24349463 -0.07424376  0.29692346]\tintercept: [-0.00063296]\n",
      "coeffs: [ 0.35551798 -0.01756502  0.24468648 -0.07447086  0.29683693]\tintercept: [0.0005452]\n",
      "coeffs: [ 0.35531923 -0.01707979  0.24452669 -0.07421967  0.29638166]\tintercept: [-0.00059005]\n",
      "coeffs: [ 0.35522138 -0.01725509  0.24362072 -0.07437213  0.2966909 ]\tintercept: [-0.00039476]\n",
      "coeffs: [ 0.35481135 -0.01720922  0.24330693 -0.0744468   0.29679466]\tintercept: [-0.00058572]\n",
      "coeffs: [ 0.35517374 -0.01773327  0.24391455 -0.07459141  0.29706759]\tintercept: [0.00059805]\n",
      "coeffs: [ 0.35505362 -0.01762295  0.24415304 -0.0745785   0.29668126]\tintercept: [0.00042776]\n",
      "coeffs: [ 0.35499515 -0.01746325  0.24372336 -0.07466261  0.29662555]\tintercept: [0.00049703]\n",
      "coeffs: [ 0.3553375  -0.01734008  0.2444231  -0.0744383   0.29680634]\tintercept: [0.00031567]\n"
     ]
    }
   ],
   "source": [
    "# 1. a) Print regression coefficients for each training subset\n",
    "for i in range(len(mlr)):\n",
    "    print('coeffs: {}\\tintercept: {}'.format(mlr[i].beta, mlr[i].intercept))"
   ]
  },
  {
   "cell_type": "markdown",
   "metadata": {},
   "source": [
    "#### Response (1.a.)\n",
    "For Task 3, 1.a., the coefficients for each of the models that trained on all but five test samples appear very similar, but the intercepts are noticeably different."
   ]
  },
  {
   "cell_type": "code",
   "execution_count": 53,
   "metadata": {},
   "outputs": [],
   "source": [
    "# 1. b) Cross validation average error\n",
    "cross_errors = []\n",
    "\n",
    "for i in range(len(mlr)):\n",
    "    cross_errors += [mlr[int(i/K)].evaluate(X_std[i:i+K], y_std[i:i+K])]\n",
    "\n",
    "cross_err_avg = np.mean(cross_errors)"
   ]
  },
  {
   "cell_type": "code",
   "execution_count": 54,
   "metadata": {},
   "outputs": [
    {
     "name": "stdout",
     "output_type": "stream",
     "text": [
      "Average error (K=5-fold cross val.): 0.263300\n"
     ]
    }
   ],
   "source": [
    "print('Average error (K={}-fold cross val.): {:.6f}'.format(K, cross_err_avg))"
   ]
  },
  {
   "cell_type": "code",
   "execution_count": 55,
   "metadata": {},
   "outputs": [],
   "source": [
    "# 2. Perform bootstrapping\n",
    "from sklearn.utils import resample # allows us to perform sampling with replacement\n",
    "\n",
    "bs_datasets = 10\n",
    "N_bs = int(0.75*N) # number of samples in bootstrapped training set\n",
    "N_test = N - N_bs # size of test set to get average error"
   ]
  },
  {
   "cell_type": "code",
   "execution_count": 56,
   "metadata": {},
   "outputs": [],
   "source": [
    "# Perform resampling with replacement on first N_bs samples,\n",
    "#  as this makes it easier to get the test set for avg error.\n",
    "# Now, train 10 models on bootstrapped sets\n",
    "bs_models = []\n",
    "\n",
    "for i in range(bs_datasets):\n",
    "    # Get random dataset with replacement enabled\n",
    "    bs_x_train, bs_y_train = resample(\n",
    "        X_std[:N_bs], \n",
    "        y_std[:N_bs], \n",
    "        replace=True, \n",
    "        n_samples=N_bs, \n",
    "        random_state=i\n",
    "    )\n",
    "    \n",
    "    # Fit model i\n",
    "    bs_models += [LRGD.LRGD()]\n",
    "    bs_models[i].fit(bs_x_train, bs_y_train)"
   ]
  },
  {
   "cell_type": "code",
   "execution_count": 57,
   "metadata": {},
   "outputs": [
    {
     "name": "stdout",
     "output_type": "stream",
     "text": [
      "coeffs: [ 0.35081164 -0.01664531  0.24484274 -0.07544937  0.26997474]\tintercept: [-0.0005115]\n",
      "coeffs: [ 0.33755277 -0.02190526  0.26284554 -0.07579622  0.26524389]\tintercept: [-0.00655616]\n",
      "coeffs: [ 0.34381362 -0.01719712  0.23153698 -0.08152434  0.26690347]\tintercept: [-0.01467005]\n",
      "coeffs: [ 0.35845139 -0.01841202  0.27802304 -0.07307105  0.30888849]\tintercept: [-0.00125605]\n",
      "coeffs: [ 0.34340939 -0.01756535  0.28146852 -0.06644882  0.29878104]\tintercept: [0.00249753]\n",
      "coeffs: [ 0.3495125  -0.0239512   0.25357103 -0.07359645  0.28332525]\tintercept: [-0.00028441]\n",
      "coeffs: [ 0.3464871  -0.0223685   0.27283154 -0.07158594  0.31110836]\tintercept: [0.00426824]\n",
      "coeffs: [ 0.34563172 -0.01846341  0.24347219 -0.06906973  0.26890041]\tintercept: [-0.00658496]\n",
      "coeffs: [ 0.35968896 -0.03550147  0.24365653 -0.06821472  0.2882331 ]\tintercept: [0.00582892]\n",
      "coeffs: [ 0.3535082  -0.0172738   0.25703875 -0.08029073  0.28000182]\tintercept: [-0.00766487]\n"
     ]
    }
   ],
   "source": [
    "# 2. a) Print regression coefficients for each training subset\n",
    "for i in range(bs_datasets):\n",
    "    print('coeffs: {}\\tintercept: {}'.format(bs_models[i].beta, bs_models[i].intercept))"
   ]
  },
  {
   "cell_type": "markdown",
   "metadata": {},
   "source": [
    "#### Response (2.a.)\n",
    "For Task 3, 2.a., most of the coefficients appear to be relatively similar, and they vary (relatively speaking) the most with respect to the second column (`Overall Cond`). Again, like in part 1, the intercepts also vary, relatively speaking."
   ]
  },
  {
   "cell_type": "code",
   "execution_count": 58,
   "metadata": {},
   "outputs": [],
   "source": [
    "# 2. b) Bootstrapping average error\n",
    "bs_errors = []\n",
    "\n",
    "for i in range(bs_datasets):\n",
    "    bs_errors += [bs_models[i].evaluate(X_std[N_bs:], y_std[N_bs:])]\n",
    "\n",
    "bs_err_avg = np.mean(bs_errors)"
   ]
  },
  {
   "cell_type": "code",
   "execution_count": 59,
   "metadata": {},
   "outputs": [
    {
     "name": "stdout",
     "output_type": "stream",
     "text": [
      "Average error (bootstrapping): 0.237280\n"
     ]
    }
   ],
   "source": [
    "print('Average error (bootstrapping): {:.6f}'.format(bs_err_avg))"
   ]
  }
 ],
 "metadata": {
  "interpreter": {
   "hash": "c6e4e9f98eb68ad3b7c296f83d20e6de614cb42e90992a65aa266555a3137d0d"
  },
  "kernelspec": {
   "display_name": "ml",
   "language": "python",
   "name": "ml"
  },
  "language_info": {
   "codemirror_mode": {
    "name": "ipython",
    "version": 3
   },
   "file_extension": ".py",
   "mimetype": "text/x-python",
   "name": "python",
   "nbconvert_exporter": "python",
   "pygments_lexer": "ipython3",
   "version": "3.9.7"
  }
 },
 "nbformat": 4,
 "nbformat_minor": 2
}
