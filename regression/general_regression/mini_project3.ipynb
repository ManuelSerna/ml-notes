{
 "cells": [
  {
   "cell_type": "markdown",
   "metadata": {},
   "source": [
    "# CSCE 5063 Machine Learning Mini Project 3 Submission\n",
    "# Manuel Serna-Aguilera"
   ]
  },
  {
   "cell_type": "markdown",
   "metadata": {},
   "source": [
    "# Mini-project 3 : Piecewise Regression and Resampling Techniques\n",
    "   \n",
    "-Dataset Ames Housing Dataset\n",
    "\n",
    "This mini-project involves:    \n",
    "- Piecewise Linear and Piecewise Polynomial Regression    \n",
    "- Resampling Techniques: k-fold cross validation and bootstrapping\n",
    "\n",
    "Submission: \n",
    "\n",
    "For this project, you will submit your .ipynb file through Blackboard. "
   ]
  },
  {
   "cell_type": "code",
   "execution_count": 1,
   "metadata": {},
   "outputs": [],
   "source": [
    "import matplotlib.pyplot as plt\n",
    "import numpy as np\n",
    "import pandas as pd\n",
    "import scipy\n",
    "import sklearn\n",
    "\n",
    "import LRGD"
   ]
  },
  {
   "cell_type": "markdown",
   "metadata": {},
   "source": [
    "## Task 1: Piecewise Regression\n",
    "\n",
    "For the Housing Dataset from mini-project2 :   \n",
    "\n",
    "a. Randomly split the dataset into 80% training set and 20% validation set. (Feel free to write your own function to split data or use scikit learn functions)  \n",
    "b. Perform:   \n",
    "i)Multiple Linear Regression,  ii)Polynomial Regression of degree 2, iii)Piecewise Linear Regression (Split/cut K = 5, i.e. 6 bins), and iv) Spline with d = 3 and K = 3. \n",
    "          \n",
    "Report:  \n",
    "1. Epochs vs Training Error curve for all 4 models in b.    \n",
    "2. Validation error for all 4 models.  Which one has the best Training and Validation Error?\n",
    "\n",
    "Note :   \n",
    "\n",
    "- Make sure you use all 5 input variables from Housing Data and same training and validation set from a) for all models in b.     \n",
    "- You can still use the LRGD class you created in project 2 or use scikit learn. You just need to create new varaibles using appropriate indicator functions , express it as a additive model and use LRGD or use scikit learn.   \n",
    "- Refer to general regression equation form for each models ii) to iv) on how to create new variables. \n",
    "\n",
    "Food for Thought:   \n",
    "Q. Why we can still use LRGD we created on Task 1 for Polynomial, Piecewise and Splines? If you think, we cannot use the same Gradient Descent from LRGD, why not?\n",
    "\n",
    "    \n",
    "\n"
   ]
  },
  {
   "cell_type": "code",
   "execution_count": 2,
   "metadata": {},
   "outputs": [
    {
     "data": {
      "text/html": [
       "<div>\n",
       "<style scoped>\n",
       "    .dataframe tbody tr th:only-of-type {\n",
       "        vertical-align: middle;\n",
       "    }\n",
       "\n",
       "    .dataframe tbody tr th {\n",
       "        vertical-align: top;\n",
       "    }\n",
       "\n",
       "    .dataframe thead th {\n",
       "        text-align: right;\n",
       "    }\n",
       "</style>\n",
       "<table border=\"1\" class=\"dataframe\">\n",
       "  <thead>\n",
       "    <tr style=\"text-align: right;\">\n",
       "      <th></th>\n",
       "      <th>Overall Qual</th>\n",
       "      <th>Overall Cond</th>\n",
       "      <th>Total Bsmt SF</th>\n",
       "      <th>Central Air</th>\n",
       "      <th>Gr Liv Area</th>\n",
       "      <th>SalePrice</th>\n",
       "    </tr>\n",
       "  </thead>\n",
       "  <tbody>\n",
       "    <tr>\n",
       "      <th>0</th>\n",
       "      <td>6</td>\n",
       "      <td>5</td>\n",
       "      <td>1080.0</td>\n",
       "      <td>Y</td>\n",
       "      <td>1656</td>\n",
       "      <td>215000</td>\n",
       "    </tr>\n",
       "    <tr>\n",
       "      <th>1</th>\n",
       "      <td>5</td>\n",
       "      <td>6</td>\n",
       "      <td>882.0</td>\n",
       "      <td>Y</td>\n",
       "      <td>896</td>\n",
       "      <td>105000</td>\n",
       "    </tr>\n",
       "    <tr>\n",
       "      <th>2</th>\n",
       "      <td>6</td>\n",
       "      <td>6</td>\n",
       "      <td>1329.0</td>\n",
       "      <td>Y</td>\n",
       "      <td>1329</td>\n",
       "      <td>172000</td>\n",
       "    </tr>\n",
       "    <tr>\n",
       "      <th>3</th>\n",
       "      <td>7</td>\n",
       "      <td>5</td>\n",
       "      <td>2110.0</td>\n",
       "      <td>Y</td>\n",
       "      <td>2110</td>\n",
       "      <td>244000</td>\n",
       "    </tr>\n",
       "    <tr>\n",
       "      <th>4</th>\n",
       "      <td>5</td>\n",
       "      <td>5</td>\n",
       "      <td>928.0</td>\n",
       "      <td>Y</td>\n",
       "      <td>1629</td>\n",
       "      <td>189900</td>\n",
       "    </tr>\n",
       "  </tbody>\n",
       "</table>\n",
       "</div>"
      ],
      "text/plain": [
       "   Overall Qual  Overall Cond  Total Bsmt SF Central Air  Gr Liv Area  \\\n",
       "0             6             5         1080.0           Y         1656   \n",
       "1             5             6          882.0           Y          896   \n",
       "2             6             6         1329.0           Y         1329   \n",
       "3             7             5         2110.0           Y         2110   \n",
       "4             5             5          928.0           Y         1629   \n",
       "\n",
       "   SalePrice  \n",
       "0     215000  \n",
       "1     105000  \n",
       "2     172000  \n",
       "3     244000  \n",
       "4     189900  "
      ]
     },
     "execution_count": 2,
     "metadata": {},
     "output_type": "execute_result"
    }
   ],
   "source": [
    "# Import Housing dataset\n",
    "columns = ['Overall Qual', 'Overall Cond', 'Gr Liv Area',\n",
    "           'Central Air', 'Total Bsmt SF', 'SalePrice']\n",
    "\n",
    "df = pd.read_csv(\n",
    "    'http://jse.amstat.org/v19n3/decock/AmesHousing.txt', \n",
    "    sep='\\t', \n",
    "    usecols=columns\n",
    ")\n",
    "df.head() "
   ]
  },
  {
   "cell_type": "code",
   "execution_count": 3,
   "metadata": {},
   "outputs": [
    {
     "data": {
      "text/html": [
       "<div>\n",
       "<style scoped>\n",
       "    .dataframe tbody tr th:only-of-type {\n",
       "        vertical-align: middle;\n",
       "    }\n",
       "\n",
       "    .dataframe tbody tr th {\n",
       "        vertical-align: top;\n",
       "    }\n",
       "\n",
       "    .dataframe thead th {\n",
       "        text-align: right;\n",
       "    }\n",
       "</style>\n",
       "<table border=\"1\" class=\"dataframe\">\n",
       "  <thead>\n",
       "    <tr style=\"text-align: right;\">\n",
       "      <th></th>\n",
       "      <th>Overall Qual</th>\n",
       "      <th>Overall Cond</th>\n",
       "      <th>Total Bsmt SF</th>\n",
       "      <th>Central Air</th>\n",
       "      <th>Gr Liv Area</th>\n",
       "      <th>SalePrice</th>\n",
       "    </tr>\n",
       "  </thead>\n",
       "  <tbody>\n",
       "    <tr>\n",
       "      <th>0</th>\n",
       "      <td>6</td>\n",
       "      <td>5</td>\n",
       "      <td>1080.0</td>\n",
       "      <td>0</td>\n",
       "      <td>1656</td>\n",
       "      <td>215000</td>\n",
       "    </tr>\n",
       "    <tr>\n",
       "      <th>1</th>\n",
       "      <td>5</td>\n",
       "      <td>6</td>\n",
       "      <td>882.0</td>\n",
       "      <td>0</td>\n",
       "      <td>896</td>\n",
       "      <td>105000</td>\n",
       "    </tr>\n",
       "    <tr>\n",
       "      <th>2</th>\n",
       "      <td>6</td>\n",
       "      <td>6</td>\n",
       "      <td>1329.0</td>\n",
       "      <td>0</td>\n",
       "      <td>1329</td>\n",
       "      <td>172000</td>\n",
       "    </tr>\n",
       "    <tr>\n",
       "      <th>3</th>\n",
       "      <td>7</td>\n",
       "      <td>5</td>\n",
       "      <td>2110.0</td>\n",
       "      <td>0</td>\n",
       "      <td>2110</td>\n",
       "      <td>244000</td>\n",
       "    </tr>\n",
       "    <tr>\n",
       "      <th>4</th>\n",
       "      <td>5</td>\n",
       "      <td>5</td>\n",
       "      <td>928.0</td>\n",
       "      <td>0</td>\n",
       "      <td>1629</td>\n",
       "      <td>189900</td>\n",
       "    </tr>\n",
       "  </tbody>\n",
       "</table>\n",
       "</div>"
      ],
      "text/plain": [
       "   Overall Qual  Overall Cond  Total Bsmt SF  Central Air  Gr Liv Area  \\\n",
       "0             6             5         1080.0            0         1656   \n",
       "1             5             6          882.0            0          896   \n",
       "2             6             6         1329.0            0         1329   \n",
       "3             7             5         2110.0            0         2110   \n",
       "4             5             5          928.0            0         1629   \n",
       "\n",
       "   SalePrice  \n",
       "0     215000  \n",
       "1     105000  \n",
       "2     172000  \n",
       "3     244000  \n",
       "4     189900  "
      ]
     },
     "execution_count": 3,
     "metadata": {},
     "output_type": "execute_result"
    }
   ],
   "source": [
    "# Preprocess dataset\n",
    "df = df.dropna(axis=0) # drop rows with incomplete data entries\n",
    "\n",
    "# Convert categorical var CentralAir to dummy values\n",
    "df['Central Air'] = pd.factorize(df['Central Air'])[0]\n",
    "df.head()"
   ]
  },
  {
   "cell_type": "code",
   "execution_count": 4,
   "metadata": {},
   "outputs": [],
   "source": [
    "# Get data from pandas dataframe\n",
    "names = ['Overall Qual', 'Overall Cond', 'Total Bsmt SF', 'Central Air', 'Gr Liv Area']\n",
    "X = df[names].values\n",
    "y = df['SalePrice'].values"
   ]
  },
  {
   "cell_type": "code",
   "execution_count": 5,
   "metadata": {},
   "outputs": [],
   "source": [
    "from sklearn.preprocessing import StandardScaler\n",
    "\n",
    "X_std = StandardScaler().fit_transform(X)\n",
    "y_std = StandardScaler().fit_transform(y[:, np.newaxis]).flatten()"
   ]
  },
  {
   "cell_type": "code",
   "execution_count": 6,
   "metadata": {},
   "outputs": [],
   "source": [
    "# (a) Randomly split dataset\n",
    "from sklearn.model_selection import train_test_split\n",
    "\n",
    "x_train, x_test, y_train, y_test = train_test_split(X_std, y_std, test_size=0.2, random_state=42)"
   ]
  },
  {
   "cell_type": "markdown",
   "metadata": {},
   "source": [
    "### i) Multiple Linear Regression"
   ]
  },
  {
   "cell_type": "code",
   "execution_count": 7,
   "metadata": {},
   "outputs": [
    {
     "data": {
      "text/plain": [
       "<LRGD.LRGD at 0x7fa7629ea460>"
      ]
     },
     "execution_count": 7,
     "metadata": {},
     "output_type": "execute_result"
    }
   ],
   "source": [
    "mlr_model = LRGD.LRGD()\n",
    "mlr_model.fit(x_train, y_train)"
   ]
  },
  {
   "cell_type": "markdown",
   "metadata": {},
   "source": [
    "### ii) Polynomial Regression of degree 2"
   ]
  },
  {
   "cell_type": "code",
   "execution_count": 8,
   "metadata": {},
   "outputs": [],
   "source": [
    "# NOTE: interaction variables tossed out\n",
    "from sklearn.preprocessing import PolynomialFeatures\n",
    "\n",
    "poly_x = PolynomialFeatures(2)\n",
    "x_train_poly = poly_x.fit_transform(x_train)"
   ]
  },
  {
   "cell_type": "code",
   "execution_count": 9,
   "metadata": {},
   "outputs": [
    {
     "data": {
      "text/plain": [
       "(2343, 21)"
      ]
     },
     "execution_count": 9,
     "metadata": {},
     "output_type": "execute_result"
    }
   ],
   "source": [
    "x_train_poly.shape # 1+5+5+2*5"
   ]
  },
  {
   "cell_type": "code",
   "execution_count": 10,
   "metadata": {},
   "outputs": [
    {
     "data": {
      "text/plain": [
       "<LRGD.LRGD at 0x7fa7629ea970>"
      ]
     },
     "execution_count": 10,
     "metadata": {},
     "output_type": "execute_result"
    }
   ],
   "source": [
    "poly_model = LRGD.LRGD()\n",
    "poly_model.fit(x_train_poly, y_train)"
   ]
  },
  {
   "cell_type": "markdown",
   "metadata": {},
   "source": [
    "### iii) Piecewise Linear Regression (split/cut K = 5, i.e. 6 bins)"
   ]
  },
  {
   "cell_type": "code",
   "execution_count": 11,
   "metadata": {},
   "outputs": [],
   "source": [
    "K_piecewise = 5 # num cuts for piecewise"
   ]
  },
  {
   "cell_type": "code",
   "execution_count": 12,
   "metadata": {},
   "outputs": [
    {
     "name": "stdout",
     "output_type": "stream",
     "text": [
      "Variable \"Total Bsmt SF\" vs. Sales Price\n",
      "4.890330539374585\n",
      "-2.38710427022307\n"
     ]
    },
    {
     "data": {
      "text/plain": [
       "<matplotlib.collections.PathCollection at 0x7fa75a9542e0>"
      ]
     },
     "execution_count": 12,
     "metadata": {},
     "output_type": "execute_result"
    },
    {
     "data": {
      "image/png": "[encoded data removed]",
      "text/plain": [
       "<Figure size 432x288 with 1 Axes>"
      ]
     },
     "metadata": {
      "needs_background": "light"
     },
     "output_type": "display_data"
    }
   ],
   "source": [
    "# Get an idea as to which points to cut with respect to \n",
    "#  the 'Total Bsmt ST' variable\n",
    "i = 2\n",
    "print('Variable \"{}\" vs. Sales Price'.format(names[i]))\n",
    "print(np.max(x_train[:, i]))\n",
    "print(np.min(x_train[:, i]))\n",
    "\n",
    "plt.scatter(x_train[:, i], y_train, marker='.')"
   ]
  },
  {
   "cell_type": "code",
   "execution_count": 13,
   "metadata": {},
   "outputs": [],
   "source": [
    "# First, sort data with respect to one predictor, and then make bins\n",
    "#  at pre-determined intervals\n",
    "var_id = 2 # predictor we want to make cuts with respect to \n",
    "cuts = [-1.5, -1.0, 0.0, 0.5, 1.5, 2.5]"
   ]
  },
  {
   "cell_type": "code",
   "execution_count": 14,
   "metadata": {},
   "outputs": [],
   "source": [
    "# Get indicies (ids) if input samples that match given conditions\n",
    "bin1_ids = np.where(x_train[:, var_id] < cuts[0])\n",
    "bin2_ids = np.where((cuts[0] <= x_train[:, var_id]) & (x_train[:, var_id] < cuts[1]))\n",
    "bin3_ids = np.where((cuts[1] <= x_train[:, var_id]) & (x_train[:, var_id] < cuts[2]))\n",
    "bin4_ids = np.where((cuts[2] <= x_train[:, var_id]) & (x_train[:, var_id] < cuts[3]))\n",
    "bin5_ids = np.where((cuts[3] <= x_train[:, var_id]) & (x_train[:, var_id] < cuts[4]))\n",
    "bin6_ids = np.where(x_train[:, var_id] >= cuts[4])"
   ]
  },
  {
   "cell_type": "code",
   "execution_count": 15,
   "metadata": {},
   "outputs": [],
   "source": [
    "# Get each of our training and true values\n",
    "x1 = x_train[bin1_ids]\n",
    "y1 = y_train[bin1_ids]\n",
    "\n",
    "x2 = x_train[bin2_ids]\n",
    "y2 = y_train[bin2_ids]\n",
    "\n",
    "x3 = x_train[bin3_ids]\n",
    "y3 = y_train[bin3_ids]\n",
    "\n",
    "x4 = x_train[bin4_ids]\n",
    "y4 = y_train[bin4_ids]\n",
    "\n",
    "x5 = x_train[bin5_ids]\n",
    "y5 = y_train[bin5_ids]\n",
    "\n",
    "x6 = x_train[bin6_ids]\n",
    "y6 = y_train[bin6_ids]"
   ]
  },
  {
   "cell_type": "code",
   "execution_count": 16,
   "metadata": {},
   "outputs": [],
   "source": [
    "# Put them in list (I would automate this...but I'm lazy)\n",
    "bins_train_x = [x1, x2, x3, x4, x5, x6]\n",
    "bins_train_y = [y1, y2, y3, y4, y5, y6]"
   ]
  },
  {
   "cell_type": "code",
   "execution_count": 17,
   "metadata": {},
   "outputs": [
    {
     "name": "stdout",
     "output_type": "stream",
     "text": [
      "min: 0.0008749623710448751\n",
      "max: 0.49799231212210116\n"
     ]
    },
    {
     "data": {
      "text/plain": [
       "<matplotlib.collections.PathCollection at 0x7fa75a85e8b0>"
      ]
     },
     "execution_count": 17,
     "metadata": {},
     "output_type": "execute_result"
    },
    {
     "data": {
      "image/png": "[encoded data removed]",
      "text/plain": [
       "<Figure size 432x288 with 1 Axes>"
      ]
     },
     "metadata": {
      "needs_background": "light"
     },
     "output_type": "display_data"
    }
   ],
   "source": [
    "# Showcase a single bin\n",
    "bin_idx = 3\n",
    "\n",
    "print('min: {}'.format(np.min(bins_train_x[bin_idx][:,var_id])))\n",
    "print('max: {}'.format(np.max(bins_train_x[bin_idx][:,var_id])))\n",
    "\n",
    "plt.scatter(\n",
    "    bins_train_x[bin_idx][:, var_id], \n",
    "    bins_train_y[bin_idx], \n",
    "    marker='.'\n",
    ")"
   ]
  },
  {
   "cell_type": "code",
   "execution_count": 18,
   "metadata": {},
   "outputs": [],
   "source": [
    "# Now, perform linear regression on each training bin\n",
    "bin_models = []\n",
    "\n",
    "for i in range(K_piecewise+1):\n",
    "    bin_models += [LRGD.LRGD()]\n",
    "    bin_models[i].fit(\n",
    "        bins_train_x[i], \n",
    "        bins_train_y[i]\n",
    "    )"
   ]
  },
  {
   "cell_type": "code",
   "execution_count": 19,
   "metadata": {},
   "outputs": [
    {
     "name": "stdout",
     "output_type": "stream",
     "text": [
      "[ 0.1999856   0.00383286  0.16627156 -0.08675738  0.18853779]\n",
      "[ 0.19915071  0.0057654   0.24001414 -0.08378994  0.21933513]\n",
      "[ 0.22896803 -0.00139493  0.09316497 -0.09021234  0.22617917]\n",
      "[ 0.28373588  0.01280247  0.01460032 -0.03983933  0.32763999]\n",
      "[ 0.39465765  0.00560565  0.17955411 -0.03928118  0.29435645]\n",
      "[ 0.65586647 -0.02280351  0.23408994 -0.09491561  0.33074807]\n"
     ]
    }
   ],
   "source": [
    "for i in range(K_piecewise+1):\n",
    "    print(bin_models[i].beta)"
   ]
  },
  {
   "cell_type": "markdown",
   "metadata": {},
   "source": [
    "### iv) Spline with d = 3 and K = 3\n",
    "Create new 'predictors' for intercept, power-1, power-2, power-3, and the K=3 truncated terms for each of the p=5 predictors 1+p(K+d) = 1+5(3+3) = 31 \"predictors\". We have the power-1 terms and intercept accounted for. We will add the power-2 terms, the power-3 terms and then the truncated terms in the same order as the variables appear in the `names` list.\n",
    "\n",
    "Recall,\n",
    "\n",
    "`names = ['Overall Qual', 'Overall Cond', 'Total Bsmt SF', 'Central Air', 'Gr Liv Area']`"
   ]
  },
  {
   "cell_type": "code",
   "execution_count": 20,
   "metadata": {},
   "outputs": [
    {
     "name": "stdout",
     "output_type": "stream",
     "text": [
      "(2343, 5)\n",
      "(2343, 10)\n"
     ]
    }
   ],
   "source": [
    "# Add power-2 terms\n",
    "print(x_train.shape)\n",
    "spline_x_train = np.hstack((x_train, x_train**2))\n",
    "print(spline_x_train.shape)"
   ]
  },
  {
   "cell_type": "code",
   "execution_count": 21,
   "metadata": {},
   "outputs": [
    {
     "name": "stdout",
     "output_type": "stream",
     "text": [
      "(2343, 15)\n"
     ]
    }
   ],
   "source": [
    "# Add power-3 terms\n",
    "spline_x_train = np.hstack((spline_x_train, x_train**3))\n",
    "print(spline_x_train.shape)"
   ]
  },
  {
   "cell_type": "code",
   "execution_count": 22,
   "metadata": {},
   "outputs": [],
   "source": [
    "# Add truncated terms\n",
    "\n",
    "# Define 3 cut points for each var (looked at each predictor vs sales price to determine)\n",
    "cuts = np.array([\n",
    "    [-2.0, 0.0, 2.0], # overall qual\n",
    "    [-2.0, 0.0, 2.0], # overall cond\n",
    "    [-1.0, 0.5, 1.5], # total bsmt sf\n",
    "    [-1.0, 0.0, 3.0], # central air\n",
    "    [-1.0, 0.0, 1.0] # gr liv area\n",
    "])\n",
    "\n",
    "'''predictor_index=2\n",
    "cut_index=0\n",
    "temp = x_train[:,predictor_index]\n",
    "print('before {}'.format(temp))\n",
    "temp = np.where(\n",
    "    temp < cuts[predictor_index][cut_index], \n",
    "    temp*0, \n",
    "    (temp - cuts[predictor_index][cut_index])**3\n",
    ")\n",
    "#temp - cuts[predictor_index][cut_index]\n",
    "print('after {}'.format(temp))\n",
    "'''\n",
    "\n",
    "debug = False\n",
    "\n",
    "# Iteratively horizontally stack to spline training data\n",
    "for predictor_index in range(x_train.shape[1]):\n",
    "    for cut_index in range(cuts.shape[1]):\n",
    "        temp = x_train[:,predictor_index]\n",
    "        temp = temp.reshape(temp.shape[0], 1)\n",
    "        cut = cuts[predictor_index][cut_index]\n",
    "        \n",
    "        if debug:\n",
    "            print(temp.shape)\n",
    "        \n",
    "        temp = np.where(\n",
    "            temp <= cut, # element-wise\n",
    "            temp*0, # when condition is true\n",
    "            (temp-cut)**3 # again, element-wise\n",
    "        )\n",
    "        \n",
    "        spline_x_train = np.hstack((spline_x_train, temp))\n",
    "        \n",
    "        if debug:\n",
    "            print(spline_x_train.shape)"
   ]
  },
  {
   "cell_type": "code",
   "execution_count": 23,
   "metadata": {},
   "outputs": [
    {
     "data": {
      "text/plain": [
       "<LRGD.LRGD at 0x7fa75a827160>"
      ]
     },
     "execution_count": 23,
     "metadata": {},
     "output_type": "execute_result"
    }
   ],
   "source": [
    "# Finally, perform linear regression on dataset with new terms\n",
    "spline_model = LRGD.LRGD()\n",
    "spline_model.fit(spline_x_train, y_train)"
   ]
  },
  {
   "cell_type": "markdown",
   "metadata": {},
   "source": [
    "### (b) i) Epochs vs. Training Error"
   ]
  },
  {
   "cell_type": "code",
   "execution_count": 24,
   "metadata": {},
   "outputs": [],
   "source": [
    "def plot_error_v_epochs(model=None, name=''):\n",
    "    print('{} coefficient beta = '.format(name), model.beta)\n",
    "    print('{} intercept = '.format(name), model.intercept)\n",
    "    plt.plot(range(1, model.n_iter+1), model.losses)\n",
    "    plt.ylabel('MSE')\n",
    "    plt.xlabel('Epoch')\n",
    "    plt.tight_layout()\n",
    "    plt.title('{}: Training Error vs Epochs'.format(name))\n",
    "    plt.show()"
   ]
  },
  {
   "cell_type": "code",
   "execution_count": 25,
   "metadata": {},
   "outputs": [
    {
     "name": "stdout",
     "output_type": "stream",
     "text": [
      "MLR coefficient beta =  [ 0.3523111  -0.01651009  0.24931836 -0.0784311   0.30242834]\n",
      "MLR intercept =  [0.00054275]\n"
     ]
    },
    {
     "data": {
      "image/png": "[encoded data removed]",
      "text/plain": [
       "<Figure size 432x288 with 1 Axes>"
      ]
     },
     "metadata": {
      "needs_background": "light"
     },
     "output_type": "display_data"
    }
   ],
   "source": [
    "# i) multiple linear regression (MLR)\n",
    "plot_error_v_epochs(mlr_model, 'MLR')"
   ]
  },
  {
   "cell_type": "code",
   "execution_count": 26,
   "metadata": {},
   "outputs": [
    {
     "name": "stdout",
     "output_type": "stream",
     "text": [
      "Polynomial coefficient beta =  [-4.13044374e-02  2.97979778e-01 -2.21030436e-04  2.07881866e-01\n",
      "  1.52747864e-03  2.51475715e-01  7.88597462e-02 -3.90361659e-02\n",
      "  6.40047260e-02 -5.67188900e-03  4.95372016e-02 -3.62227789e-02\n",
      " -1.85762141e-02  1.58698886e-02  1.34916037e-02  9.63174205e-03\n",
      " -6.14503093e-03 -1.32165643e-02 -4.19404623e-02 -1.69639772e-02\n",
      "  3.39960311e-02]\n",
      "Polynomial intercept =  [-0.04627158]\n"
     ]
    },
    {
     "data": {
      "image/png": "[encoded data removed]",
      "text/plain": [
       "<Figure size 432x288 with 1 Axes>"
      ]
     },
     "metadata": {
      "needs_background": "light"
     },
     "output_type": "display_data"
    }
   ],
   "source": [
    "# ii) polynomial linear regression\n",
    "plot_error_v_epochs(poly_model, 'Polynomial')"
   ]
  },
  {
   "cell_type": "code",
   "execution_count": 27,
   "metadata": {},
   "outputs": [
    {
     "name": "stdout",
     "output_type": "stream",
     "text": [
      "Bin 1 coefficient beta =  [ 0.1999856   0.00383286  0.16627156 -0.08675738  0.18853779]\n",
      "Bin 1 intercept =  [-0.06521573]\n"
     ]
    },
    {
     "data": {
      "image/png": "[encoded data removed]",
      "text/plain": [
       "<Figure size 432x288 with 1 Axes>"
      ]
     },
     "metadata": {
      "needs_background": "light"
     },
     "output_type": "display_data"
    }
   ],
   "source": [
    "# iii) piecewise linear regression\n",
    "# Below are the six bins' training error for each epoch (the default parameter)\n",
    "i = 0\n",
    "plot_error_v_epochs(bin_models[i], 'Bin {}'.format(i+1))"
   ]
  },
  {
   "cell_type": "code",
   "execution_count": 28,
   "metadata": {},
   "outputs": [
    {
     "name": "stdout",
     "output_type": "stream",
     "text": [
      "Bin 2 coefficient beta =  [ 0.19915071  0.0057654   0.24001414 -0.08378994  0.21933513]\n",
      "Bin 2 intercept =  [-0.19546017]\n"
     ]
    },
    {
     "data": {
      "image/png": "[encoded data removed]",
      "text/plain": [
       "<Figure size 432x288 with 1 Axes>"
      ]
     },
     "metadata": {
      "needs_background": "light"
     },
     "output_type": "display_data"
    }
   ],
   "source": [
    "i += 1\n",
    "plot_error_v_epochs(bin_models[i], 'Bin {}'.format(i+1))"
   ]
  },
  {
   "cell_type": "code",
   "execution_count": 29,
   "metadata": {},
   "outputs": [
    {
     "name": "stdout",
     "output_type": "stream",
     "text": [
      "Bin 3 coefficient beta =  [ 0.22896803 -0.00139493  0.09316497 -0.09021234  0.22617917]\n",
      "Bin 3 intercept =  [-0.15918943]\n"
     ]
    },
    {
     "data": {
      "image/png": "[encoded data removed]",
      "text/plain": [
       "<Figure size 432x288 with 1 Axes>"
      ]
     },
     "metadata": {
      "needs_background": "light"
     },
     "output_type": "display_data"
    }
   ],
   "source": [
    "i += 1\n",
    "plot_error_v_epochs(bin_models[i], 'Bin {}'.format(i+1))"
   ]
  },
  {
   "cell_type": "code",
   "execution_count": 30,
   "metadata": {},
   "outputs": [
    {
     "name": "stdout",
     "output_type": "stream",
     "text": [
      "Bin 4 coefficient beta =  [ 0.28373588  0.01280247  0.01460032 -0.03983933  0.32763999]\n",
      "Bin 4 intercept =  [0.00642071]\n"
     ]
    },
    {
     "data": {
      "image/png": "[encoded data removed]",
      "text/plain": [
       "<Figure size 432x288 with 1 Axes>"
      ]
     },
     "metadata": {
      "needs_background": "light"
     },
     "output_type": "display_data"
    }
   ],
   "source": [
    "i += 1\n",
    "plot_error_v_epochs(bin_models[i], 'Bin {}'.format(i+1))"
   ]
  },
  {
   "cell_type": "code",
   "execution_count": 31,
   "metadata": {},
   "outputs": [
    {
     "name": "stdout",
     "output_type": "stream",
     "text": [
      "Bin 5 coefficient beta =  [ 0.39465765  0.00560565  0.17955411 -0.03928118  0.29435645]\n",
      "Bin 5 intercept =  [0.13701147]\n"
     ]
    },
    {
     "data": {
      "image/png": "[encoded data removed]",
      "text/plain": [
       "<Figure size 432x288 with 1 Axes>"
      ]
     },
     "metadata": {
      "needs_background": "light"
     },
     "output_type": "display_data"
    }
   ],
   "source": [
    "i += 1\n",
    "plot_error_v_epochs(bin_models[i], 'Bin {}'.format(i+1))"
   ]
  },
  {
   "cell_type": "code",
   "execution_count": 32,
   "metadata": {},
   "outputs": [
    {
     "name": "stdout",
     "output_type": "stream",
     "text": [
      "Bin 6 coefficient beta =  [ 0.65586647 -0.02280351  0.23408994 -0.09491561  0.33074807]\n",
      "Bin 6 intercept =  [0.10882793]\n"
     ]
    },
    {
     "data": {
      "image/png": "[encoded data removed]",
      "text/plain": [
       "<Figure size 432x288 with 1 Axes>"
      ]
     },
     "metadata": {
      "needs_background": "light"
     },
     "output_type": "display_data"
    }
   ],
   "source": [
    "i += 1\n",
    "plot_error_v_epochs(bin_models[i], 'Bin {}'.format(i+1))"
   ]
  },
  {
   "cell_type": "code",
   "execution_count": 33,
   "metadata": {},
   "outputs": [
    {
     "name": "stdout",
     "output_type": "stream",
     "text": [
      "Spline coefficient beta =  [ 7.21248545e+63 -4.67969328e+63  7.05734253e+63 -3.97056753e+64\n",
      "  3.40278809e+62 -3.62769195e+64 -4.69020163e+64 -3.10021306e+64\n",
      " -1.60518167e+65 -3.54608540e+64  2.23399931e+64 -2.49379075e+64\n",
      "  5.31607863e+63 -5.96118084e+65 -5.22091235e+64 -2.92801619e+65\n",
      " -2.40009097e+64 -2.11875177e+62 -5.47938256e+65 -6.73507040e+64\n",
      " -1.56910773e+63 -9.46170395e+64 -1.60101561e+64 -4.60405221e+63\n",
      " -1.21967394e+66 -5.96337629e+65 -4.53180901e+63 -1.81190727e+65\n",
      " -6.91205899e+64 -2.60685190e+64]\n",
      "Spline intercept =  [-2.28843345e+64]\n"
     ]
    },
    {
     "data": {
      "image/png": "[encoded data removed]",
      "text/plain": [
       "<Figure size 432x288 with 1 Axes>"
      ]
     },
     "metadata": {
      "needs_background": "light"
     },
     "output_type": "display_data"
    }
   ],
   "source": [
    "# iv) Spline regression\n",
    "plot_error_v_epochs(spline_model, 'Spline')"
   ]
  },
  {
   "cell_type": "markdown",
   "metadata": {},
   "source": [
    "### (b) ii) Report Training and Validation Error"
   ]
  },
  {
   "cell_type": "code",
   "execution_count": 34,
   "metadata": {},
   "outputs": [
    {
     "name": "stdout",
     "output_type": "stream",
     "text": [
      "(Avg) Training Error: 0.391344\n",
      "Validation Error:     0.391640\n"
     ]
    }
   ],
   "source": [
    "# i) Error for MLR\n",
    "mlr_model.print_errors(x_test, y_test)"
   ]
  },
  {
   "cell_type": "code",
   "execution_count": 35,
   "metadata": {},
   "outputs": [
    {
     "name": "stdout",
     "output_type": "stream",
     "text": [
      "(Avg) Training Error: 0.317709\n",
      "Validation Error:     0.562595\n"
     ]
    }
   ],
   "source": [
    "# ii) Error from Polynomial reg.\n",
    "x_test_poly = poly_x.fit_transform(x_test)\n",
    "poly_model.print_errors(x_test_poly, y_test)"
   ]
  },
  {
   "cell_type": "code",
   "execution_count": 36,
   "metadata": {},
   "outputs": [],
   "source": [
    "# iii) Piecewise reg.\n",
    "cuts = [-1.5, -1.0, 0.0, 0.5, 1.5, 2.5] # redefine as we overwrote it\n",
    "\n",
    "# First, create test set organized into bins\n",
    "bin1_ids = np.where(x_test[:, var_id] < cuts[0])\n",
    "bin2_ids = np.where((cuts[0] <= x_test[:, var_id]) & (x_test[:, var_id] < cuts[1]))\n",
    "bin3_ids = np.where((cuts[1] <= x_test[:, var_id]) & (x_test[:, var_id] < cuts[2]))\n",
    "bin4_ids = np.where((cuts[2] <= x_test[:, var_id]) & (x_test[:, var_id] < cuts[3]))\n",
    "bin5_ids = np.where((cuts[3] <= x_test[:, var_id]) & (x_test[:, var_id] < cuts[4]))\n",
    "bin6_ids = np.where(x_test[:, var_id] >= cuts[4])\n",
    "\n",
    "bins_test_x = [\n",
    "    x_train[bin1_ids],\n",
    "    x_train[bin2_ids],\n",
    "    x_train[bin3_ids],\n",
    "    x_train[bin4_ids],\n",
    "    x_train[bin5_ids],\n",
    "    x_train[bin6_ids]\n",
    "]\n",
    "\n",
    "bins_test_y = [\n",
    "    y_train[bin1_ids], \n",
    "    y_train[bin2_ids], \n",
    "    y_train[bin3_ids], \n",
    "    y_train[bin4_ids], \n",
    "    y_train[bin5_ids], \n",
    "    y_train[bin6_ids]\n",
    "]"
   ]
  },
  {
   "cell_type": "code",
   "execution_count": 37,
   "metadata": {},
   "outputs": [
    {
     "name": "stdout",
     "output_type": "stream",
     "text": [
      "Bin 1\n",
      "(Avg) Training Error: 0.150776\n",
      "Validation Error:     0.790610\n",
      "Bin 2\n",
      "(Avg) Training Error: 0.192880\n",
      "Validation Error:     0.364857\n",
      "Bin 3\n",
      "(Avg) Training Error: 0.209313\n",
      "Validation Error:     0.320545\n",
      "Bin 4\n",
      "(Avg) Training Error: 0.267424\n",
      "Validation Error:     0.327788\n",
      "Bin 5\n",
      "(Avg) Training Error: 0.439544\n",
      "Validation Error:     0.152905\n"
     ]
    }
   ],
   "source": [
    "# Finally, print errors for all six bins\n",
    "for i in range(K_piecewise):\n",
    "    print('Bin {}'.format(i+1))\n",
    "    bin_models[i].print_errors(bins_test_x[i], bins_test_y[i])"
   ]
  },
  {
   "cell_type": "code",
   "execution_count": 38,
   "metadata": {},
   "outputs": [],
   "source": [
    "# iv) Cubic spline reg\n",
    "spline_x_test = np.hstack((x_test, x_test**2))\n",
    "spline_x_test = np.hstack((spline_x_test, x_test**2))\n",
    "\n",
    "# Re-define our knots...\n",
    "cuts = np.array([\n",
    "    [-2.0, 0.0, 2.0], # overall qual\n",
    "    [-2.0, 0.0, 2.0], # overall cond\n",
    "    [-1.0, 0.5, 1.5], # total bsmt sf\n",
    "    [-1.0, 0.0, 3.0], # central air\n",
    "    [-1.0, 0.0, 1.0] # gr liv area\n",
    "])\n",
    "\n",
    "# Iteratively horizontally stack to spline testing data\n",
    "for predictor_index in range(x_train.shape[1]):\n",
    "    for cut_index in range(cuts.shape[1]):\n",
    "        temp = x_test[:,predictor_index]\n",
    "        temp = temp.reshape(temp.shape[0], 1)\n",
    "        cut = cuts[predictor_index][cut_index]\n",
    "        \n",
    "        temp = np.where(\n",
    "            temp <= cut, # element-wise\n",
    "            temp*0, # when condition is true\n",
    "            (temp-cut)**3 # again, element-wise\n",
    "        )\n",
    "        \n",
    "        spline_x_test = np.hstack((spline_x_test, temp))"
   ]
  },
  {
   "cell_type": "code",
   "execution_count": 39,
   "metadata": {},
   "outputs": [
    {
     "name": "stdout",
     "output_type": "stream",
     "text": [
      "(Avg) Training Error: 121218575341917518831988863101796379491750540387593850890435158972821709400985979379866176094978318127068770341796382649993769517056.000000\n",
      "Validation Error:     2818696377164105293679684589945259863225236050590042804338420971210959653129155792303007745645284990055444832972506915796094008380358656.000000\n"
     ]
    }
   ],
   "source": [
    "# Comment...it seems my cubic spline model is not very good for this task...\n",
    "spline_model.print_errors(spline_x_test, y_test)"
   ]
  },
  {
   "cell_type": "markdown",
   "metadata": {},
   "source": [
    "### Task 2: Ridge Regression and LASSO\n",
    "\n",
    "1. For Housing Data, perform Ridge Regression and LASSO for the training data set from Task 1 for different values of lambda.   \n",
    "    \n",
    "    Report:    \n",
    "    1. Values of lambda vs training error curve. \n",
    "    2. Values of lambda vs validation error. \n",
    "    3. Compare Validation Error from MLR in Task 1 to Validation Error from Ridge and LASSO. \n",
    "\n",
    "    Do not forget to standarize all inputs. For Ridge and Lasso, we have not implemented our own solver. Please use scikit learn library. \n",
    "    "
   ]
  },
  {
   "cell_type": "markdown",
   "metadata": {},
   "source": [
    "***Recall*** that the entire dataset has been standardized back in task 1, thus `x_train`, `y_train`, `x_test`, and `y_test` are already standardized."
   ]
  },
  {
   "cell_type": "code",
   "execution_count": 40,
   "metadata": {},
   "outputs": [],
   "source": [
    "N = 250 # num of lambdas to fit with\n",
    "lambdas = np.linspace(start=1.0, stop=N*10, num=N)"
   ]
  },
  {
   "cell_type": "code",
   "execution_count": 41,
   "metadata": {},
   "outputs": [],
   "source": [
    "def plot_error_v_lambda(models=None, lambdas=None, X=None, y=None, label=''):\n",
    "    ''' Plot dataset error (train, validation/test) for each model\n",
    "    vs values of lambda for RR or LASSO\n",
    "    '''\n",
    "    N = lambdas.shape[0]\n",
    "    errors = np.zeros(lambdas.shape) # errors corresponding to a particular lambda\n",
    "    \n",
    "    # Compute errors\n",
    "    for i in range(N):\n",
    "        pred = models[i].predict(X)\n",
    "        errors[i] = ((y - pred)**2).mean() # take average over all samples\n",
    "    \n",
    "    # Now, plot lambdas vs errors\n",
    "    plt.plot(lambdas, errors)\n",
    "    plt.ylabel('Error')\n",
    "    plt.xlabel('Lambda')\n",
    "    plt.tight_layout()\n",
    "    plt.title(label)\n",
    "    plt.show()"
   ]
  },
  {
   "cell_type": "code",
   "execution_count": 42,
   "metadata": {},
   "outputs": [],
   "source": [
    "# Perform ridge reg. (i.e., add L2 term with weight lambda)\n",
    "#  for different lambdas\n",
    "from sklearn.linear_model import Ridge\n",
    "\n",
    "rr_models = []\n",
    "\n",
    "for i in range(N):\n",
    "    rr_models += [Ridge(alpha=lambdas[i])]\n",
    "    rr_models[i].fit(x_train, y_train)"
   ]
  },
  {
   "cell_type": "code",
   "execution_count": 43,
   "metadata": {},
   "outputs": [
    {
     "data": {
      "image/png": "[encoded data removed]",
      "text/plain": [
       "<Figure size 432x288 with 1 Axes>"
      ]
     },
     "metadata": {
      "needs_background": "light"
     },
     "output_type": "display_data"
    }
   ],
   "source": [
    "# Get training error for ridge regression\n",
    "plot_error_v_lambda(\n",
    "    models=rr_models, \n",
    "    lambdas=lambdas, \n",
    "    X=x_train, \n",
    "    y=y_train, \n",
    "    label='Lambdas vs Training Error\\nRidge Regression'\n",
    ")"
   ]
  },
  {
   "cell_type": "code",
   "execution_count": 44,
   "metadata": {},
   "outputs": [
    {
     "data": {
      "image/png": "[encoded data removed]",
      "text/plain": [
       "<Figure size 432x288 with 1 Axes>"
      ]
     },
     "metadata": {
      "needs_background": "light"
     },
     "output_type": "display_data"
    }
   ],
   "source": [
    "# Get validation error for ridge regression\n",
    "plot_error_v_lambda(\n",
    "    models=rr_models, \n",
    "    lambdas=lambdas, \n",
    "    X=x_test, \n",
    "    y=y_test, \n",
    "    label='Lambdas vs Validation Error\\nRidge Regression'\n",
    ")"
   ]
  },
  {
   "cell_type": "code",
   "execution_count": 45,
   "metadata": {},
   "outputs": [],
   "source": [
    "# Use LASSO (i.e., add L1 term with weight lambda)\n",
    "#  for different lambdas\n",
    "from sklearn.linear_model import Lasso\n",
    "\n",
    "ls_models = []\n",
    "\n",
    "for i in range(N):\n",
    "    ls_models += [Lasso(alpha=lambdas[i])]\n",
    "    ls_models[i].fit(x_train, y_train)"
   ]
  },
  {
   "cell_type": "code",
   "execution_count": 46,
   "metadata": {},
   "outputs": [
    {
     "data": {
      "text/plain": [
       "[Lasso(),\n",
       " Lasso(alpha=11.036144578313253),\n",
       " Lasso(alpha=21.072289156626507),\n",
       " Lasso(alpha=31.10843373493976),\n",
       " Lasso(alpha=41.144578313253014),\n",
       " Lasso(alpha=51.18072289156627),\n",
       " Lasso(alpha=61.21686746987952),\n",
       " Lasso(alpha=71.25301204819277),\n",
       " Lasso(alpha=81.28915662650603),\n",
       " Lasso(alpha=91.32530120481928),\n",
       " Lasso(alpha=101.36144578313254),\n",
       " Lasso(alpha=111.3975903614458),\n",
       " Lasso(alpha=121.43373493975903),\n",
       " Lasso(alpha=131.4698795180723),\n",
       " Lasso(alpha=141.50602409638554),\n",
       " Lasso(alpha=151.54216867469881),\n",
       " Lasso(alpha=161.57831325301206),\n",
       " Lasso(alpha=171.6144578313253),\n",
       " Lasso(alpha=181.65060240963857),\n",
       " Lasso(alpha=191.6867469879518),\n",
       " Lasso(alpha=201.72289156626508),\n",
       " Lasso(alpha=211.75903614457832),\n",
       " Lasso(alpha=221.7951807228916),\n",
       " Lasso(alpha=231.83132530120483),\n",
       " Lasso(alpha=241.86746987951807),\n",
       " Lasso(alpha=251.90361445783134),\n",
       " Lasso(alpha=261.9397590361446),\n",
       " Lasso(alpha=271.9759036144578),\n",
       " Lasso(alpha=282.0120481927711),\n",
       " Lasso(alpha=292.04819277108436),\n",
       " Lasso(alpha=302.08433734939763),\n",
       " Lasso(alpha=312.12048192771084),\n",
       " Lasso(alpha=322.1566265060241),\n",
       " Lasso(alpha=332.1927710843374),\n",
       " Lasso(alpha=342.2289156626506),\n",
       " Lasso(alpha=352.26506024096386),\n",
       " Lasso(alpha=362.30120481927713),\n",
       " Lasso(alpha=372.3373493975904),\n",
       " Lasso(alpha=382.3734939759036),\n",
       " Lasso(alpha=392.4096385542169),\n",
       " Lasso(alpha=402.44578313253015),\n",
       " Lasso(alpha=412.48192771084337),\n",
       " Lasso(alpha=422.51807228915663),\n",
       " Lasso(alpha=432.5542168674699),\n",
       " Lasso(alpha=442.5903614457832),\n",
       " Lasso(alpha=452.6265060240964),\n",
       " Lasso(alpha=462.66265060240966),\n",
       " Lasso(alpha=472.6987951807229),\n",
       " Lasso(alpha=482.73493975903614),\n",
       " Lasso(alpha=492.7710843373494),\n",
       " Lasso(alpha=502.8072289156627),\n",
       " Lasso(alpha=512.843373493976),\n",
       " Lasso(alpha=522.8795180722892),\n",
       " Lasso(alpha=532.9156626506025),\n",
       " Lasso(alpha=542.9518072289156),\n",
       " Lasso(alpha=552.9879518072289),\n",
       " Lasso(alpha=563.0240963855422),\n",
       " Lasso(alpha=573.0602409638554),\n",
       " Lasso(alpha=583.0963855421687),\n",
       " Lasso(alpha=593.132530120482),\n",
       " Lasso(alpha=603.1686746987953),\n",
       " Lasso(alpha=613.2048192771084),\n",
       " Lasso(alpha=623.2409638554217),\n",
       " Lasso(alpha=633.277108433735),\n",
       " Lasso(alpha=643.3132530120482),\n",
       " Lasso(alpha=653.3493975903615),\n",
       " Lasso(alpha=663.3855421686748),\n",
       " Lasso(alpha=673.421686746988),\n",
       " Lasso(alpha=683.4578313253012),\n",
       " Lasso(alpha=693.4939759036145),\n",
       " Lasso(alpha=703.5301204819277),\n",
       " Lasso(alpha=713.566265060241),\n",
       " Lasso(alpha=723.6024096385543),\n",
       " Lasso(alpha=733.6385542168675),\n",
       " Lasso(alpha=743.6746987951808),\n",
       " Lasso(alpha=753.710843373494),\n",
       " Lasso(alpha=763.7469879518072),\n",
       " Lasso(alpha=773.7831325301205),\n",
       " Lasso(alpha=783.8192771084338),\n",
       " Lasso(alpha=793.855421686747),\n",
       " Lasso(alpha=803.8915662650603),\n",
       " Lasso(alpha=813.9277108433736),\n",
       " Lasso(alpha=823.9638554216867),\n",
       " Lasso(alpha=834.0),\n",
       " Lasso(alpha=844.0361445783133),\n",
       " Lasso(alpha=854.0722891566265),\n",
       " Lasso(alpha=864.1084337349398),\n",
       " Lasso(alpha=874.1445783132531),\n",
       " Lasso(alpha=884.1807228915663),\n",
       " Lasso(alpha=894.2168674698795),\n",
       " Lasso(alpha=904.2530120481928),\n",
       " Lasso(alpha=914.289156626506),\n",
       " Lasso(alpha=924.3253012048193),\n",
       " Lasso(alpha=934.3614457831326),\n",
       " Lasso(alpha=944.3975903614459),\n",
       " Lasso(alpha=954.4337349397591),\n",
       " Lasso(alpha=964.4698795180723),\n",
       " Lasso(alpha=974.5060240963855),\n",
       " Lasso(alpha=984.5421686746988),\n",
       " Lasso(alpha=994.5783132530121),\n",
       " Lasso(alpha=1004.6144578313254),\n",
       " Lasso(alpha=1014.6506024096386),\n",
       " Lasso(alpha=1024.686746987952),\n",
       " Lasso(alpha=1034.7228915662652),\n",
       " Lasso(alpha=1044.7590361445784),\n",
       " Lasso(alpha=1054.7951807228917),\n",
       " Lasso(alpha=1064.831325301205),\n",
       " Lasso(alpha=1074.867469879518),\n",
       " Lasso(alpha=1084.9036144578313),\n",
       " Lasso(alpha=1094.9397590361446),\n",
       " Lasso(alpha=1104.9759036144578),\n",
       " Lasso(alpha=1115.012048192771),\n",
       " Lasso(alpha=1125.0481927710844),\n",
       " Lasso(alpha=1135.0843373493976),\n",
       " Lasso(alpha=1145.120481927711),\n",
       " Lasso(alpha=1155.1566265060242),\n",
       " Lasso(alpha=1165.1927710843374),\n",
       " Lasso(alpha=1175.2289156626507),\n",
       " Lasso(alpha=1185.265060240964),\n",
       " Lasso(alpha=1195.3012048192772),\n",
       " Lasso(alpha=1205.3373493975905),\n",
       " Lasso(alpha=1215.3734939759036),\n",
       " Lasso(alpha=1225.4096385542168),\n",
       " Lasso(alpha=1235.44578313253),\n",
       " Lasso(alpha=1245.4819277108434),\n",
       " Lasso(alpha=1255.5180722891566),\n",
       " Lasso(alpha=1265.55421686747),\n",
       " Lasso(alpha=1275.5903614457832),\n",
       " Lasso(alpha=1285.6265060240964),\n",
       " Lasso(alpha=1295.6626506024097),\n",
       " Lasso(alpha=1305.698795180723),\n",
       " Lasso(alpha=1315.7349397590363),\n",
       " Lasso(alpha=1325.7710843373495),\n",
       " Lasso(alpha=1335.8072289156628),\n",
       " Lasso(alpha=1345.843373493976),\n",
       " Lasso(alpha=1355.8795180722893),\n",
       " Lasso(alpha=1365.9156626506024),\n",
       " Lasso(alpha=1375.9518072289156),\n",
       " Lasso(alpha=1385.987951807229),\n",
       " Lasso(alpha=1396.0240963855422),\n",
       " Lasso(alpha=1406.0602409638554),\n",
       " Lasso(alpha=1416.0963855421687),\n",
       " Lasso(alpha=1426.132530120482),\n",
       " Lasso(alpha=1436.1686746987953),\n",
       " Lasso(alpha=1446.2048192771085),\n",
       " Lasso(alpha=1456.2409638554218),\n",
       " Lasso(alpha=1466.277108433735),\n",
       " Lasso(alpha=1476.3132530120483),\n",
       " Lasso(alpha=1486.3493975903616),\n",
       " Lasso(alpha=1496.3855421686749),\n",
       " Lasso(alpha=1506.421686746988),\n",
       " Lasso(alpha=1516.4578313253012),\n",
       " Lasso(alpha=1526.4939759036145),\n",
       " Lasso(alpha=1536.5301204819277),\n",
       " Lasso(alpha=1546.566265060241),\n",
       " Lasso(alpha=1556.6024096385543),\n",
       " Lasso(alpha=1566.6385542168675),\n",
       " Lasso(alpha=1576.6746987951808),\n",
       " Lasso(alpha=1586.710843373494),\n",
       " Lasso(alpha=1596.7469879518073),\n",
       " Lasso(alpha=1606.7831325301206),\n",
       " Lasso(alpha=1616.8192771084339),\n",
       " Lasso(alpha=1626.8554216867471),\n",
       " Lasso(alpha=1636.8915662650604),\n",
       " Lasso(alpha=1646.9277108433735),\n",
       " Lasso(alpha=1656.9638554216867),\n",
       " Lasso(alpha=1667.0),\n",
       " Lasso(alpha=1677.0361445783133),\n",
       " Lasso(alpha=1687.0722891566265),\n",
       " Lasso(alpha=1697.1084337349398),\n",
       " Lasso(alpha=1707.144578313253),\n",
       " Lasso(alpha=1717.1807228915663),\n",
       " Lasso(alpha=1727.2168674698796),\n",
       " Lasso(alpha=1737.2530120481929),\n",
       " Lasso(alpha=1747.2891566265062),\n",
       " Lasso(alpha=1757.3253012048194),\n",
       " Lasso(alpha=1767.3614457831327),\n",
       " Lasso(alpha=1777.397590361446),\n",
       " Lasso(alpha=1787.433734939759),\n",
       " Lasso(alpha=1797.4698795180723),\n",
       " Lasso(alpha=1807.5060240963855),\n",
       " Lasso(alpha=1817.5421686746988),\n",
       " Lasso(alpha=1827.578313253012),\n",
       " Lasso(alpha=1837.6144578313254),\n",
       " Lasso(alpha=1847.6506024096386),\n",
       " Lasso(alpha=1857.686746987952),\n",
       " Lasso(alpha=1867.7228915662652),\n",
       " Lasso(alpha=1877.7590361445784),\n",
       " Lasso(alpha=1887.7951807228917),\n",
       " Lasso(alpha=1897.831325301205),\n",
       " Lasso(alpha=1907.8674698795182),\n",
       " Lasso(alpha=1917.9036144578315),\n",
       " Lasso(alpha=1927.9397590361446),\n",
       " Lasso(alpha=1937.9759036144578),\n",
       " Lasso(alpha=1948.012048192771),\n",
       " Lasso(alpha=1958.0481927710844),\n",
       " Lasso(alpha=1968.0843373493976),\n",
       " Lasso(alpha=1978.120481927711),\n",
       " Lasso(alpha=1988.1566265060242),\n",
       " Lasso(alpha=1998.1927710843374),\n",
       " Lasso(alpha=2008.2289156626507),\n",
       " Lasso(alpha=2018.265060240964),\n",
       " Lasso(alpha=2028.3012048192772),\n",
       " Lasso(alpha=2038.3373493975905),\n",
       " Lasso(alpha=2048.373493975904),\n",
       " Lasso(alpha=2058.409638554217),\n",
       " Lasso(alpha=2068.4457831325303),\n",
       " Lasso(alpha=2078.4819277108436),\n",
       " Lasso(alpha=2088.518072289157),\n",
       " Lasso(alpha=2098.55421686747),\n",
       " Lasso(alpha=2108.5903614457834),\n",
       " Lasso(alpha=2118.6265060240967),\n",
       " Lasso(alpha=2128.66265060241),\n",
       " Lasso(alpha=2138.698795180723),\n",
       " Lasso(alpha=2148.734939759036),\n",
       " Lasso(alpha=2158.7710843373493),\n",
       " Lasso(alpha=2168.8072289156626),\n",
       " Lasso(alpha=2178.843373493976),\n",
       " Lasso(alpha=2188.879518072289),\n",
       " Lasso(alpha=2198.9156626506024),\n",
       " Lasso(alpha=2208.9518072289156),\n",
       " Lasso(alpha=2218.987951807229),\n",
       " Lasso(alpha=2229.024096385542),\n",
       " Lasso(alpha=2239.0602409638554),\n",
       " Lasso(alpha=2249.0963855421687),\n",
       " Lasso(alpha=2259.132530120482),\n",
       " Lasso(alpha=2269.1686746987953),\n",
       " Lasso(alpha=2279.2048192771085),\n",
       " Lasso(alpha=2289.240963855422),\n",
       " Lasso(alpha=2299.277108433735),\n",
       " Lasso(alpha=2309.3132530120483),\n",
       " Lasso(alpha=2319.3493975903616),\n",
       " Lasso(alpha=2329.385542168675),\n",
       " Lasso(alpha=2339.421686746988),\n",
       " Lasso(alpha=2349.4578313253014),\n",
       " Lasso(alpha=2359.4939759036147),\n",
       " Lasso(alpha=2369.530120481928),\n",
       " Lasso(alpha=2379.566265060241),\n",
       " Lasso(alpha=2389.6024096385545),\n",
       " Lasso(alpha=2399.6385542168678),\n",
       " Lasso(alpha=2409.674698795181),\n",
       " Lasso(alpha=2419.7108433734943),\n",
       " Lasso(alpha=2429.746987951807),\n",
       " Lasso(alpha=2439.7831325301204),\n",
       " Lasso(alpha=2449.8192771084337),\n",
       " Lasso(alpha=2459.855421686747),\n",
       " Lasso(alpha=2469.89156626506),\n",
       " Lasso(alpha=2479.9277108433735),\n",
       " Lasso(alpha=2489.9638554216867),\n",
       " Lasso(alpha=2500.0)]"
      ]
     },
     "execution_count": 46,
     "metadata": {},
     "output_type": "execute_result"
    }
   ],
   "source": [
    "ls_models"
   ]
  },
  {
   "cell_type": "code",
   "execution_count": 47,
   "metadata": {},
   "outputs": [
    {
     "data": {
      "image/png": "[encoded data removed]",
      "text/plain": [
       "<Figure size 432x288 with 1 Axes>"
      ]
     },
     "metadata": {
      "needs_background": "light"
     },
     "output_type": "display_data"
    }
   ],
   "source": [
    "# Get training error for LASSO regression\n",
    "plot_error_v_lambda(\n",
    "    models=ls_models, \n",
    "    lambdas=lambdas, \n",
    "    X=x_train, \n",
    "    y=y_train, \n",
    "    label='Lambdas vs Traininig Error\\nLASSO'\n",
    ")"
   ]
  },
  {
   "cell_type": "code",
   "execution_count": 48,
   "metadata": {},
   "outputs": [
    {
     "data": {
      "image/png": "[encoded data removed]",
      "text/plain": [
       "<Figure size 432x288 with 1 Axes>"
      ]
     },
     "metadata": {
      "needs_background": "light"
     },
     "output_type": "display_data"
    }
   ],
   "source": [
    "# Get validation error for LASSO regression\n",
    "plot_error_v_lambda(\n",
    "    models=ls_models, \n",
    "    lambdas=lambdas, \n",
    "    X=x_test, \n",
    "    y=y_test, \n",
    "    label='Lambdas vs Validation Error\\nLASSO'\n",
    ")"
   ]
  },
  {
   "cell_type": "code",
   "execution_count": null,
   "metadata": {},
   "outputs": [],
   "source": []
  },
  {
   "cell_type": "markdown",
   "metadata": {},
   "source": [
    "### Task 3: Resampling\n",
    "\n",
    "For the Housing Data: (Complete Data set, not only training from Task 1)\n",
    "\n",
    "1. Cross Validation: Perform Multiple Linear Regression with K-fold cross validation. You can choose K = 5.    \n",
    "Report: \n",
    "    a. Regression Coeffs for each dataset. \n",
    "    b. Cross validation Error. \n",
    "\n",
    "2. Bootstrapping: Create 10 different datasets each with 3N/4 data samples using bootstrapping (i.e. Resampling with replacement), where N = total numbers of data samples in Housing Data. Perform Multiple Linear Regression on 10 datasets you created.\n",
    "\n",
    "Report:   \n",
    "\n",
    "a. Regression Coeffs for each dataset.  \n",
    "b. Average error. \n",
    "\n",
    "You can write your own resample fucntions but feel free to use scikit learn resample. \n",
    "\n",
    "\n",
    "\n"
   ]
  }
 ],
 "metadata": {
  "interpreter": {
   "hash": "c6e4e9f98eb68ad3b7c296f83d20e6de614cb42e90992a65aa266555a3137d0d"
  },
  "kernelspec": {
   "display_name": "ml",
   "language": "python",
   "name": "ml"
  },
  "language_info": {
   "codemirror_mode": {
    "name": "ipython",
    "version": 3
   },
   "file_extension": ".py",
   "mimetype": "text/x-python",
   "name": "python",
   "nbconvert_exporter": "python",
   "pygments_lexer": "ipython3",
   "version": "3.9.10"
  }
 },
 "nbformat": 4,
 "nbformat_minor": 2
}
