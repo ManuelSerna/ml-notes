{
 "cells": [
  {
   "cell_type": "markdown",
   "metadata": {},
   "source": [
    "# Submission for Mini Project 2--Manuel Serna-Aguilera\n",
    "Name: Manuel Serna-Aguilera\n",
    "\n",
    "CSCE 5063 Machine Learning\n",
    "\n",
    "Spring 2022"
   ]
  },
  {
   "cell_type": "markdown",
   "metadata": {},
   "source": [
    "# Miniproject 2 : Linear Regression\n",
    "In this mini project we will implement linear regression      \n",
    "-Dataset Ames Housing Dataset\n",
    "\n",
    "We will learn:    \n",
    "    How to implement our own Simple Linear Regression and Multiple Linear Regression using Gradient Descent.    \n",
    "    How to use built in Scikit Learn Library to do the same tasks. \n",
    "    Some other little trick and tweaks on data pre processing and visualization. \n",
    "\n",
    "    (Note you do not need glmnet or statmodels for this. You could use statmodel library instead of scikit learn but here we will use scikit learn.)\n"
   ]
  },
  {
   "cell_type": "markdown",
   "metadata": {},
   "source": [
    "### Import all libraries and depandancies. \n",
    "I import everything that I installed in the environment, so I do not have to worry about it later. But it is not always a best practice to do so.     \n",
    "Note: I use mlxtend to do some scatter plot. You will need to install mlxtend library on your environment  using      \n",
    "\n",
    "(csce5063) unakarmi@cover:~/Courses$ conda install -c conda-forge mlxtend\n",
    "\n",
    "Details about mlxtend on : \n",
    "https://anaconda.org/conda-forge/mlxtend\n",
    "\n",
    "For students who are not familiar with Python Class and objects this mini-project is a good opportunity to learn how to create your own python class, memeber fucntions and class objects.\n",
    "\n",
    "\n"
   ]
  },
  {
   "cell_type": "code",
   "execution_count": 1,
   "metadata": {},
   "outputs": [],
   "source": [
    "import sys\n",
    "import torch\n",
    "import pandas as pd\n",
    "import sklearn as sk\n",
    "import IPython as ipy\n",
    "import numpy as np\n",
    "import matplotlib as mpl\n",
    "import seaborn as sns\n",
    "import sklearn as skl\n",
    "import statsmodels as sm\n",
    "import scipy as sp\n",
    "#import pydot as pdt\n",
    "import patsy as pat\n",
    "#import glmnet as gln\n",
    "\n",
    "import matplotlib.pyplot as plt\n",
    "\n",
    "import mlxtend\n",
    "from mlxtend.plotting import scatterplotmatrix    # For scatter plots of columns of dataframe"
   ]
  },
  {
   "cell_type": "markdown",
   "metadata": {},
   "source": [
    "### Load Dataset and Explore Data\n",
    "\n",
    "- Dataset source: http://jse.amstat.org/v19n3/decock/AmesHousing.txt\n",
    "- Dataset documentation: http://jse.amstat.org/v19n3/decock/DataDocumentation.txt\n",
    "- Dataset write-up: http://jse.amstat.org/v19n3/decock.pdf\n",
    "\n",
    "Dataset has many predcitors/input variable. We will only use 5 input variables and a output varaible (SalePrice) defined in columns. "
   ]
  },
  {
   "cell_type": "code",
   "execution_count": 2,
   "metadata": {},
   "outputs": [
    {
     "data": {
      "text/html": [
       "<div>\n",
       "<style scoped>\n",
       "    .dataframe tbody tr th:only-of-type {\n",
       "        vertical-align: middle;\n",
       "    }\n",
       "\n",
       "    .dataframe tbody tr th {\n",
       "        vertical-align: top;\n",
       "    }\n",
       "\n",
       "    .dataframe thead th {\n",
       "        text-align: right;\n",
       "    }\n",
       "</style>\n",
       "<table border=\"1\" class=\"dataframe\">\n",
       "  <thead>\n",
       "    <tr style=\"text-align: right;\">\n",
       "      <th></th>\n",
       "      <th>Overall Qual</th>\n",
       "      <th>Overall Cond</th>\n",
       "      <th>Total Bsmt SF</th>\n",
       "      <th>Central Air</th>\n",
       "      <th>Gr Liv Area</th>\n",
       "      <th>SalePrice</th>\n",
       "    </tr>\n",
       "  </thead>\n",
       "  <tbody>\n",
       "    <tr>\n",
       "      <th>0</th>\n",
       "      <td>6</td>\n",
       "      <td>5</td>\n",
       "      <td>1080.0</td>\n",
       "      <td>Y</td>\n",
       "      <td>1656</td>\n",
       "      <td>215000</td>\n",
       "    </tr>\n",
       "    <tr>\n",
       "      <th>1</th>\n",
       "      <td>5</td>\n",
       "      <td>6</td>\n",
       "      <td>882.0</td>\n",
       "      <td>Y</td>\n",
       "      <td>896</td>\n",
       "      <td>105000</td>\n",
       "    </tr>\n",
       "    <tr>\n",
       "      <th>2</th>\n",
       "      <td>6</td>\n",
       "      <td>6</td>\n",
       "      <td>1329.0</td>\n",
       "      <td>Y</td>\n",
       "      <td>1329</td>\n",
       "      <td>172000</td>\n",
       "    </tr>\n",
       "    <tr>\n",
       "      <th>3</th>\n",
       "      <td>7</td>\n",
       "      <td>5</td>\n",
       "      <td>2110.0</td>\n",
       "      <td>Y</td>\n",
       "      <td>2110</td>\n",
       "      <td>244000</td>\n",
       "    </tr>\n",
       "    <tr>\n",
       "      <th>4</th>\n",
       "      <td>5</td>\n",
       "      <td>5</td>\n",
       "      <td>928.0</td>\n",
       "      <td>Y</td>\n",
       "      <td>1629</td>\n",
       "      <td>189900</td>\n",
       "    </tr>\n",
       "  </tbody>\n",
       "</table>\n",
       "</div>"
      ],
      "text/plain": [
       "   Overall Qual  Overall Cond  Total Bsmt SF Central Air  Gr Liv Area  \\\n",
       "0             6             5         1080.0           Y         1656   \n",
       "1             5             6          882.0           Y          896   \n",
       "2             6             6         1329.0           Y         1329   \n",
       "3             7             5         2110.0           Y         2110   \n",
       "4             5             5          928.0           Y         1629   \n",
       "\n",
       "   SalePrice  \n",
       "0     215000  \n",
       "1     105000  \n",
       "2     172000  \n",
       "3     244000  \n",
       "4     189900  "
      ]
     },
     "execution_count": 2,
     "metadata": {},
     "output_type": "execute_result"
    }
   ],
   "source": [
    "columns = ['Overall Qual', 'Overall Cond', 'Gr Liv Area',\n",
    "           'Central Air', 'Total Bsmt SF', 'SalePrice']\n",
    "\n",
    "df = pd.read_csv('http://jse.amstat.org/v19n3/decock/AmesHousing.txt', \n",
    "                 sep='\\t',\n",
    "                 usecols=columns)\n",
    "df.head()  \n",
    "             "
   ]
  },
  {
   "cell_type": "code",
   "execution_count": 3,
   "metadata": {},
   "outputs": [
    {
     "data": {
      "text/plain": [
       "(2930, 6)"
      ]
     },
     "execution_count": 3,
     "metadata": {},
     "output_type": "execute_result"
    }
   ],
   "source": [
    "df.shape"
   ]
  },
  {
   "cell_type": "markdown",
   "metadata": {},
   "source": [
    "### Preprocess Data\n",
    "-Remove null   \n",
    "-Map Central Air from Y(Yes) No(N)  to 1 and 0"
   ]
  },
  {
   "cell_type": "code",
   "execution_count": 4,
   "metadata": {},
   "outputs": [
    {
     "data": {
      "text/plain": [
       "Overall Qual     0\n",
       "Overall Cond     0\n",
       "Total Bsmt SF    1\n",
       "Central Air      0\n",
       "Gr Liv Area      0\n",
       "SalePrice        0\n",
       "dtype: int64"
      ]
     },
     "execution_count": 4,
     "metadata": {},
     "output_type": "execute_result"
    }
   ],
   "source": [
    "# Remove rows that contain missing values and check if there exist any null\n",
    "df.isnull().sum()"
   ]
  },
  {
   "cell_type": "code",
   "execution_count": 5,
   "metadata": {},
   "outputs": [
    {
     "data": {
      "text/plain": [
       "Overall Qual     0\n",
       "Overall Cond     0\n",
       "Total Bsmt SF    0\n",
       "Central Air      0\n",
       "Gr Liv Area      0\n",
       "SalePrice        0\n",
       "dtype: int64"
      ]
     },
     "execution_count": 5,
     "metadata": {},
     "output_type": "execute_result"
    }
   ],
   "source": [
    "df = df.dropna(axis=0)\n",
    "df.isnull().sum()"
   ]
  },
  {
   "cell_type": "code",
   "execution_count": 6,
   "metadata": {},
   "outputs": [
    {
     "data": {
      "text/html": [
       "<div>\n",
       "<style scoped>\n",
       "    .dataframe tbody tr th:only-of-type {\n",
       "        vertical-align: middle;\n",
       "    }\n",
       "\n",
       "    .dataframe tbody tr th {\n",
       "        vertical-align: top;\n",
       "    }\n",
       "\n",
       "    .dataframe thead th {\n",
       "        text-align: right;\n",
       "    }\n",
       "</style>\n",
       "<table border=\"1\" class=\"dataframe\">\n",
       "  <thead>\n",
       "    <tr style=\"text-align: right;\">\n",
       "      <th></th>\n",
       "      <th>Overall Qual</th>\n",
       "      <th>Overall Cond</th>\n",
       "      <th>Total Bsmt SF</th>\n",
       "      <th>Central Air</th>\n",
       "      <th>Gr Liv Area</th>\n",
       "      <th>SalePrice</th>\n",
       "    </tr>\n",
       "  </thead>\n",
       "  <tbody>\n",
       "    <tr>\n",
       "      <th>0</th>\n",
       "      <td>6</td>\n",
       "      <td>5</td>\n",
       "      <td>1080.0</td>\n",
       "      <td>1</td>\n",
       "      <td>1656</td>\n",
       "      <td>215000</td>\n",
       "    </tr>\n",
       "    <tr>\n",
       "      <th>1</th>\n",
       "      <td>5</td>\n",
       "      <td>6</td>\n",
       "      <td>882.0</td>\n",
       "      <td>1</td>\n",
       "      <td>896</td>\n",
       "      <td>105000</td>\n",
       "    </tr>\n",
       "    <tr>\n",
       "      <th>2</th>\n",
       "      <td>6</td>\n",
       "      <td>6</td>\n",
       "      <td>1329.0</td>\n",
       "      <td>1</td>\n",
       "      <td>1329</td>\n",
       "      <td>172000</td>\n",
       "    </tr>\n",
       "    <tr>\n",
       "      <th>3</th>\n",
       "      <td>7</td>\n",
       "      <td>5</td>\n",
       "      <td>2110.0</td>\n",
       "      <td>1</td>\n",
       "      <td>2110</td>\n",
       "      <td>244000</td>\n",
       "    </tr>\n",
       "    <tr>\n",
       "      <th>4</th>\n",
       "      <td>5</td>\n",
       "      <td>5</td>\n",
       "      <td>928.0</td>\n",
       "      <td>1</td>\n",
       "      <td>1629</td>\n",
       "      <td>189900</td>\n",
       "    </tr>\n",
       "  </tbody>\n",
       "</table>\n",
       "</div>"
      ],
      "text/plain": [
       "   Overall Qual  Overall Cond  Total Bsmt SF  Central Air  Gr Liv Area  \\\n",
       "0             6             5         1080.0            1         1656   \n",
       "1             5             6          882.0            1          896   \n",
       "2             6             6         1329.0            1         1329   \n",
       "3             7             5         2110.0            1         2110   \n",
       "4             5             5          928.0            1         1629   \n",
       "\n",
       "   SalePrice  \n",
       "0     215000  \n",
       "1     105000  \n",
       "2     172000  \n",
       "3     244000  \n",
       "4     189900  "
      ]
     },
     "execution_count": 6,
     "metadata": {},
     "output_type": "execute_result"
    }
   ],
   "source": [
    "df['Central Air'] = df['Central Air'].map({'N': 0, 'Y': 1})\n",
    "df.head()\n",
    "# Note how the values for Central Air Input has changed fron Y N to 1 0"
   ]
  },
  {
   "cell_type": "markdown",
   "metadata": {},
   "source": [
    "### Visualization of relation between different columns in data (inputs and output)\n",
    "\n",
    "For this, I use mlxtend library. This is a great library for many visualization using matplotlib. If you prefer to write your own feel free to do so.  "
   ]
  },
  {
   "cell_type": "code",
   "execution_count": 7,
   "metadata": {},
   "outputs": [
    {
     "data": {
      "image/png": "[encoded data removed]",
      "text/plain": [
       "<Figure size 864x720 with 36 Axes>"
      ]
     },
     "metadata": {
      "needs_background": "light"
     },
     "output_type": "display_data"
    }
   ],
   "source": [
    "scatterplotmatrix(df.to_numpy(), figsize=(12, 10), \n",
    "                  names=df.columns, alpha=0.5)\n",
    "plt.tight_layout()\n",
    "#plt.savefig('figures/09_04.png', dpi=300)\n",
    "plt.show()"
   ]
  },
  {
   "cell_type": "code",
   "execution_count": 8,
   "metadata": {},
   "outputs": [
    {
     "data": {
      "image/png": "[encoded data removed]",
      "text/plain": [
       "<Figure size 432x288 with 2 Axes>"
      ]
     },
     "metadata": {
      "needs_background": "light"
     },
     "output_type": "display_data"
    }
   ],
   "source": [
    "from mlxtend.plotting import heatmap\n",
    "\n",
    "cm = np.corrcoef(df.to_numpy().T)\n",
    "hm = heatmap(cm, row_names=df.columns, column_names=df.columns)\n",
    "\n",
    "plt.tight_layout()\n",
    "plt.show()"
   ]
  },
  {
   "cell_type": "markdown",
   "metadata": {},
   "source": [
    "## Task 1: DONE\n",
    "Implement Simple Linear Regression using Gradient Descent.     \n",
    "For Task 1, I have provided most of the code, you just need to fill in an appropriate expression for errors term in the fit() fucntion below on the line with \"Write your error term here\". \n",
    "You might want to look at the last lecture for linear regression and find out how we compute Gradient \n",
    "\n"
   ]
  },
  {
   "cell_type": "markdown",
   "metadata": {},
   "source": [
    "### Task 1 Response\n",
    "* I added `errors = y - output` in the training loop."
   ]
  },
  {
   "cell_type": "code",
   "execution_count": 9,
   "metadata": {},
   "outputs": [],
   "source": [
    "# A Simple class for performing Simple Linear Regression using Gradient Descent(GD). \n",
    "# \n",
    "class SLRGD:\n",
    "    def __init__(self, eta=0.01, n_iter=50, random_state=1):\n",
    "        ''' Constructor\n",
    "        param eta: (number) learning rate/step\n",
    "        param n_iter: (int) number of times to iterate over all data samples X\n",
    "        param random_state: maybe seed for RNG\n",
    "        '''\n",
    "        self.eta = eta\n",
    "        self.n_iter = n_iter\n",
    "        self.random_state = random_state\n",
    "        \n",
    "        # Parameters\n",
    "        self.beta = None\n",
    "        self.intercept = None\n",
    "        \n",
    "        # Loss\n",
    "        self.losses = None\n",
    "    \n",
    "    # A member function that fits input X to output y using GD\n",
    "    def fit(self, X, y):\n",
    "        ''' Fit linear reg. classifier to data\n",
    "        param X: (numpy ndarray) (N, 1)-shaped array for N data samples\n",
    "            NOTE: data put through StandardScaler() from sklearn\n",
    "        param y: (numpy ndarray) (N,)-shaped array for corresponding samples' outputs\n",
    "            NOTE: data put through StandardScaler() from sklearn\n",
    "        \n",
    "        return: SLRGD object ready for classification\n",
    "        '''\n",
    "        rgen = np.random.RandomState(self.random_state)\n",
    "        self.beta = rgen.normal(loc=0.0, scale=0.01, size=X.shape[1])\n",
    "        self.intercept = np.array([0.])\n",
    "        self.losses = []\n",
    "        \n",
    "        for i in range(self.n_iter):\n",
    "            output = self.net_input(X)\n",
    "            errors = y - output\n",
    "\n",
    "            # Update parameters of Linear Regression\n",
    "            self.beta+= self.eta * 2.0 * X.T.dot(errors) / X.shape[0]\n",
    "            self.intercept += self.eta * 2.0 * errors.mean()\n",
    "            \n",
    "            loss = (errors**2).mean()\n",
    "            self.losses.append(loss)\n",
    "        return self\n",
    "\n",
    "    def net_input(self, X):\n",
    "        return np.dot(X, self.beta) + self.intercept\n",
    "\n",
    "    def predict(self, X):\n",
    "        '''\n",
    "        param X: (numpy ndarray) (N, 1)-shaped array for N data samples\n",
    "            NOTE: data put through StandardScaler()\n",
    "        return: (ndarray) TODO\n",
    "        '''\n",
    "        return self.net_input(X)"
   ]
  },
  {
   "cell_type": "code",
   "execution_count": 10,
   "metadata": {},
   "outputs": [],
   "source": [
    "# Use ' Gr Liv Area ' as an input to test our SLRGD\n",
    "X = df[['Gr Liv Area']].values\n",
    "y = df['SalePrice'].values"
   ]
  },
  {
   "cell_type": "code",
   "execution_count": 11,
   "metadata": {},
   "outputs": [
    {
     "name": "stdout",
     "output_type": "stream",
     "text": [
      "X ((2929, 1)):\n",
      "[[1656]\n",
      " [ 896]\n",
      " [1329]\n",
      " ...\n",
      " [ 970]\n",
      " [1389]\n",
      " [2000]]\n"
     ]
    }
   ],
   "source": [
    "print('X ({}):\\n{}'.format(X.shape, X))"
   ]
  },
  {
   "cell_type": "code",
   "execution_count": 12,
   "metadata": {},
   "outputs": [],
   "source": [
    "# Standarize in Input and  output before performing SLR \n",
    "#  (For Linear Regression with Least sqaure we can actually do wihtout \n",
    "#  standarization but here we will standarize for the sake of our understanding)\n",
    "# We will use sklearn StandardSclaer class to standarize the inputs and outputs. \n",
    "#  You might want to look for some information on StandardSclaer. \n",
    "from sklearn.preprocessing import StandardScaler\n",
    "\n",
    "sc_x = StandardScaler() \n",
    "sc_y = StandardScaler()\n",
    "X_std = sc_x.fit_transform(X)\n",
    "y_std = sc_y.fit_transform(y[:, np.newaxis]).flatten()"
   ]
  },
  {
   "cell_type": "code",
   "execution_count": 13,
   "metadata": {},
   "outputs": [
    {
     "name": "stdout",
     "output_type": "stream",
     "text": [
      "SLR coefficient beta =  [0.70661837]\n",
      "SLR intercept =  [-1.58289223e-16]\n"
     ]
    },
    {
     "data": {
      "image/png": "[encoded data removed]",
      "text/plain": [
       "<Figure size 432x288 with 1 Axes>"
      ]
     },
     "metadata": {
      "needs_background": "light"
     },
     "output_type": "display_data"
    }
   ],
   "source": [
    "# Fit Simple Linear Regression Model on y vs X, print coeff of \n",
    "#  simple linear regression and show error plot\n",
    "SLR = SLRGD(eta=0.1)  # Try with different eta values: eta = 0.01 , 0.1, 0.5 and notice how yout error vs epochs curve changes. \n",
    "SLR.fit(X_std, y_std)\n",
    "print('SLR coefficient beta = ', SLR.beta)\n",
    "print('SLR intercept = ', SLR.intercept)\n",
    "plt.plot(range(1, SLR.n_iter+1), SLR.losses)\n",
    "plt.ylabel('MSE')\n",
    "plt.xlabel('Epoch')\n",
    "plt.tight_layout()\n",
    "plt.title('Simple Linear Regression: Training Error vs Epochs')\n",
    "plt.show()"
   ]
  },
  {
   "cell_type": "code",
   "execution_count": 14,
   "metadata": {},
   "outputs": [],
   "source": [
    "# Fucntion to plot Simple Linear Regression  and plot SLR curve(line) we just computed\n",
    "def lin_regplot(X, y, model):\n",
    "    plt.scatter(X, y, c='steelblue', edgecolor='white', s=25)\n",
    "    plt.plot(X, model.predict(X), color='red', lw=1)    \n",
    "    return "
   ]
  },
  {
   "cell_type": "code",
   "execution_count": 15,
   "metadata": {},
   "outputs": [
    {
     "data": {
      "image/png": "[encoded data removed]",
      "text/plain": [
       "<Figure size 432x288 with 1 Axes>"
      ]
     },
     "metadata": {
      "needs_background": "light"
     },
     "output_type": "display_data"
    }
   ],
   "source": [
    "# Plot the Simple Linear Regression we computed for Sales vs Living Area\n",
    "lin_regplot(X_std, y_std, SLR)\n",
    "plt.xlabel('Living area above ground (standardized)')\n",
    "plt.ylabel('Sale price (standardized)')\n",
    "plt.show()"
   ]
  },
  {
   "cell_type": "code",
   "execution_count": 16,
   "metadata": {},
   "outputs": [
    {
     "name": "stdout",
     "output_type": "stream",
     "text": [
      "*scaled* output:  [2.09740902]\n"
     ]
    }
   ],
   "source": [
    "# Predict the Housing Price for some living area using predict() in SLRGD we performed\n",
    "area = np.array([[3000]])\n",
    "input_std = sc_x.transform(area)\n",
    "output_std = SLR.predict(input_std)\n",
    "print('*scaled* output: ', output_std) \n",
    "# Note this output value (Sales price) does not make sense. \n",
    "#  We need to transform back the sales"
   ]
  },
  {
   "cell_type": "code",
   "execution_count": 17,
   "metadata": {},
   "outputs": [
    {
     "name": "stdout",
     "output_type": "stream",
     "text": [
      "Sale price: $348339.418\n"
     ]
    }
   ],
   "source": [
    "target_reverted = sc_y.inverse_transform(output_std.reshape(-1, 1)) # Note we need to transform the target back to orginal scale\n",
    "print(f'Sale price: ${target_reverted.flatten()[0]:.3f}')\n",
    "# Note the new invserse transformed predicted Sales price for a house with \n",
    "#  living area space of 3000 makes sense now. "
   ]
  },
  {
   "cell_type": "markdown",
   "metadata": {},
   "source": [
    "## Task 2: DONE\n",
    "a) Immplement Multiple Linear Regression     \n",
    " \n",
    "Create LRGD class similar to SLRGD class but is able to perform multiple linear regression. i.e. take more than 1 input. "
   ]
  },
  {
   "cell_type": "markdown",
   "metadata": {},
   "source": [
    "### Task 2 Response\n",
    "* The class `LRGD` is very much the same as `SLRGD`, except our self.beta is now potentially greater than 1. Nothing really new was added on top of the `SLRGD` class."
   ]
  },
  {
   "cell_type": "code",
   "execution_count": 18,
   "metadata": {},
   "outputs": [],
   "source": [
    "class LRGD:\n",
    "    ''' Linear Regression Classifier class\n",
    "    - Allows for use of more than one input variable\n",
    "    '''\n",
    "    def __init__(self, eta=0.01, n_iter=50, random_state=1):\n",
    "        ''' Constructor\n",
    "        param eta: (number) learning rate/step\n",
    "        param n_iter: (int) number of times to iterate over all data samples X\n",
    "        param random_state: maybe seed for RNG\n",
    "        '''\n",
    "        self.eta = eta\n",
    "        self.n_iter = n_iter\n",
    "        self.random_state = random_state\n",
    "        \n",
    "        # Parameters\n",
    "        self.beta = None\n",
    "        self.intercept = None\n",
    "        \n",
    "        # Loss\n",
    "        self.losses = None\n",
    "    \n",
    "    def fit(self, X, y):\n",
    "        ''' Fit linear reg. classifier to data\n",
    "        param X: (numpy ndarray) (N, p)-shaped array for N data samples for p predictors\n",
    "            NOTE: data put through StandardScaler() from sklearn\n",
    "        param y: (numpy ndarray) (N,)-shaped array for corresponding samples' outputs\n",
    "            NOTE: data put through StandardScaler() from sklearn\n",
    "        \n",
    "        return: LRGD object ready for classification\n",
    "        '''\n",
    "        n = X.shape[0] # number of samples\n",
    "        p = X.shape[1] # number of coefficients for each predictor\n",
    "        rgen = np.random.RandomState(self.random_state)\n",
    "        self.beta = rgen.normal(loc=0.0, scale=0.01, size=p)\n",
    "        self.intercept = np.array([0.])\n",
    "        self.losses = []\n",
    "        \n",
    "        for i in range(self.n_iter):\n",
    "            output = self.net_input(X)\n",
    "            dE = y - output\n",
    "\n",
    "            # Update parameters of Linear Regression\n",
    "            self.beta += self.eta * 2.0 * X.T.dot(dE) / n\n",
    "            self.intercept += self.eta * 2.0 * dE.mean()\n",
    "            \n",
    "            loss = (dE**2).mean()\n",
    "            self.losses.append(loss)\n",
    "        return self\n",
    "\n",
    "    def net_input(self, X):\n",
    "        return np.dot(X, self.beta) + self.intercept\n",
    "\n",
    "    def predict(self, X):\n",
    "        '''\n",
    "        param X: (numpy ndarray) (N, p)-shaped array for N data samples for p predictors\n",
    "            NOTE: data put through StandardScaler()\n",
    "        return: (ndarray) TODO\n",
    "        '''\n",
    "        return self.net_input(X)"
   ]
  },
  {
   "cell_type": "markdown",
   "metadata": {},
   "source": [
    "## Task 3: DONE\n",
    "\n",
    "a) Perform Multiple Linear Regression on SalePrice vs 5 inputs ('Overall Qual', 'Overall Cond', 'Gr Liv Area',\n",
    "           'Central Air', 'Total Bsmt SF', ) using your new LRGD class.    \n",
    "           \n",
    "b) Print all the coefficients of linear Regression like we did above for SLRGD. Now you will have intercept and many other coefficients.        \n",
    "           \n",
    "Note: You might need to first convert categorical variable 'Central Air'  to dummy variable using pd.getdummies() to get dummy variable, pd.drop() to drop the origianl 'Central Air' input and then add dummy variables you created for 'Central Air' into your input dataframe."
   ]
  },
  {
   "cell_type": "markdown",
   "metadata": {},
   "source": [
    "### Task 3 Response\n",
    "* First I prepare the input data `X_mult` that will be fed into the `LRGD` class (and eventually the linear regression object from sklearn. ***Note that all classifiers train and predict on the scaled data values***.\n",
    "* `beta_1` corresponds to the `Gr Liv Area` input, `beta_2` corresponds to `Central Air`, etc. Essentially, the ordering of the column labels for the dataframe reversed."
   ]
  },
  {
   "cell_type": "markdown",
   "metadata": {},
   "source": [
    "### Prepare dataset"
   ]
  },
  {
   "cell_type": "code",
   "execution_count": 19,
   "metadata": {},
   "outputs": [],
   "source": [
    "# Keep names for inputs.\n",
    "# Regression models will have the coefficients in this order\n",
    "names = ['Gr Liv Area', 'Central Air', 'Total Bsmt SF', 'Overall Cond', 'Overall Qual']"
   ]
  },
  {
   "cell_type": "code",
   "execution_count": 20,
   "metadata": {},
   "outputs": [
    {
     "data": {
      "text/html": [
       "<div>\n",
       "<style scoped>\n",
       "    .dataframe tbody tr th:only-of-type {\n",
       "        vertical-align: middle;\n",
       "    }\n",
       "\n",
       "    .dataframe tbody tr th {\n",
       "        vertical-align: top;\n",
       "    }\n",
       "\n",
       "    .dataframe thead th {\n",
       "        text-align: right;\n",
       "    }\n",
       "</style>\n",
       "<table border=\"1\" class=\"dataframe\">\n",
       "  <thead>\n",
       "    <tr style=\"text-align: right;\">\n",
       "      <th></th>\n",
       "      <th>Overall Qual</th>\n",
       "      <th>Overall Cond</th>\n",
       "      <th>Total Bsmt SF</th>\n",
       "      <th>Central Air</th>\n",
       "      <th>Gr Liv Area</th>\n",
       "      <th>SalePrice</th>\n",
       "    </tr>\n",
       "  </thead>\n",
       "  <tbody>\n",
       "    <tr>\n",
       "      <th>0</th>\n",
       "      <td>6</td>\n",
       "      <td>5</td>\n",
       "      <td>1080.0</td>\n",
       "      <td>1</td>\n",
       "      <td>1656</td>\n",
       "      <td>215000</td>\n",
       "    </tr>\n",
       "    <tr>\n",
       "      <th>1</th>\n",
       "      <td>5</td>\n",
       "      <td>6</td>\n",
       "      <td>882.0</td>\n",
       "      <td>1</td>\n",
       "      <td>896</td>\n",
       "      <td>105000</td>\n",
       "    </tr>\n",
       "    <tr>\n",
       "      <th>2</th>\n",
       "      <td>6</td>\n",
       "      <td>6</td>\n",
       "      <td>1329.0</td>\n",
       "      <td>1</td>\n",
       "      <td>1329</td>\n",
       "      <td>172000</td>\n",
       "    </tr>\n",
       "    <tr>\n",
       "      <th>3</th>\n",
       "      <td>7</td>\n",
       "      <td>5</td>\n",
       "      <td>2110.0</td>\n",
       "      <td>1</td>\n",
       "      <td>2110</td>\n",
       "      <td>244000</td>\n",
       "    </tr>\n",
       "    <tr>\n",
       "      <th>4</th>\n",
       "      <td>5</td>\n",
       "      <td>5</td>\n",
       "      <td>928.0</td>\n",
       "      <td>1</td>\n",
       "      <td>1629</td>\n",
       "      <td>189900</td>\n",
       "    </tr>\n",
       "  </tbody>\n",
       "</table>\n",
       "</div>"
      ],
      "text/plain": [
       "   Overall Qual  Overall Cond  Total Bsmt SF  Central Air  Gr Liv Area  \\\n",
       "0             6             5         1080.0            1         1656   \n",
       "1             5             6          882.0            1          896   \n",
       "2             6             6         1329.0            1         1329   \n",
       "3             7             5         2110.0            1         2110   \n",
       "4             5             5          928.0            1         1629   \n",
       "\n",
       "   SalePrice  \n",
       "0     215000  \n",
       "1     105000  \n",
       "2     172000  \n",
       "3     244000  \n",
       "4     189900  "
      ]
     },
     "execution_count": 20,
     "metadata": {},
     "output_type": "execute_result"
    }
   ],
   "source": [
    "# Display dataframe with categorical var CentralAir\n",
    "df.head()"
   ]
  },
  {
   "cell_type": "code",
   "execution_count": 21,
   "metadata": {},
   "outputs": [
    {
     "data": {
      "text/html": [
       "<div>\n",
       "<style scoped>\n",
       "    .dataframe tbody tr th:only-of-type {\n",
       "        vertical-align: middle;\n",
       "    }\n",
       "\n",
       "    .dataframe tbody tr th {\n",
       "        vertical-align: top;\n",
       "    }\n",
       "\n",
       "    .dataframe thead th {\n",
       "        text-align: right;\n",
       "    }\n",
       "</style>\n",
       "<table border=\"1\" class=\"dataframe\">\n",
       "  <thead>\n",
       "    <tr style=\"text-align: right;\">\n",
       "      <th></th>\n",
       "      <th>Overall Qual</th>\n",
       "      <th>Overall Cond</th>\n",
       "      <th>Total Bsmt SF</th>\n",
       "      <th>Central Air</th>\n",
       "      <th>Gr Liv Area</th>\n",
       "      <th>SalePrice</th>\n",
       "    </tr>\n",
       "  </thead>\n",
       "  <tbody>\n",
       "    <tr>\n",
       "      <th>0</th>\n",
       "      <td>6</td>\n",
       "      <td>5</td>\n",
       "      <td>1080.0</td>\n",
       "      <td>0</td>\n",
       "      <td>1656</td>\n",
       "      <td>215000</td>\n",
       "    </tr>\n",
       "    <tr>\n",
       "      <th>1</th>\n",
       "      <td>5</td>\n",
       "      <td>6</td>\n",
       "      <td>882.0</td>\n",
       "      <td>0</td>\n",
       "      <td>896</td>\n",
       "      <td>105000</td>\n",
       "    </tr>\n",
       "    <tr>\n",
       "      <th>2</th>\n",
       "      <td>6</td>\n",
       "      <td>6</td>\n",
       "      <td>1329.0</td>\n",
       "      <td>0</td>\n",
       "      <td>1329</td>\n",
       "      <td>172000</td>\n",
       "    </tr>\n",
       "    <tr>\n",
       "      <th>3</th>\n",
       "      <td>7</td>\n",
       "      <td>5</td>\n",
       "      <td>2110.0</td>\n",
       "      <td>0</td>\n",
       "      <td>2110</td>\n",
       "      <td>244000</td>\n",
       "    </tr>\n",
       "    <tr>\n",
       "      <th>4</th>\n",
       "      <td>5</td>\n",
       "      <td>5</td>\n",
       "      <td>928.0</td>\n",
       "      <td>0</td>\n",
       "      <td>1629</td>\n",
       "      <td>189900</td>\n",
       "    </tr>\n",
       "  </tbody>\n",
       "</table>\n",
       "</div>"
      ],
      "text/plain": [
       "   Overall Qual  Overall Cond  Total Bsmt SF  Central Air  Gr Liv Area  \\\n",
       "0             6             5         1080.0            0         1656   \n",
       "1             5             6          882.0            0          896   \n",
       "2             6             6         1329.0            0         1329   \n",
       "3             7             5         2110.0            0         2110   \n",
       "4             5             5          928.0            0         1629   \n",
       "\n",
       "   SalePrice  \n",
       "0     215000  \n",
       "1     105000  \n",
       "2     172000  \n",
       "3     244000  \n",
       "4     189900  "
      ]
     },
     "execution_count": 21,
     "metadata": {},
     "output_type": "execute_result"
    }
   ],
   "source": [
    "# Convert categorical var CentralAir to dummy values\n",
    "df['Central Air'] = pd.factorize(df['Central Air'])[0]\n",
    "df.head()"
   ]
  },
  {
   "cell_type": "code",
   "execution_count": 22,
   "metadata": {},
   "outputs": [
    {
     "name": "stdout",
     "output_type": "stream",
     "text": [
      "X_mult ((2929, 5)):\n",
      "[[1656.    0. 1080.    5.    6.]\n",
      " [ 896.    0.  882.    6.    5.]\n",
      " [1329.    0. 1329.    6.    6.]\n",
      " ...\n",
      " [ 970.    0.  912.    5.    5.]\n",
      " [1389.    0. 1389.    5.    5.]\n",
      " [2000.    0.  996.    5.    7.]]\n"
     ]
    }
   ],
   "source": [
    "# Assemble data\n",
    "X_mult = df[['Gr Liv Area', 'Central Air', 'Total Bsmt SF', 'Overall Cond', 'Overall Qual']].values\n",
    "y = df['SalePrice'].values\n",
    "\n",
    "print('X_mult ({}):\\n{}'.format(X_mult.shape, X_mult))\n",
    "#print(y)"
   ]
  },
  {
   "cell_type": "code",
   "execution_count": 23,
   "metadata": {},
   "outputs": [],
   "source": [
    "# Preprocess data for training and testing\n",
    "sc_x = StandardScaler()\n",
    "sc_y = StandardScaler()\n",
    "X_std_mult = sc_x.fit_transform(X_mult)\n",
    "y_std = sc_y.fit_transform(y[:, np.newaxis]).flatten()"
   ]
  },
  {
   "cell_type": "markdown",
   "metadata": {},
   "source": [
    "### (a) Perform MLR on SalePrice vs. the five input variables\n",
    "NOTE: MLR was performed on the **scaled** input data (```X_std_mult```)."
   ]
  },
  {
   "cell_type": "code",
   "execution_count": 24,
   "metadata": {},
   "outputs": [
    {
     "data": {
      "image/png": "[encoded data removed]",
      "text/plain": [
       "<Figure size 432x288 with 1 Axes>"
      ]
     },
     "metadata": {
      "needs_background": "light"
     },
     "output_type": "display_data"
    }
   ],
   "source": [
    "# Fit classifier\n",
    "MLR = LRGD(eta=0.1)\n",
    "MLR.fit(X_std_mult, y_std)\n",
    "plt.plot(range(1, MLR.n_iter+1), MLR.losses)\n",
    "plt.ylabel('MSE')\n",
    "plt.xlabel('Epoch')\n",
    "plt.tight_layout()\n",
    "plt.title('Multiple Linear Regression: Training Error vs Epochs')\n",
    "plt.show()"
   ]
  },
  {
   "cell_type": "code",
   "execution_count": 25,
   "metadata": {},
   "outputs": [
    {
     "name": "stdout",
     "output_type": "stream",
     "text": [
      "Sale price: $187737.386\n"
     ]
    }
   ],
   "source": [
    "# Test classifier on test data and compare actual with predicted\n",
    "area = np.array([[1656, 0, 1080, 5, 6]])\n",
    "input_std = sc_x.transform(area)\n",
    "output_std = MLR.predict(input_std)\n",
    "target_reverted = sc_y.inverse_transform(output_std.reshape(-1, 1))\n",
    "print(f'Sale price: ${target_reverted.flatten()[0]:.3f}')"
   ]
  },
  {
   "cell_type": "markdown",
   "metadata": {},
   "source": [
    "### (b) Print coefficients and intercepts"
   ]
  },
  {
   "cell_type": "code",
   "execution_count": 26,
   "metadata": {},
   "outputs": [
    {
     "name": "stdout",
     "output_type": "stream",
     "text": [
      "MLR coeffs beta:\n",
      "Gr Liv Area: 0.334462\n",
      "Central Air: -0.036452\n",
      "Total Bsmt SF: 0.215705\n",
      "Overall Cond: 0.015653\n",
      "Overall Qual: 0.480484\n",
      "MLR intercept: -0.000000\n"
     ]
    }
   ],
   "source": [
    "print('MLR coeffs beta:')\n",
    "for i in range(len(names)):\n",
    "    print('{}: {:.6f}'.format(names[i], MLR.beta[i]))\n",
    "\n",
    "print('MLR intercept: {:.6f}'.format(MLR.intercept[0]))"
   ]
  },
  {
   "cell_type": "markdown",
   "metadata": {},
   "source": [
    "## Task 4: DONE\n",
    "\n",
    "a) Use Scikit Learn library to do Simple Linear Regression and Multiple Linear Regression on Housing Data. For Simple Linear Regression you can only do for 'Gr Liv Area' as input variable.\n",
    "\n",
    "b) Print all coefficients for both cases. \n",
    "\n",
    "c) Compare your coefficients from SLRGD, LRGD and ones that you got from using Scikit learn library. "
   ]
  },
  {
   "cell_type": "markdown",
   "metadata": {},
   "source": [
    "### Task 4 Responses\n",
    "* My own and sklearn's coefficients appear to be very similar. The intercepts are almost zero, but the digits starting from the third from the left begin to differ greatly."
   ]
  },
  {
   "cell_type": "markdown",
   "metadata": {},
   "source": [
    "### (a) Use sklearn to perform simple linear reg. and multiple linear reg."
   ]
  },
  {
   "cell_type": "code",
   "execution_count": 27,
   "metadata": {},
   "outputs": [
    {
     "data": {
      "text/plain": [
       "LinearRegression()"
      ]
     },
     "execution_count": 27,
     "metadata": {},
     "output_type": "execute_result"
    }
   ],
   "source": [
    "lr_model = sk.linear_model.LinearRegression()\n",
    "lr_model.fit(X_std, y_std)\n",
    "\n",
    "mlr_model = sk.linear_model.LinearRegression()\n",
    "mlr_model.fit(X_std_mult, y_std)"
   ]
  },
  {
   "cell_type": "markdown",
   "metadata": {},
   "source": [
    "### (b) Print sklearn coeffs for both regression tasks"
   ]
  },
  {
   "cell_type": "code",
   "execution_count": 28,
   "metadata": {},
   "outputs": [],
   "source": [
    "sk_lr_coeffs = [lr_model.intercept_] + [lr_model.coef_[0]]"
   ]
  },
  {
   "cell_type": "code",
   "execution_count": 29,
   "metadata": {},
   "outputs": [],
   "source": [
    "sk_mlr_coeffs = [mlr_model.intercept_] + [x for x in mlr_model.coef_[:]]"
   ]
  },
  {
   "cell_type": "code",
   "execution_count": 30,
   "metadata": {},
   "outputs": [
    {
     "name": "stdout",
     "output_type": "stream",
     "text": [
      "Linear Reg. coeffs (sklearn)\n",
      "coeff (Gr Liv Area): 0.706628\n",
      "intercept: -0.000000\n",
      "\n",
      "Multi Linear Reg. coeffs (sklearn)\n",
      "Gr Liv Area: -0.000000\n",
      "Central Air: 0.333200\n",
      "Total Bsmt SF: -0.036012\n",
      "Overall Cond: 0.214766\n",
      "Overall Qual: 0.015585\n"
     ]
    }
   ],
   "source": [
    "print('Linear Reg. coeffs (sklearn)')\n",
    "print('coeff (Gr Liv Area): {:.6f}'.format(sk_lr_coeffs[1]))\n",
    "print('intercept: {:.6f}'.format(sk_lr_coeffs[0]))\n",
    "\n",
    "print()\n",
    "print('Multi Linear Reg. coeffs (sklearn)')\n",
    "for i in range(len(names)):\n",
    "    print('{}: {:.6f}'.format(names[i], sk_mlr_coeffs[i]))"
   ]
  },
  {
   "cell_type": "markdown",
   "metadata": {},
   "source": [
    "### (c) Compare my own and sklearn's coeffs"
   ]
  },
  {
   "cell_type": "code",
   "execution_count": 31,
   "metadata": {},
   "outputs": [
    {
     "name": "stdout",
     "output_type": "stream",
     "text": [
      "Linear Reg. Parameters:\n",
      "              mine\tsklearn\n",
      "[Gr Liv Area] 0.706618\t0.706628\n",
      "[intercept]   -0.000000\t-0.000000\n"
     ]
    }
   ],
   "source": [
    "# Simple linear reg.\n",
    "print('Linear Reg. Parameters:')\n",
    "print('              mine\\tsklearn')\n",
    "print('[Gr Liv Area] {:.6f}\\t{:.6f}'.format(SLR.beta[0], sk_lr_coeffs[1]))\n",
    "print('[intercept]   {:.6f}\\t{:.6f}'.format(SLR.intercept[0], sk_lr_coeffs[0]))"
   ]
  },
  {
   "cell_type": "code",
   "execution_count": 32,
   "metadata": {},
   "outputs": [
    {
     "name": "stdout",
     "output_type": "stream",
     "text": [
      "Multi-Linear Reg. Parameters:\n",
      "[intercept]\tmine: -0.000000\tsklearn: -0.000000\n",
      "[Gr Liv Area]\tmine: 0.334462\tsklearn: 0.333200\n",
      "[Central Air]\tmine: -0.036452\tsklearn: -0.036012\n",
      "[Total Bsmt SF]\tmine: 0.215705\tsklearn: 0.214766\n",
      "[Overall Cond]\tmine: 0.015653\tsklearn: 0.015585\n",
      "[Overall Qual]\tmine: 0.480484\tsklearn: 0.482690\n"
     ]
    }
   ],
   "source": [
    "# Multi linear reg.\n",
    "print('Multi-Linear Reg. Parameters:')\n",
    "\n",
    "print('[intercept]\\tmine: {:.6f}\\tsklearn: {:.6f}'.format(MLR.intercept[0], sk_lr_coeffs[0]))\n",
    "for i in range(len(names)):\n",
    "    print('[{}]\\tmine: {:.6f}\\tsklearn: {:.6f}'.format(names[i], MLR.beta[i], sk_mlr_coeffs[i+1]))"
   ]
  },
  {
   "cell_type": "markdown",
   "metadata": {},
   "source": [
    "## Task 5 Multiple Linear Regression with modified input variable: DONE   \n",
    "Sometimes when we plot some input variable vs response, we might notice that the relation between input and response is highly-nonlinear (eg. quadratic) and we might want to include a quadratic term of that input variable in our linear regression. For example lets say we want to model a liner regression by assuming Salesprice is quadratic to 'Total Bsmt SF'. We can introduce a new input variable square of Total Bsmt SF.     \n",
    " \n",
    "-Create a new variable 'Mod Total Bsmt SF' = Total Bsmt SF*Total Bsmt SF. \n",
    "-Replace 'Total Bsmt SF' variable  with new varaible you created 'Mod Total Bsmt SF'\n",
    "-Do Multiple Linear Regression using scikit learn  using new input dataframe that has ('Overall Qual', 'Overall Cond', 'Gr Liv Area',\n",
    "           'Central Air', 'Mod Total Bsmt SF') as inputs.     \n",
    "-Compare Coeff you got in original multiple linear regression vs one with modified input. \n",
    "Make sure the order of all inputs are same in both cases: For example if 'Central Air' is 4th column in your original input data frame, make sure it is also in 4th column and so and so forth for other variables as well. "
   ]
  },
  {
   "cell_type": "code",
   "execution_count": 33,
   "metadata": {},
   "outputs": [
    {
     "data": {
      "text/html": [
       "<div>\n",
       "<style scoped>\n",
       "    .dataframe tbody tr th:only-of-type {\n",
       "        vertical-align: middle;\n",
       "    }\n",
       "\n",
       "    .dataframe tbody tr th {\n",
       "        vertical-align: top;\n",
       "    }\n",
       "\n",
       "    .dataframe thead th {\n",
       "        text-align: right;\n",
       "    }\n",
       "</style>\n",
       "<table border=\"1\" class=\"dataframe\">\n",
       "  <thead>\n",
       "    <tr style=\"text-align: right;\">\n",
       "      <th></th>\n",
       "      <th>Overall Qual</th>\n",
       "      <th>Overall Cond</th>\n",
       "      <th>Total Bsmt SF</th>\n",
       "      <th>Central Air</th>\n",
       "      <th>Gr Liv Area</th>\n",
       "      <th>SalePrice</th>\n",
       "      <th>Mod Total Bsmt SF</th>\n",
       "    </tr>\n",
       "  </thead>\n",
       "  <tbody>\n",
       "    <tr>\n",
       "      <th>0</th>\n",
       "      <td>6</td>\n",
       "      <td>5</td>\n",
       "      <td>1080.0</td>\n",
       "      <td>0</td>\n",
       "      <td>1656</td>\n",
       "      <td>215000</td>\n",
       "      <td>1166400.0</td>\n",
       "    </tr>\n",
       "    <tr>\n",
       "      <th>1</th>\n",
       "      <td>5</td>\n",
       "      <td>6</td>\n",
       "      <td>882.0</td>\n",
       "      <td>0</td>\n",
       "      <td>896</td>\n",
       "      <td>105000</td>\n",
       "      <td>777924.0</td>\n",
       "    </tr>\n",
       "    <tr>\n",
       "      <th>2</th>\n",
       "      <td>6</td>\n",
       "      <td>6</td>\n",
       "      <td>1329.0</td>\n",
       "      <td>0</td>\n",
       "      <td>1329</td>\n",
       "      <td>172000</td>\n",
       "      <td>1766241.0</td>\n",
       "    </tr>\n",
       "    <tr>\n",
       "      <th>3</th>\n",
       "      <td>7</td>\n",
       "      <td>5</td>\n",
       "      <td>2110.0</td>\n",
       "      <td>0</td>\n",
       "      <td>2110</td>\n",
       "      <td>244000</td>\n",
       "      <td>4452100.0</td>\n",
       "    </tr>\n",
       "    <tr>\n",
       "      <th>4</th>\n",
       "      <td>5</td>\n",
       "      <td>5</td>\n",
       "      <td>928.0</td>\n",
       "      <td>0</td>\n",
       "      <td>1629</td>\n",
       "      <td>189900</td>\n",
       "      <td>861184.0</td>\n",
       "    </tr>\n",
       "  </tbody>\n",
       "</table>\n",
       "</div>"
      ],
      "text/plain": [
       "   Overall Qual  Overall Cond  Total Bsmt SF  Central Air  Gr Liv Area  \\\n",
       "0             6             5         1080.0            0         1656   \n",
       "1             5             6          882.0            0          896   \n",
       "2             6             6         1329.0            0         1329   \n",
       "3             7             5         2110.0            0         2110   \n",
       "4             5             5          928.0            0         1629   \n",
       "\n",
       "   SalePrice  Mod Total Bsmt SF  \n",
       "0     215000          1166400.0  \n",
       "1     105000           777924.0  \n",
       "2     172000          1766241.0  \n",
       "3     244000          4452100.0  \n",
       "4     189900           861184.0  "
      ]
     },
     "execution_count": 33,
     "metadata": {},
     "output_type": "execute_result"
    }
   ],
   "source": [
    "# Get new dataframe--df with third predictor squared\n",
    "df['Mod Total Bsmt SF'] = df['Total Bsmt SF']**2\n",
    "df.head()"
   ]
  },
  {
   "cell_type": "code",
   "execution_count": 34,
   "metadata": {},
   "outputs": [],
   "source": [
    "# Create new input matrix X2\n",
    "X2 = df[['Gr Liv Area', 'Central Air', 'Mod Total Bsmt SF', 'Overall Cond', 'Overall Qual']].values\n",
    "y = df['SalePrice'].values"
   ]
  },
  {
   "cell_type": "code",
   "execution_count": 35,
   "metadata": {},
   "outputs": [],
   "source": [
    "# Transform input from new df (what we will train reg model on)\n",
    "X_std_mod = sc_x.fit_transform(X2)\n",
    "y_std = sc_y.fit_transform(y[:, np.newaxis]).flatten()"
   ]
  },
  {
   "cell_type": "code",
   "execution_count": 36,
   "metadata": {},
   "outputs": [
    {
     "data": {
      "text/plain": [
       "LinearRegression()"
      ]
     },
     "execution_count": 36,
     "metadata": {},
     "output_type": "execute_result"
    }
   ],
   "source": [
    "# Perform MLR again with new df\n",
    "mod_model = sk.linear_model.LinearRegression()\n",
    "mod_model.fit(X_std_mod, y_std)"
   ]
  },
  {
   "cell_type": "code",
   "execution_count": 37,
   "metadata": {},
   "outputs": [],
   "source": [
    "mod_coeffs = [mod_model.intercept_] + [x for x in mod_model.coef_[:]]"
   ]
  },
  {
   "cell_type": "markdown",
   "metadata": {},
   "source": [
    "***Note*** that the coefficient for `modified` for row `Total Bsmt SF` is the modified variable (i.e., `Total Bsmt SF**2`)."
   ]
  },
  {
   "cell_type": "code",
   "execution_count": 38,
   "metadata": {},
   "outputs": [
    {
     "name": "stdout",
     "output_type": "stream",
     "text": [
      "sklearn coefficients\n",
      "[intercept]\toriginal:-0.000000\tmodified:-0.000000\n",
      "[Gr Liv Area]\toriginal: 0.333200\tmodified: 0.339621\n",
      "[Central Air]\toriginal: -0.036012\tmodified: -0.052770\n",
      "[Total Bsmt SF]\toriginal: 0.214766\tmodified: 0.120692\n",
      "[Overall Cond]\toriginal: 0.015585\tmodified: 0.000959\n",
      "[Overall Qual]\toriginal: 0.482690\tmodified: 0.534252\n"
     ]
    }
   ],
   "source": [
    "# Compare coefficients\n",
    "new_names = names\n",
    "\n",
    "print('sklearn coefficients')\n",
    "print('[intercept]\\toriginal:{:.6f}\\tmodified:{:.6f}'.format(sk_mlr_coeffs[0], mod_coeffs[0]))\n",
    "\n",
    "for i in range(0, len(new_names)):\n",
    "    print('[{}]\\toriginal: {:.6f}\\tmodified: {:.6f}'.format(\n",
    "        new_names[i], \n",
    "        sk_mlr_coeffs[i+1],\n",
    "        mod_coeffs[i+1]\n",
    "        )\n",
    "    )"
   ]
  },
  {
   "cell_type": "markdown",
   "metadata": {},
   "source": [
    "***Note*** that the coefficient for `modified` for row `Total Bsmt SF` is the modified variable (i.e., `Total Bsmt SF**2`)."
   ]
  }
 ],
 "metadata": {
  "interpreter": {
   "hash": "dd09096a75bbf83bbe108368ef3dc184f6fd6cb21d30afea81835f982bc056dd"
  },
  "kernelspec": {
   "display_name": "ml",
   "language": "python",
   "name": "ml"
  },
  "language_info": {
   "codemirror_mode": {
    "name": "ipython",
    "version": 3
   },
   "file_extension": ".py",
   "mimetype": "text/x-python",
   "name": "python",
   "nbconvert_exporter": "python",
   "pygments_lexer": "ipython3",
   "version": "3.9.7"
  }
 },
 "nbformat": 4,
 "nbformat_minor": 2
}
