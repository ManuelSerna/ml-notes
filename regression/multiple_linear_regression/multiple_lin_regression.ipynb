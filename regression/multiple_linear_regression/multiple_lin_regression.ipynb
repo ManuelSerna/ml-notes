{
 "cells": [
  {
   "cell_type": "markdown",
   "id": "b37147af",
   "metadata": {},
   "source": [
    "# Mini Project 1: Multiple Linear Regression with Interaction Variable\n",
    "Author: Manuel Serna-Aguilera"
   ]
  },
  {
   "cell_type": "code",
   "execution_count": 1,
   "id": "15d1ce1f",
   "metadata": {},
   "outputs": [],
   "source": [
    "import matplotlib.pyplot as plt\n",
    "import numpy as np\n",
    "import pandas as pd\n",
    "import seaborn as sns # data visualization built on top of matplotlib\n",
    "import sklearn # use sklearn\n",
    "import statsmodels # estimates different statistical models\n",
    "\n",
    "import sklearn.linear_model as skl_lm\n",
    "import statsmodels.api as sm\n",
    "import statsmodels.formula.api as smf"
   ]
  },
  {
   "cell_type": "markdown",
   "id": "11f13e05",
   "metadata": {},
   "source": [
    "## 1. Load Advertising Data\n",
    "Note: The file ''Advertising.csv'' is located in a folder called ''data''. I added this file and directory manually."
   ]
  },
  {
   "cell_type": "code",
   "execution_count": 2,
   "id": "b058a519",
   "metadata": {},
   "outputs": [
    {
     "name": "stdout",
     "output_type": "stream",
     "text": [
      "<class 'pandas.core.frame.DataFrame'>\n",
      "RangeIndex: 200 entries, 0 to 199\n",
      "Data columns (total 4 columns):\n",
      " #   Column     Non-Null Count  Dtype  \n",
      "---  ------     --------------  -----  \n",
      " 0   TV         200 non-null    float64\n",
      " 1   radio      200 non-null    float64\n",
      " 2   newspaper  200 non-null    float64\n",
      " 3   sales      200 non-null    float64\n",
      "dtypes: float64(4)\n",
      "memory usage: 6.4 KB\n"
     ]
    }
   ],
   "source": [
    "advert_df = pd.read_csv('data/Advertising.csv', usecols=[1, 2, 3, 4])\n",
    "advert_df.info()"
   ]
  },
  {
   "cell_type": "code",
   "execution_count": 3,
   "id": "dae38c7f",
   "metadata": {},
   "outputs": [
    {
     "data": {
      "text/html": [
       "<div>\n",
       "<style scoped>\n",
       "    .dataframe tbody tr th:only-of-type {\n",
       "        vertical-align: middle;\n",
       "    }\n",
       "\n",
       "    .dataframe tbody tr th {\n",
       "        vertical-align: top;\n",
       "    }\n",
       "\n",
       "    .dataframe thead th {\n",
       "        text-align: right;\n",
       "    }\n",
       "</style>\n",
       "<table border=\"1\" class=\"dataframe\">\n",
       "  <thead>\n",
       "    <tr style=\"text-align: right;\">\n",
       "      <th></th>\n",
       "      <th>TV</th>\n",
       "      <th>radio</th>\n",
       "      <th>newspaper</th>\n",
       "      <th>sales</th>\n",
       "    </tr>\n",
       "  </thead>\n",
       "  <tbody>\n",
       "    <tr>\n",
       "      <th>0</th>\n",
       "      <td>230.1</td>\n",
       "      <td>37.8</td>\n",
       "      <td>69.2</td>\n",
       "      <td>22.1</td>\n",
       "    </tr>\n",
       "    <tr>\n",
       "      <th>1</th>\n",
       "      <td>44.5</td>\n",
       "      <td>39.3</td>\n",
       "      <td>45.1</td>\n",
       "      <td>10.4</td>\n",
       "    </tr>\n",
       "    <tr>\n",
       "      <th>2</th>\n",
       "      <td>17.2</td>\n",
       "      <td>45.9</td>\n",
       "      <td>69.3</td>\n",
       "      <td>9.3</td>\n",
       "    </tr>\n",
       "    <tr>\n",
       "      <th>3</th>\n",
       "      <td>151.5</td>\n",
       "      <td>41.3</td>\n",
       "      <td>58.5</td>\n",
       "      <td>18.5</td>\n",
       "    </tr>\n",
       "    <tr>\n",
       "      <th>4</th>\n",
       "      <td>180.8</td>\n",
       "      <td>10.8</td>\n",
       "      <td>58.4</td>\n",
       "      <td>12.9</td>\n",
       "    </tr>\n",
       "    <tr>\n",
       "      <th>5</th>\n",
       "      <td>8.7</td>\n",
       "      <td>48.9</td>\n",
       "      <td>75.0</td>\n",
       "      <td>7.2</td>\n",
       "    </tr>\n",
       "    <tr>\n",
       "      <th>6</th>\n",
       "      <td>57.5</td>\n",
       "      <td>32.8</td>\n",
       "      <td>23.5</td>\n",
       "      <td>11.8</td>\n",
       "    </tr>\n",
       "    <tr>\n",
       "      <th>7</th>\n",
       "      <td>120.2</td>\n",
       "      <td>19.6</td>\n",
       "      <td>11.6</td>\n",
       "      <td>13.2</td>\n",
       "    </tr>\n",
       "    <tr>\n",
       "      <th>8</th>\n",
       "      <td>8.6</td>\n",
       "      <td>2.1</td>\n",
       "      <td>1.0</td>\n",
       "      <td>4.8</td>\n",
       "    </tr>\n",
       "    <tr>\n",
       "      <th>9</th>\n",
       "      <td>199.8</td>\n",
       "      <td>2.6</td>\n",
       "      <td>21.2</td>\n",
       "      <td>10.6</td>\n",
       "    </tr>\n",
       "  </tbody>\n",
       "</table>\n",
       "</div>"
      ],
      "text/plain": [
       "      TV  radio  newspaper  sales\n",
       "0  230.1   37.8       69.2   22.1\n",
       "1   44.5   39.3       45.1   10.4\n",
       "2   17.2   45.9       69.3    9.3\n",
       "3  151.5   41.3       58.5   18.5\n",
       "4  180.8   10.8       58.4   12.9\n",
       "5    8.7   48.9       75.0    7.2\n",
       "6   57.5   32.8       23.5   11.8\n",
       "7  120.2   19.6       11.6   13.2\n",
       "8    8.6    2.1        1.0    4.8\n",
       "9  199.8    2.6       21.2   10.6"
      ]
     },
     "execution_count": 3,
     "metadata": {},
     "output_type": "execute_result"
    }
   ],
   "source": [
    "advert_df.head(10)"
   ]
  },
  {
   "cell_type": "code",
   "execution_count": 4,
   "id": "1993c4ef",
   "metadata": {},
   "outputs": [
    {
     "name": "stdout",
     "output_type": "stream",
     "text": [
      "Number of samples for TV: 200\n",
      "Number of samples for Radio: 200\n"
     ]
    }
   ],
   "source": [
    "print('Number of samples for TV: {}'.format(len(advert_df.TV)))\n",
    "print('Number of samples for Radio: {}'.format(len(advert_df.radio)))"
   ]
  },
  {
   "cell_type": "markdown",
   "id": "964859f2",
   "metadata": {},
   "source": [
    "## 2. Use 'smf' toolbox to compute Multiple Linear Regression with Interaction variable.\n",
    "Refer to specific import with alias `smf` in the import statements cell.\n",
    "\n",
    "The below formula will be used:\n",
    "```\n",
    "sales = beta0 + beta1*TV + beta2*radio + beta3(radio*TV) + e\n",
    "```\n",
    "where `e` is irreducible error."
   ]
  },
  {
   "cell_type": "code",
   "execution_count": 5,
   "id": "a80a3ccc",
   "metadata": {},
   "outputs": [],
   "source": [
    "# Create statsmodels model with the specified formula\n",
    "formula = 'sales ~ TV + radio + (radio*TV)'\n",
    "smf_model = smf.ols(formula=formula, data=advert_df).fit()"
   ]
  },
  {
   "cell_type": "code",
   "execution_count": 6,
   "id": "d587d169",
   "metadata": {},
   "outputs": [
    {
     "data": {
      "text/html": [
       "<table class=\"simpletable\">\n",
       "<tr>\n",
       "      <td></td>         <th>coef</th>     <th>std err</th>      <th>t</th>      <th>P>|t|</th>  <th>[0.025</th>    <th>0.975]</th>  \n",
       "</tr>\n",
       "<tr>\n",
       "  <th>Intercept</th> <td>    6.7502</td> <td>    0.248</td> <td>   27.233</td> <td> 0.000</td> <td>    6.261</td> <td>    7.239</td>\n",
       "</tr>\n",
       "<tr>\n",
       "  <th>TV</th>        <td>    0.0191</td> <td>    0.002</td> <td>   12.699</td> <td> 0.000</td> <td>    0.016</td> <td>    0.022</td>\n",
       "</tr>\n",
       "<tr>\n",
       "  <th>radio</th>     <td>    0.0289</td> <td>    0.009</td> <td>    3.241</td> <td> 0.001</td> <td>    0.011</td> <td>    0.046</td>\n",
       "</tr>\n",
       "<tr>\n",
       "  <th>radio:TV</th>  <td>    0.0011</td> <td> 5.24e-05</td> <td>   20.727</td> <td> 0.000</td> <td>    0.001</td> <td>    0.001</td>\n",
       "</tr>\n",
       "</table>"
      ],
      "text/plain": [
       "<class 'statsmodels.iolib.table.SimpleTable'>"
      ]
     },
     "execution_count": 6,
     "metadata": {},
     "output_type": "execute_result"
    }
   ],
   "source": [
    "smf_model.summary().tables[1]"
   ]
  },
  {
   "cell_type": "markdown",
   "id": "c5ea0b61",
   "metadata": {},
   "source": [
    "## 3. Use sklearn to compute Multiple Linear Regression with Interaction variable.\n",
    "Goal: Find the coefficients for the features/variables/predictors\n",
    "1. `Intercept`, \n",
    "2. `TV`, \n",
    "3. `Radio`, and\n",
    "4. `Radio*TV`\n",
    "and compare scikit-learn results with smf."
   ]
  },
  {
   "cell_type": "code",
   "execution_count": 7,
   "id": "5501cd4d",
   "metadata": {},
   "outputs": [],
   "source": [
    "# Create feature matrix with interaction term\n",
    "import patsy\n",
    "\n",
    "data = advert_df[['sales', 'TV', 'radio']]\n",
    "y, x = patsy.dmatrices('sales ~ TV + radio + TV:radio', data)"
   ]
  },
  {
   "cell_type": "code",
   "execution_count": 8,
   "id": "5030b010",
   "metadata": {},
   "outputs": [],
   "source": [
    "model = sklearn.linear_model.LinearRegression()"
   ]
  },
  {
   "cell_type": "code",
   "execution_count": 9,
   "id": "b3758f54",
   "metadata": {},
   "outputs": [
    {
     "data": {
      "text/plain": [
       "LinearRegression()"
      ]
     },
     "execution_count": 9,
     "metadata": {},
     "output_type": "execute_result"
    }
   ],
   "source": [
    "model.fit(x, y)"
   ]
  },
  {
   "cell_type": "markdown",
   "id": "27991dbf",
   "metadata": {},
   "source": [
    "## 4. Compare 'smf' and scikit-learn coefficients"
   ]
  },
  {
   "cell_type": "code",
   "execution_count": 10,
   "id": "c2b9f90c",
   "metadata": {},
   "outputs": [],
   "source": [
    "# Grab smf coefficients\n",
    "smf_coefs = [x for x in smf_model.params]"
   ]
  },
  {
   "cell_type": "code",
   "execution_count": 11,
   "id": "e5648d76",
   "metadata": {},
   "outputs": [],
   "source": [
    "# Grab sk-learn coefficients\n",
    "skl_coefs = [model.intercept_[0]] + [x for x in model.coef_[0,1:]]"
   ]
  },
  {
   "cell_type": "code",
   "execution_count": 12,
   "id": "59893b58",
   "metadata": {},
   "outputs": [],
   "source": [
    "assert len(smf_coefs) == len(skl_coefs)"
   ]
  },
  {
   "cell_type": "code",
   "execution_count": 14,
   "id": "f429382c",
   "metadata": {},
   "outputs": [
    {
     "name": "stdout",
     "output_type": "stream",
     "text": [
      "Intercepts: smf=6.75022 sk-learn=6.75022\n",
      "TV:         smf=0.01910 sk-learn=0.01910\n",
      "Radio:      smf=0.02886 sk-learn=0.02886\n",
      "TV*Radio:   smf=0.00109 sk-learn=0.00109\n"
     ]
    }
   ],
   "source": [
    "print('Intercepts: smf={:.5f} sk-learn={:.5f}'.format(smf_coefs[0], skl_coefs[0]))\n",
    "print('TV:         smf={:.5f} sk-learn={:.5f}'.format(smf_coefs[1], skl_coefs[1]))\n",
    "print('Radio:      smf={:.5f} sk-learn={:.5f}'.format(smf_coefs[2], skl_coefs[2]))\n",
    "print('TV*Radio:   smf={:.5f} sk-learn={:.5f}'.format(smf_coefs[3], skl_coefs[3]))"
   ]
  },
  {
   "cell_type": "markdown",
   "id": "219846d3",
   "metadata": {},
   "source": [
    "The values computed using sklearn appear to be the same as those computed using 'smf', at least up to several significant digits to the right of the decimal point (up to what eight bytes for a float allows)."
   ]
  }
 ],
 "metadata": {
  "kernelspec": {
   "display_name": "Python 3",
   "language": "python",
   "name": "python3"
  },
  "language_info": {
   "codemirror_mode": {
    "name": "ipython",
    "version": 3
   },
   "file_extension": ".py",
   "mimetype": "text/x-python",
   "name": "python",
   "nbconvert_exporter": "python",
   "pygments_lexer": "ipython3",
   "version": "3.9.7"
  }
 },
 "nbformat": 4,
 "nbformat_minor": 5
}
